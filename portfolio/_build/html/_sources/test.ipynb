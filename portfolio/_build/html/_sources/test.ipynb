{
 "cells": [
  {
   "cell_type": "code",
   "execution_count": 5,
   "id": "73defc08-cb08-456b-bb5b-ffce8baf78c5",
   "metadata": {},
   "outputs": [],
   "source": [
    "import os\n",
    "os.environ['DISPLAY'] = ':99'\n",
    "os.environ['PYVISTA_TRAME_SERVER_PROXY_PREFIX'] = '/proxy/{port}'\n",
    "\n",
    "import pyvista as pv\n",
    "pv.set_jupyter_backend('trame')\n",
    "pv.global_theme.background = 'white'\n",
    "pv.global_theme.window_size = [600, 400]\n"
   ]
  },
  {
   "cell_type": "code",
   "execution_count": 6,
   "id": "168b8b60-9954-4d7c-b270-a59feebddfb1",
   "metadata": {
    "editable": true,
    "slideshow": {
     "slide_type": ""
    },
    "tags": []
   },
   "outputs": [
    {
     "data": {
      "application/vnd.jupyter.widget-view+json": {
       "model_id": "85e481eb7fd2433aadd56006b6519ec7",
       "version_major": 2,
       "version_minor": 0
      },
      "text/plain": [
       "Widget(value='<iframe src=\"http://localhost:51464/index.html?ui=P_0x1588d1be0_3&reconnect=auto\" class=\"pyvista…"
      ]
     },
     "metadata": {},
     "output_type": "display_data"
    }
   ],
   "source": [
    "# Importer les modules nécessaires\n",
    "import pyvista as pv\n",
    "from pyvista import examples\n",
    "\n",
    "# Créer une simple sphère\n",
    "sphere = pv.Sphere(radius=1.0, center=(0, 0, 0))\n",
    "\n",
    "# Initialiser un Plotter pour afficher la géométrie\n",
    "plotter = pv.Plotter()\n",
    "plotter.add_mesh(sphere, color=\"cyan\", show_edges=True)\n",
    "plotter.add_axes()  # Ajoute des axes pour faciliter la visualisation\n",
    "plotter.show()\n"
   ]
  },
  {
   "cell_type": "code",
   "execution_count": null,
   "id": "05b632c0-54f5-4f93-96e4-b95acd8e2f23",
   "metadata": {
    "editable": true,
    "slideshow": {
     "slide_type": ""
    },
    "tags": []
   },
   "outputs": [],
   "source": []
  }
 ],
 "metadata": {
  "kernelspec": {
   "display_name": "Python 3 (ipykernel)",
   "language": "python",
   "name": "python3"
  },
  "language_info": {
   "codemirror_mode": {
    "name": "ipython",
    "version": 3
   },
   "file_extension": ".py",
   "mimetype": "text/x-python",
   "name": "python",
   "nbconvert_exporter": "python",
   "pygments_lexer": "ipython3",
   "version": "3.12.4"
  }
 },
 "nbformat": 4,
 "nbformat_minor": 5
}
