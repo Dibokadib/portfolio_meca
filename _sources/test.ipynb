{
 "cells": [
  {
   "cell_type": "markdown",
   "metadata": {},
   "source": [
    "Lesson Overview\n",
    "===============\n",
    "\n",
    "This exercise provides an overview of the example in the initial lesson\n",
    "for you to try out!\n"
   ]
  },
  {
   "cell_type": "code",
   "execution_count": 1,
   "metadata": {
    "collapsed": false,
    "jupyter": {
     "outputs_hidden": false
    }
   },
   "outputs": [],
   "source": [
    "import numpy as np\n",
    "import pyvista as pv\n",
    "from pyvista import examples"
   ]
  },
  {
   "cell_type": "markdown",
   "metadata": {},
   "source": [
    "What is a Point?\n",
    "================\n",
    "\n",
    "Let\\'s start with a point cloud - this is a mesh type that only has\n",
    "vertices. You can create one by defining a 2D array of Cartesian\n",
    "coordinates like so:\n"
   ]
  },
  {
   "cell_type": "code",
   "execution_count": 2,
   "metadata": {
    "collapsed": false,
    "jupyter": {
     "outputs_hidden": false
    }
   },
   "outputs": [
    {
     "data": {
      "text/plain": [
       "array([[0.66522931, 0.11104956, 0.52431771],\n",
       "       [0.52774171, 0.22610935, 0.74586791],\n",
       "       [0.62913311, 0.97232158, 0.69827601],\n",
       "       [0.91926435, 0.48031197, 0.48688392],\n",
       "       [0.53825718, 0.93058544, 0.24673435]])"
      ]
     },
     "execution_count": 2,
     "metadata": {},
     "output_type": "execute_result"
    }
   ],
   "source": [
    "points = np.random.rand(100, 3)\n",
    "points[:5, :]  # output first 5 rows"
   ]
  },
  {
   "cell_type": "markdown",
   "metadata": {},
   "source": [
    "Pass numpy array of points (n by 3) to PolyData\n"
   ]
  },
  {
   "cell_type": "code",
   "execution_count": 3,
   "metadata": {
    "collapsed": false,
    "jupyter": {
     "outputs_hidden": false
    }
   },
   "outputs": [
    {
     "data": {
      "text/html": [
       "\n",
       "<table style='width: 100%;'>\n",
       "<tr><th>PolyData</th><th>Information</th></tr>\n",
       "<tr><td>N Cells</td><td>100</td></tr>\n",
       "<tr><td>N Points</td><td>100</td></tr>\n",
       "<tr><td>N Strips</td><td>0</td></tr>\n",
       "<tr><td>X Bounds</td><td>3.831e-03, 9.998e-01</td></tr>\n",
       "<tr><td>Y Bounds</td><td>8.714e-03, 9.999e-01</td></tr>\n",
       "<tr><td>Z Bounds</td><td>6.576e-03, 9.995e-01</td></tr>\n",
       "<tr><td>N Arrays</td><td>0</td></tr>\n",
       "</table>\n",
       "\n"
      ],
      "text/plain": [
       "PolyData (0x108964400)\n",
       "  N Cells:    100\n",
       "  N Points:   100\n",
       "  N Strips:   0\n",
       "  X Bounds:   3.831e-03, 9.998e-01\n",
       "  Y Bounds:   8.714e-03, 9.999e-01\n",
       "  Z Bounds:   6.576e-03, 9.995e-01\n",
       "  N Arrays:   0"
      ]
     },
     "execution_count": 3,
     "metadata": {},
     "output_type": "execute_result"
    }
   ],
   "source": [
    "mesh = pv.PolyData(points)\n",
    "mesh"
   ]
  },
  {
   "cell_type": "code",
   "execution_count": 4,
   "metadata": {
    "collapsed": false,
    "jupyter": {
     "outputs_hidden": false
    }
   },
   "outputs": [
    {
     "data": {
      "application/vnd.jupyter.widget-view+json": {
       "model_id": "3add603d09864499b90dfc2c74922683",
       "version_major": 2,
       "version_minor": 0
      },
      "text/plain": [
       "Widget(value='<iframe src=\"http://localhost:50711/index.html?ui=P_0x15b8de7e0_0&reconnect=auto\" class=\"pyvista…"
      ]
     },
     "metadata": {},
     "output_type": "display_data"
    },
    {
     "name": "stdout",
     "output_type": "stream",
     "text": [
      " JS Error => error: TypeError: can't convert BigInt to number\n",
      " JS Error => error: TypeError: can't convert BigInt to number\n"
     ]
    }
   ],
   "source": [
    "mesh.plot(point_size=10, style=\"points\")"
   ]
  },
  {
   "cell_type": "markdown",
   "metadata": {},
   "source": [
    "But it\\'s important to note that most meshes have some sort of\n",
    "connectivity between points such as this gridded mesh:\n"
   ]
  },
  {
   "cell_type": "code",
   "execution_count": 5,
   "metadata": {
    "collapsed": false,
    "jupyter": {
     "outputs_hidden": false
    }
   },
   "outputs": [
    {
     "data": {
      "application/vnd.jupyter.widget-view+json": {
       "model_id": "fe7d016b7403457f93d1ddd1a860cc97",
       "version_major": 2,
       "version_minor": 0
      },
      "text/plain": [
       "Widget(value='<iframe src=\"http://localhost:50711/index.html?ui=P_0x160618c20_1&reconnect=auto\" class=\"pyvista…"
      ]
     },
     "metadata": {},
     "output_type": "display_data"
    }
   ],
   "source": [
    "mesh = examples.load_hexbeam()\n",
    "cpos = [(6.20, 3.00, 7.50), (0.16, 0.13, 2.65), (-0.28, 0.94, -0.21)]\n",
    "\n",
    "pl = pv.Plotter()\n",
    "pl.add_mesh(mesh, show_edges=True, color=\"white\")\n",
    "pl.add_points(mesh.points, color=\"red\", point_size=20, render_points_as_spheres=True)\n",
    "pl.camera_position = cpos\n",
    "pl.show()"
   ]
  },
  {
   "cell_type": "code",
   "execution_count": 6,
   "metadata": {
    "collapsed": false,
    "jupyter": {
     "outputs_hidden": false
    }
   },
   "outputs": [
    {
     "data": {
      "application/vnd.jupyter.widget-view+json": {
       "model_id": "8230281898c64035acace073cac6ac37",
       "version_major": 2,
       "version_minor": 0
      },
      "text/plain": [
       "Widget(value='<iframe src=\"http://localhost:50711/index.html?ui=P_0x167e0bbc0_2&reconnect=auto\" class=\"pyvista…"
      ]
     },
     "metadata": {},
     "output_type": "display_data"
    }
   ],
   "source": [
    "mesh = examples.download_bunny_coarse()\n",
    "\n",
    "pl = pv.Plotter()\n",
    "pl.add_mesh(mesh, show_edges=True, color=\"white\")\n",
    "pl.add_points(mesh.points, color=\"red\", point_size=10)\n",
    "pl.camera_position = [(0.02, 0.30, 0.73), (0.02, 0.03, -0.022), (-0.03, 0.94, -0.34)]\n",
    "pl.show()"
   ]
  },
  {
   "cell_type": "markdown",
   "metadata": {},
   "source": [
    "What is a Cell?\n",
    "===============\n",
    "\n",
    "A cell is the geometry between points that defines the connectivity or\n",
    "topology of a mesh. In the examples above, cells are defined by the\n",
    "lines (edges colored in black) connecting points (colored in red). For\n",
    "example, a cell in the beam example is a voxel defined by the region\n",
    "between eight points in that mesh:\n"
   ]
  },
  {
   "cell_type": "code",
   "execution_count": 7,
   "metadata": {
    "collapsed": false,
    "jupyter": {
     "outputs_hidden": false
    }
   },
   "outputs": [
    {
     "data": {
      "application/vnd.jupyter.widget-view+json": {
       "model_id": "6c417436ef934e7faa9d8037ce74a639",
       "version_major": 2,
       "version_minor": 0
      },
      "text/plain": [
       "Widget(value='<iframe src=\"http://localhost:50711/index.html?ui=P_0x169cc74d0_3&reconnect=auto\" class=\"pyvista…"
      ]
     },
     "metadata": {},
     "output_type": "display_data"
    }
   ],
   "source": [
    "mesh = examples.load_hexbeam()\n",
    "\n",
    "pl = pv.Plotter()\n",
    "pl.add_mesh(mesh, show_edges=True, color=\"white\")\n",
    "pl.add_points(mesh.points, color=\"red\", point_size=20)\n",
    "\n",
    "single_cell = mesh.extract_cells(mesh.n_cells - 1)\n",
    "pl.add_mesh(single_cell, color=\"pink\", edge_color=\"blue\", line_width=5, show_edges=True)\n",
    "\n",
    "pl.camera_position = [(6.20, 3.00, 7.50), (0.16, 0.13, 2.65), (-0.28, 0.94, -0.21)]\n",
    "pl.show()"
   ]
  },
  {
   "cell_type": "markdown",
   "metadata": {},
   "source": [
    "Cells aren\\'t limited to voxels, they could be a triangle between three\n",
    "points, a line between two points, or even a single point could be its\n",
    "own cell (but that\\'s a special case).\n"
   ]
  },
  {
   "cell_type": "markdown",
   "metadata": {},
   "source": [
    "What are attributes?\n",
    "====================\n",
    "\n",
    "Attributes are data values that live on either the points or cells of a\n",
    "mesh. In PyVista, we work with both point data and cell data and allow\n",
    "easy access to data dictionaries to hold arrays for attributes that live\n",
    "either on all points or on all cells of a mesh. These attributes can be\n",
    "accessed in a dictionary-like attribute attached to any PyVista mesh\n",
    "accessible as one of the following:\n"
   ]
  },
  {
   "cell_type": "markdown",
   "metadata": {},
   "source": [
    "Point Data\n",
    "==========\n",
    "\n",
    "Point data refers to arrays of values (scalars, vectors, etc.) that live\n",
    "on each point of the mesh. Each element in an attribute array\n",
    "corresponds to a point in the mesh. Let\\'s create some point data for\n",
    "the beam mesh. When plotting, the values between points are interpolated\n",
    "across the cells.\n"
   ]
  },
  {
   "cell_type": "code",
   "execution_count": 8,
   "metadata": {
    "collapsed": false,
    "jupyter": {
     "outputs_hidden": false
    }
   },
   "outputs": [
    {
     "data": {
      "application/vnd.jupyter.widget-view+json": {
       "model_id": "a86691537eb24a29abf610b7c91ed2aa",
       "version_major": 2,
       "version_minor": 0
      },
      "text/plain": [
       "Widget(value='<iframe src=\"http://localhost:50711/index.html?ui=P_0x172aef860_4&reconnect=auto\" class=\"pyvista…"
      ]
     },
     "metadata": {},
     "output_type": "display_data"
    }
   ],
   "source": [
    "mesh.point_data[\"my point values\"] = np.arange(mesh.n_points)\n",
    "mesh.plot(scalars=\"my point values\", cpos=cpos, show_edges=True)"
   ]
  },
  {
   "cell_type": "markdown",
   "metadata": {},
   "source": [
    "Cell Data\n",
    "=========\n",
    "\n",
    "Cell data refers to arrays of values (scalars, vectors, etc.) that live\n",
    "throughout each cell of the mesh. That is the entire cell (2D face or 3D\n",
    "volume) is assigned the value of that attribute.\n"
   ]
  },
  {
   "cell_type": "code",
   "execution_count": 9,
   "metadata": {
    "collapsed": false,
    "jupyter": {
     "outputs_hidden": false
    },
    "scrolled": true
   },
   "outputs": [
    {
     "data": {
      "application/vnd.jupyter.widget-view+json": {
       "model_id": "6b8972d540ba486ea45372eddf1775ff",
       "version_major": 2,
       "version_minor": 0
      },
      "text/plain": [
       "Widget(value='<iframe src=\"http://localhost:50711/index.html?ui=P_0x169cc7c80_5&reconnect=auto\" class=\"pyvista…"
      ]
     },
     "metadata": {},
     "output_type": "display_data"
    }
   ],
   "source": [
    "mesh.cell_data[\"my cell values\"] = np.arange(mesh.n_cells)\n",
    "mesh.plot(scalars=\"my cell values\", cpos=cpos, show_edges=True)"
   ]
  },
  {
   "cell_type": "markdown",
   "metadata": {},
   "source": [
    "Here\\'s a comparison of point data versus cell data and how point data\n",
    "is interpolated across cells when mapping colors. This is unlike cell\n",
    "data which has a single value across the cell\\'s domain:\n"
   ]
  },
  {
   "cell_type": "code",
   "execution_count": 10,
   "metadata": {
    "collapsed": false,
    "jupyter": {
     "outputs_hidden": false
    }
   },
   "outputs": [
    {
     "data": {
      "application/vnd.jupyter.widget-view+json": {
       "model_id": "d4369192a8e2412d9b8c05f2d5dfebf3",
       "version_major": 2,
       "version_minor": 0
      },
      "text/plain": [
       "Widget(value='<iframe src=\"http://localhost:50711/index.html?ui=P_0x172c4ad20_6&reconnect=auto\" class=\"pyvista…"
      ]
     },
     "metadata": {},
     "output_type": "display_data"
    }
   ],
   "source": [
    "import pyvista as pv\n",
    "from pyvista import examples\n",
    "\n",
    "uni = examples.load_uniform()\n",
    "\n",
    "pl = pv.Plotter(shape=(1, 2), border=False)\n",
    "pl.add_mesh(uni, scalars=\"Spatial Point Data\", show_edges=True)\n",
    "pl.subplot(0, 1)\n",
    "pl.add_mesh(uni, scalars=\"Spatial Cell Data\", show_edges=True)\n",
    "pl.link_views()\n",
    "pl.show()"
   ]
  },
  {
   "cell_type": "markdown",
   "metadata": {},
   "source": [
    "Field Data\n",
    "==========\n",
    "\n",
    "Field data is not directly associated with either the points or cells\n",
    "but still should be attached to the mesh. This may be a string array\n",
    "storing notes.\n"
   ]
  },
  {
   "cell_type": "code",
   "execution_count": 11,
   "metadata": {
    "collapsed": false,
    "jupyter": {
     "outputs_hidden": false
    }
   },
   "outputs": [
    {
     "data": {
      "text/plain": [
       "pyvista DataSetAttributes\n",
       "Association     : NONE\n",
       "Contains arrays :\n",
       "    metadata                <U3        (2,)"
      ]
     },
     "execution_count": 11,
     "metadata": {},
     "output_type": "execute_result"
    }
   ],
   "source": [
    "mesh = pv.Cube()\n",
    "mesh.field_data[\"metadata\"] = [\"Foo\", \"bar\"]\n",
    "mesh.field_data"
   ]
  },
  {
   "cell_type": "markdown",
   "metadata": {},
   "source": [
    "Assigning Scalars to a Mesh\n",
    "===========================\n",
    "\n",
    "Here\\'s how we assign values to cell attributes and plot it. Here, we\n",
    "generate cube containing 6 faces and assign each face an integer from\n",
    "`range(6)` and then have it plotted.\n",
    "\n",
    "Note how this varies from assigning scalars to each point\n"
   ]
  },
  {
   "cell_type": "code",
   "execution_count": 12,
   "metadata": {
    "collapsed": false,
    "jupyter": {
     "outputs_hidden": false
    }
   },
   "outputs": [
    {
     "data": {
      "application/vnd.jupyter.widget-view+json": {
       "model_id": "3464196b766342a9b9e57b26fde16996",
       "version_major": 2,
       "version_minor": 0
      },
      "text/plain": [
       "Widget(value='<iframe src=\"http://localhost:50711/index.html?ui=P_0x28796c440_7&reconnect=auto\" class=\"pyvista…"
      ]
     },
     "metadata": {},
     "output_type": "display_data"
    }
   ],
   "source": [
    "cube = pv.Cube()\n",
    "cube.cell_data[\"myscalars\"] = range(6)\n",
    "\n",
    "other_cube = cube.copy()\n",
    "other_cube.point_data[\"myscalars\"] = range(8)\n",
    "\n",
    "pl = pv.Plotter(shape=(1, 2), border_width=1)\n",
    "pl.add_mesh(cube, cmap=\"coolwarm\")\n",
    "pl.subplot(0, 1)\n",
    "pl.add_mesh(other_cube, cmap=\"coolwarm\")\n",
    "pl.show()"
   ]
  },
  {
   "cell_type": "markdown",
   "metadata": {},
   "source": [
    "```{=html}\n",
    "<center>\n",
    "  <a target=\"_blank\" href=\"https://colab.research.google.com/github/pyvista/pyvista-tutorial/blob/gh-pages/notebooks/tutorial/02_mesh/a_lesson_mesh.ipynb\">\n",
    "    <img src=\"https://colab.research.google.com/assets/colab-badge.svg\" alt=\"Open In Colab\"/ width=\"150px\">\n",
    "  </a>\n",
    "</center>\n",
    "```\n"
   ]
  }
 ],
 "metadata": {
  "kernelspec": {
   "display_name": "Python 3 (ipykernel)",
   "language": "python",
   "name": "python3"
  },
  "language_info": {
   "codemirror_mode": {
    "name": "ipython",
    "version": 3
   },
   "file_extension": ".py",
   "mimetype": "text/x-python",
   "name": "python",
   "nbconvert_exporter": "python",
   "pygments_lexer": "ipython3",
   "version": "3.12.4"
  }
 },
 "nbformat": 4,
 "nbformat_minor": 4
}
