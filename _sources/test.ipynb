{
 "cells": [
  {
   "cell_type": "markdown",
   "metadata": {},
   "source": [
    "Lesson Overview\n",
    "===============\n",
    "\n",
    "This exercise provides an overview of the example in the initial lesson\n",
    "for you to try out!\n"
   ]
  },
  {
   "cell_type": "code",
   "execution_count": 1,
   "metadata": {
    "collapsed": false,
    "jupyter": {
     "outputs_hidden": false
    }
   },
   "outputs": [],
   "source": [
    "import numpy as np\n",
    "import pyvista as pv\n",
    "from pyvista import examples"
   ]
  },
  {
   "cell_type": "markdown",
   "metadata": {},
   "source": [
    "What is a Point?\n",
    "================\n",
    "\n",
    "Let\\'s start with a point cloud - this is a mesh type that only has\n",
    "vertices. You can create one by defining a 2D array of Cartesian\n",
    "coordinates like so:\n"
   ]
  },
  {
   "cell_type": "code",
   "execution_count": 2,
   "metadata": {
    "collapsed": false,
    "jupyter": {
     "outputs_hidden": false
    }
   },
   "outputs": [
    {
     "data": {
      "text/plain": [
       "array([[0.10249609, 0.58038338, 0.03750285],\n",
       "       [0.86492093, 0.37821136, 0.50430991],\n",
       "       [0.77276329, 0.97303505, 0.85176381],\n",
       "       [0.84875781, 0.53796428, 0.74901487],\n",
       "       [0.14913458, 0.76761581, 0.41164324]])"
      ]
     },
     "execution_count": 2,
     "metadata": {},
     "output_type": "execute_result"
    }
   ],
   "source": [
    "points = np.random.rand(100, 3)\n",
    "points[:5, :]  # output first 5 rows"
   ]
  },
  {
   "cell_type": "markdown",
   "metadata": {},
   "source": [
    "Pass numpy array of points (n by 3) to PolyData\n"
   ]
  },
  {
   "cell_type": "code",
   "execution_count": 3,
   "metadata": {
    "collapsed": false,
    "jupyter": {
     "outputs_hidden": false
    }
   },
   "outputs": [
    {
     "data": {
      "text/html": [
       "\n",
       "<table style='width: 100%;'>\n",
       "<tr><th>PolyData</th><th>Information</th></tr>\n",
       "<tr><td>N Cells</td><td>100</td></tr>\n",
       "<tr><td>N Points</td><td>100</td></tr>\n",
       "<tr><td>N Strips</td><td>0</td></tr>\n",
       "<tr><td>X Bounds</td><td>8.646e-03, 9.961e-01</td></tr>\n",
       "<tr><td>Y Bounds</td><td>2.916e-03, 9.975e-01</td></tr>\n",
       "<tr><td>Z Bounds</td><td>3.995e-03, 9.888e-01</td></tr>\n",
       "<tr><td>N Arrays</td><td>0</td></tr>\n",
       "</table>\n",
       "\n"
      ],
      "text/plain": [
       "PolyData (0x10485cd60)\n",
       "  N Cells:    100\n",
       "  N Points:   100\n",
       "  N Strips:   0\n",
       "  X Bounds:   8.646e-03, 9.961e-01\n",
       "  Y Bounds:   2.916e-03, 9.975e-01\n",
       "  Z Bounds:   3.995e-03, 9.888e-01\n",
       "  N Arrays:   0"
      ]
     },
     "execution_count": 3,
     "metadata": {},
     "output_type": "execute_result"
    }
   ],
   "source": [
    "mesh = pv.PolyData(points)\n",
    "mesh"
   ]
  },
  {
   "cell_type": "code",
   "execution_count": 4,
   "metadata": {
    "collapsed": false,
    "jupyter": {
     "outputs_hidden": false
    }
   },
   "outputs": [
    {
     "data": {
      "application/vnd.jupyter.widget-view+json": {
       "model_id": "886abe56767e4d98843c8ec7214cb05f",
       "version_major": 2,
       "version_minor": 0
      },
      "text/plain": [
       "Widget(value='<iframe src=\"http://localhost:63617/index.html?ui=P_0x15a667650_0&reconnect=auto\" class=\"pyvista…"
      ]
     },
     "metadata": {},
     "output_type": "display_data"
    },
    {
     "name": "stdout",
     "output_type": "stream",
     "text": [
      " JS Error => error: TypeError: can't convert BigInt to number\n",
      " JS Error => error: TypeError: can't convert BigInt to number\n",
      " JS Error => error: TypeError: can't convert BigInt to number\n"
     ]
    }
   ],
   "source": [
    "mesh.plot(point_size=10, style=\"points\")"
   ]
  },
  {
   "cell_type": "code",
   "execution_count": 15,
   "metadata": {},
   "outputs": [
    {
     "ename": "ModuleNotFoundError",
     "evalue": "No module named 'plotly'",
     "output_type": "error",
     "traceback": [
      "\u001b[0;31m---------------------------------------------------------------------------\u001b[0m",
      "\u001b[0;31mModuleNotFoundError\u001b[0m                       Traceback (most recent call last)",
      "Cell \u001b[0;32mIn[15], line 1\u001b[0m\n\u001b[0;32m----> 1\u001b[0m \u001b[38;5;28;01mimport\u001b[39;00m \u001b[38;5;21;01mplotly\u001b[39;00m\u001b[38;5;21;01m.\u001b[39;00m\u001b[38;5;21;01mgraph_objects\u001b[39;00m \u001b[38;5;28;01mas\u001b[39;00m \u001b[38;5;21;01mgo\u001b[39;00m\n\u001b[1;32m      2\u001b[0m \u001b[38;5;28;01mfrom\u001b[39;00m \u001b[38;5;21;01mpyvista\u001b[39;00m \u001b[38;5;28;01mimport\u001b[39;00m examples\n\u001b[1;32m      4\u001b[0m \u001b[38;5;66;03m# Créez votre mesh PyVista\u001b[39;00m\n",
      "\u001b[0;31mModuleNotFoundError\u001b[0m: No module named 'plotly'"
     ]
    }
   ],
   "source": [
    "import plotly.graph_objects as go\n",
    "from pyvista import examples\n",
    "\n",
    "# Créez votre mesh PyVista\n",
    "mesh = examples.load_uniform()\n",
    "\n",
    "# Convertissez en Plotly\n",
    "fig = go.Figure(data=[go.Mesh3d(x=mesh.points[:, 0],\n",
    "                                y=mesh.points[:, 1],\n",
    "                                z=mesh.points[:, 2],\n",
    "                                i=mesh.faces[:, 1],\n",
    "                                j=mesh.faces[:, 2],\n",
    "                                k=mesh.faces[:, 3],\n",
    "                                color='lightpink', opacity=0.50)])\n",
    "fig.show()\n"
   ]
  },
  {
   "cell_type": "markdown",
   "metadata": {},
   "source": [
    "But it\\'s important to note that most meshes have some sort of\n",
    "connectivity between points such as this gridded mesh:\n"
   ]
  },
  {
   "cell_type": "code",
   "execution_count": 5,
   "metadata": {
    "collapsed": false,
    "jupyter": {
     "outputs_hidden": false
    }
   },
   "outputs": [
    {
     "data": {
      "application/vnd.jupyter.widget-view+json": {
       "model_id": "f3e86a3c2daf4cee86051d6ecc44b367",
       "version_major": 2,
       "version_minor": 0
      },
      "text/plain": [
       "Widget(value='<iframe src=\"http://localhost:63617/index.html?ui=P_0x15bf50830_1&reconnect=auto\" class=\"pyvista…"
      ]
     },
     "metadata": {},
     "output_type": "display_data"
    }
   ],
   "source": [
    "mesh = examples.load_hexbeam()\n",
    "cpos = [(6.20, 3.00, 7.50), (0.16, 0.13, 2.65), (-0.28, 0.94, -0.21)]\n",
    "\n",
    "pl = pv.Plotter()\n",
    "pl.add_mesh(mesh, show_edges=True, color=\"white\")\n",
    "pl.add_points(mesh.points, color=\"red\", point_size=20, render_points_as_spheres=True)\n",
    "pl.camera_position = cpos\n",
    "pl.show()"
   ]
  },
  {
   "cell_type": "code",
   "execution_count": 6,
   "metadata": {
    "collapsed": false,
    "jupyter": {
     "outputs_hidden": false
    }
   },
   "outputs": [
    {
     "data": {
      "application/vnd.jupyter.widget-view+json": {
       "model_id": "8b1328b5acf24c519c515ea5979808e3",
       "version_major": 2,
       "version_minor": 0
      },
      "text/plain": [
       "Widget(value='<iframe src=\"http://localhost:63617/index.html?ui=P_0x1048b6000_2&reconnect=auto\" class=\"pyvista…"
      ]
     },
     "metadata": {},
     "output_type": "display_data"
    }
   ],
   "source": [
    "mesh = examples.download_bunny_coarse()\n",
    "\n",
    "pl = pv.Plotter()\n",
    "pl.add_mesh(mesh, show_edges=True, color=\"white\")\n",
    "pl.add_points(mesh.points, color=\"red\", point_size=10)\n",
    "pl.camera_position = [(0.02, 0.30, 0.73), (0.02, 0.03, -0.022), (-0.03, 0.94, -0.34)]\n",
    "pl.show()"
   ]
  },
  {
   "cell_type": "markdown",
   "metadata": {},
   "source": [
    "What is a Cell?\n",
    "===============\n",
    "\n",
    "A cell is the geometry between points that defines the connectivity or\n",
    "topology of a mesh. In the examples above, cells are defined by the\n",
    "lines (edges colored in black) connecting points (colored in red). For\n",
    "example, a cell in the beam example is a voxel defined by the region\n",
    "between eight points in that mesh:\n"
   ]
  },
  {
   "cell_type": "code",
   "execution_count": 7,
   "metadata": {
    "collapsed": false,
    "jupyter": {
     "outputs_hidden": false
    }
   },
   "outputs": [
    {
     "data": {
      "application/vnd.jupyter.widget-view+json": {
       "model_id": "86184d2b0b914832ba9d2cf04ecdce02",
       "version_major": 2,
       "version_minor": 0
      },
      "text/plain": [
       "Widget(value='<iframe src=\"http://localhost:63617/index.html?ui=P_0x15baec5c0_3&reconnect=auto\" class=\"pyvista…"
      ]
     },
     "metadata": {},
     "output_type": "display_data"
    }
   ],
   "source": [
    "mesh = examples.load_hexbeam()\n",
    "\n",
    "pl = pv.Plotter()\n",
    "pl.add_mesh(mesh, show_edges=True, color=\"white\")\n",
    "pl.add_points(mesh.points, color=\"red\", point_size=20)\n",
    "\n",
    "single_cell = mesh.extract_cells(mesh.n_cells - 1)\n",
    "pl.add_mesh(single_cell, color=\"pink\", edge_color=\"blue\", line_width=5, show_edges=True)\n",
    "\n",
    "pl.camera_position = [(6.20, 3.00, 7.50), (0.16, 0.13, 2.65), (-0.28, 0.94, -0.21)]\n",
    "pl.show()"
   ]
  },
  {
   "cell_type": "markdown",
   "metadata": {},
   "source": [
    "Cells aren\\'t limited to voxels, they could be a triangle between three\n",
    "points, a line between two points, or even a single point could be its\n",
    "own cell (but that\\'s a special case).\n"
   ]
  },
  {
   "cell_type": "markdown",
   "metadata": {},
   "source": [
    "What are attributes?\n",
    "====================\n",
    "\n",
    "Attributes are data values that live on either the points or cells of a\n",
    "mesh. In PyVista, we work with both point data and cell data and allow\n",
    "easy access to data dictionaries to hold arrays for attributes that live\n",
    "either on all points or on all cells of a mesh. These attributes can be\n",
    "accessed in a dictionary-like attribute attached to any PyVista mesh\n",
    "accessible as one of the following:\n"
   ]
  },
  {
   "cell_type": "markdown",
   "metadata": {},
   "source": [
    "Point Data\n",
    "==========\n",
    "\n",
    "Point data refers to arrays of values (scalars, vectors, etc.) that live\n",
    "on each point of the mesh. Each element in an attribute array\n",
    "corresponds to a point in the mesh. Let\\'s create some point data for\n",
    "the beam mesh. When plotting, the values between points are interpolated\n",
    "across the cells.\n"
   ]
  },
  {
   "cell_type": "code",
   "execution_count": 8,
   "metadata": {
    "collapsed": false,
    "jupyter": {
     "outputs_hidden": false
    }
   },
   "outputs": [
    {
     "data": {
      "application/vnd.jupyter.widget-view+json": {
       "model_id": "7b6655e2e444411fb5937ef4551a5f18",
       "version_major": 2,
       "version_minor": 0
      },
      "text/plain": [
       "Widget(value='<iframe src=\"http://localhost:63617/index.html?ui=P_0x17ab63170_4&reconnect=auto\" class=\"pyvista…"
      ]
     },
     "metadata": {},
     "output_type": "display_data"
    }
   ],
   "source": [
    "mesh.point_data[\"my point values\"] = np.arange(mesh.n_points)\n",
    "mesh.plot(scalars=\"my point values\", cpos=cpos, show_edges=True)"
   ]
  },
  {
   "cell_type": "markdown",
   "metadata": {},
   "source": [
    "Cell Data\n",
    "=========\n",
    "\n",
    "Cell data refers to arrays of values (scalars, vectors, etc.) that live\n",
    "throughout each cell of the mesh. That is the entire cell (2D face or 3D\n",
    "volume) is assigned the value of that attribute.\n"
   ]
  },
  {
   "cell_type": "code",
   "execution_count": 9,
   "metadata": {
    "collapsed": false,
    "jupyter": {
     "outputs_hidden": false
    },
    "scrolled": true
   },
   "outputs": [
    {
     "data": {
      "application/vnd.jupyter.widget-view+json": {
       "model_id": "b06713b222bc4c009388329b5ff813da",
       "version_major": 2,
       "version_minor": 0
      },
      "text/plain": [
       "Widget(value='<iframe src=\"http://localhost:63617/index.html?ui=P_0x2852dc500_5&reconnect=auto\" class=\"pyvista…"
      ]
     },
     "metadata": {},
     "output_type": "display_data"
    }
   ],
   "source": [
    "mesh.cell_data[\"my cell values\"] = np.arange(mesh.n_cells)\n",
    "mesh.plot(scalars=\"my cell values\", cpos=cpos, show_edges=True)"
   ]
  },
  {
   "cell_type": "markdown",
   "metadata": {},
   "source": [
    "Here\\'s a comparison of point data versus cell data and how point data\n",
    "is interpolated across cells when mapping colors. This is unlike cell\n",
    "data which has a single value across the cell\\'s domain:\n"
   ]
  },
  {
   "cell_type": "code",
   "execution_count": 10,
   "metadata": {
    "collapsed": false,
    "jupyter": {
     "outputs_hidden": false
    }
   },
   "outputs": [
    {
     "data": {
      "application/vnd.jupyter.widget-view+json": {
       "model_id": "5fc23543b2ba48499792f01e88c0d647",
       "version_major": 2,
       "version_minor": 0
      },
      "text/plain": [
       "Widget(value='<iframe src=\"http://localhost:63617/index.html?ui=P_0x285263d10_6&reconnect=auto\" class=\"pyvista…"
      ]
     },
     "metadata": {},
     "output_type": "display_data"
    }
   ],
   "source": [
    "import pyvista as pv\n",
    "from pyvista import examples\n",
    "\n",
    "uni = examples.load_uniform()\n",
    "\n",
    "pl = pv.Plotter(shape=(1, 2), border=False)\n",
    "pl.add_mesh(uni, scalars=\"Spatial Point Data\", show_edges=True)\n",
    "pl.subplot(0, 1)\n",
    "pl.add_mesh(uni, scalars=\"Spatial Cell Data\", show_edges=True)\n",
    "pl.link_views()\n",
    "pl.show()\n",
    "\n",
    "import pyvista as pv\n",
    "from pyvista import examples\n",
    "\n",
    "uni = examples.load_uniform()\n",
    "\n",
    "pl = pv.Plotter(shape=(1, 2), border=False)\n",
    "pl.add_mesh(uni, scalars=\"Spatial Point Data\", show_edges=True)\n",
    "pl.subplot(0, 1)\n",
    "pl.add_mesh(uni, scalars=\"Spatial Cell Data\", show_edges=True)\n",
    "pl.link_views()\n",
    "pl.show()"
   ]
  },
  {
   "cell_type": "markdown",
   "metadata": {},
   "source": [
    "Field Data\n",
    "==========\n",
    "\n",
    "Field data is not directly associated with either the points or cells\n",
    "but still should be attached to the mesh. This may be a string array\n",
    "storing notes.\n"
   ]
  },
  {
   "cell_type": "code",
   "execution_count": 11,
   "metadata": {
    "collapsed": false,
    "jupyter": {
     "outputs_hidden": false
    }
   },
   "outputs": [
    {
     "data": {
      "text/plain": [
       "pyvista DataSetAttributes\n",
       "Association     : NONE\n",
       "Contains arrays :\n",
       "    metadata                <U3        (2,)"
      ]
     },
     "execution_count": 11,
     "metadata": {},
     "output_type": "execute_result"
    }
   ],
   "source": [
    "mesh = pv.Cube()\n",
    "mesh.field_data[\"metadata\"] = [\"Foo\", \"bar\"]\n",
    "mesh.field_data"
   ]
  },
  {
   "cell_type": "markdown",
   "metadata": {},
   "source": [
    "Assigning Scalars to a Mesh\n",
    "===========================\n",
    "\n",
    "Here\\'s how we assign values to cell attributes and plot it. Here, we\n",
    "generate cube containing 6 faces and assign each face an integer from\n",
    "`range(6)` and then have it plotted.\n",
    "\n",
    "Note how this varies from assigning scalars to each point\n"
   ]
  },
  {
   "cell_type": "code",
   "execution_count": 14,
   "metadata": {
    "collapsed": false,
    "jupyter": {
     "outputs_hidden": false
    }
   },
   "outputs": [
    {
     "data": {
      "application/vnd.jupyter.widget-view+json": {
       "model_id": "a86a8264c9d541eeb1fc86182d947eff",
       "version_major": 2,
       "version_minor": 0
      },
      "text/plain": [
       "Widget(value='<iframe src=\"http://localhost:63617/index.html?ui=P_0x285263680_9&reconnect=auto\" class=\"pyvista…"
      ]
     },
     "metadata": {},
     "output_type": "display_data"
    }
   ],
   "source": [
    "\n",
    "\n",
    "import pyvista as pv\n",
    "from pyvista import examples\n",
    "\n",
    "uni = examples.load_uniform()\n",
    "\n",
    "pl = pv.Plotter(shape=(1, 2), border=False)\n",
    "pl.add_mesh(uni, scalars=\"Spatial Point Data\", show_edges=True)\n",
    "pl.subplot(0, 1)\n",
    "pl.add_mesh(uni, scalars=\"Spatial Cell Data\", show_edges=True)\n",
    "pl.link_views()\n",
    "pl.show()"
   ]
  },
  {
   "cell_type": "markdown",
   "metadata": {},
   "source": [
    "```{=html}\n",
    "<center>\n",
    "  <a target=\"_blank\" href=\"https://colab.research.google.com/github/pyvista/pyvista-tutorial/blob/gh-pages/notebooks/tutorial/02_mesh/a_lesson_mesh.ipynb\">\n",
    "    <img src=\"https://colab.research.google.com/assets/colab-badge.svg\" alt=\"Open In Colab\"/ width=\"150px\">\n",
    "  </a>\n",
    "</center>\n",
    "```\n"
   ]
  },
  {
   "cell_type": "code",
   "execution_count": null,
   "metadata": {},
   "outputs": [],
   "source": []
  },
  {
   "cell_type": "code",
   "execution_count": null,
   "metadata": {},
   "outputs": [],
   "source": []
  },
  {
   "cell_type": "code",
   "execution_count": null,
   "metadata": {},
   "outputs": [],
   "source": []
  }
 ],
 "metadata": {
  "kernelspec": {
   "display_name": "Python 3 (ipykernel)",
   "language": "python",
   "name": "python3"
  },
  "language_info": {
   "codemirror_mode": {
    "name": "ipython",
    "version": 3
   },
   "file_extension": ".py",
   "mimetype": "text/x-python",
   "name": "python",
   "nbconvert_exporter": "python",
   "pygments_lexer": "ipython3",
   "version": "3.12.4"
  }
 },
 "nbformat": 4,
 "nbformat_minor": 4
}
