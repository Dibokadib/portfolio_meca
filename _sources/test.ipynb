{
 "cells": [
  {
   "cell_type": "markdown",
   "id": "7f856c89-5bf1-496b-bcbd-200d9835cf32",
   "metadata": {},
   "source": [
    "# test"
   ]
  },
  {
   "cell_type": "code",
   "execution_count": null,
   "id": "618a8a22-ae08-4f9f-9089-465ca5993b28",
   "metadata": {},
   "outputs": [],
   "source": [
    "import dolfinx\n",
    "print(f\"DOLFINx version: {dolfinx.__version__} based on GIT commit: {dolfinx.git_commit_hash} of https://github.com/FEniCS/dolfinx/\")"
   ]
  },
  {
   "cell_type": "code",
   "execution_count": 1,
   "id": "168b8b60-9954-4d7c-b270-a59feebddfb1",
   "metadata": {
    "editable": true,
    "slideshow": {
     "slide_type": ""
    },
    "tags": []
   },
   "outputs": [
    {
     "data": {
      "application/vnd.jupyter.widget-view+json": {
       "model_id": "fd501423e67a4178a3ff4d9aae715c80",
       "version_major": 2,
       "version_minor": 0
      },
      "text/plain": [
       "Widget(value='<iframe src=\"http://localhost:65281/index.html?ui=P_0x12ec731d0_0&reconnect=auto\" class=\"pyvista…"
      ]
     },
     "metadata": {},
     "output_type": "display_data"
    }
   ],
   "source": [
    "# Importer les modules nécessaires\n",
    "import pyvista as pv\n",
    "from pyvista import examples\n",
    "\n",
    "# Créer une simple sphère\n",
    "sphere = pv.Sphere(radius=1.0, center=(0, 0, 0))\n",
    "\n",
    "# Initialiser un Plotter pour afficher la géométrie\n",
    "plotter = pv.Plotter()\n",
    "plotter.add_mesh(sphere, color=\"cyan\", show_edges=True)\n",
    "plotter.add_axes()  # Ajoute des axes pour faciliter la visualisation\n",
    "plotter.show()"
   ]
  },
  {
   "cell_type": "code",
   "execution_count": null,
   "id": "90afc865-0558-4453-b997-358b1d04a8d8",
   "metadata": {},
   "outputs": [],
   "source": []
  }
 ],
 "metadata": {
  "kernelspec": {
   "display_name": "Python 3 (ipykernel)",
   "language": "python",
   "name": "python3"
  },
  "language_info": {
   "codemirror_mode": {
    "name": "ipython",
    "version": 3
   },
   "file_extension": ".py",
   "mimetype": "text/x-python",
   "name": "python",
   "nbconvert_exporter": "python",
   "pygments_lexer": "ipython3",
   "version": "3.12.4"
  }
 },
 "nbformat": 4,
 "nbformat_minor": 5
}
