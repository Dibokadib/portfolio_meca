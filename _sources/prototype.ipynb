{
 "cells": [
  {
   "cell_type": "markdown",
   "id": "0489cb0a-f273-4038-9c4b-97c64889373f",
   "metadata": {},
   "source": [
    "# Problème torsion d'arbres "
   ]
  },
  {
   "cell_type": "markdown",
   "id": "615cb258-95e9-4374-82d2-7f6c8dde2da2",
   "metadata": {},
   "source": [
    " <details> <summary>Cliquez pour voir le code d'importation</summary> "
   ]
  },
  {
   "cell_type": "markdown",
   "id": "1a0e5057-c8a8-4cc8-b0b0-d288bcf35fb4",
   "metadata": {},
   "source": [
    "## Librairies"
   ]
  },
  {
   "cell_type": "code",
   "execution_count": 1,
   "id": "25490248-8e32-4d8e-9a1a-e79cb5e24094",
   "metadata": {},
   "outputs": [],
   "source": [
    "# Importation des librairies\n",
    "import dolfinx  # Module principal de FEniCSx pour le calcul par éléments finis\n",
    "from dolfinx import mesh, fem, plot, io, default_scalar_type  # Sous-modules FEniCSx essentiels\n",
    "from dolfinx.fem.petsc import LinearProblem  # Résolution de systèmes linéaires\n",
    "from mpi4py import MPI  # Interface pour le calcul parallèle\n",
    "import ufl  # Unified Form Language pour les formulations variationnelles\n",
    "import numpy as np  # Calcul numérique efficace\n",
    "import matplotlib.pyplot as plt\n",
    "import math  # Module de fonctions mathématiques standard de Python\n",
    "import pyvista as pv  # Visualisation 3D scientifique\n",
    "import gmsh  # Générateur de maillage 3D\n",
    "import meshio  # Lecture/écriture de différents formats de maillage\n",
    "from dolfinx.io import XDMFFile  # Gestion des fichiers XDMF pour données volumineuses\n",
    "import dolfinx.fem as fem  # Module FEniCSx pour la méthode des éléments finis\n",
    "import dolfinx.mesh as mesh  # Module FEniCSx pour la gestion avancée des maillages\n",
    "from petsc4py import PETSc  # Suite de solveurs numériques pour problèmes à grande échelle"
   ]
  },
  {
   "cell_type": "markdown",
   "id": "9235b36f-cd5f-4949-b9fa-deb25825c708",
   "metadata": {},
   "source": [
    "## Géométrie"
   ]
  },
  {
   "cell_type": "markdown",
   "id": "bb28b869-4dc2-408a-8c91-2e7038d5c527",
   "metadata": {},
   "source": [
    "### Définition de la géométrie et du maillage"
   ]
  },
  {
   "cell_type": "code",
   "execution_count": 2,
   "id": "ff8d89fc-88f2-4269-91b0-75558ae18114",
   "metadata": {},
   "outputs": [
    {
     "name": "stdout",
     "output_type": "stream",
     "text": [
      "Info    : Meshing 1D...\n",
      "Info    : [  0%] Meshing curve 1 (Ellipse)\n",
      "Info    : [ 40%] Meshing curve 2 (Line)\n",
      "Info    : [ 70%] Meshing curve 3 (Ellipse)\n",
      "Info    : Done meshing 1D (Wall 0.000180208s, CPU 0.000281s)\n",
      "Info    : Meshing 2D...\n",
      "Info    : [  0%] Meshing surface 1 (Plane, Frontal-Delaunay)\n",
      "Info    : [ 40%] Meshing surface 2 (Unknown, Frontal-Delaunay)\n",
      "Info    : [ 70%] Meshing surface 3 (Plane, Frontal-Delaunay)\n",
      "Info    : Done meshing 2D (Wall 0.147277s, CPU 0.145253s)\n",
      "Info    : Meshing 3D...\n",
      "Info    : 3D Meshing 1 volume with 1 connected component\n",
      "Info    : Tetrahedrizing 4451 nodes...\n",
      "Info    : Done tetrahedrizing 4459 nodes (Wall 0.0351463s, CPU 0.034488s)\n",
      "Info    : Reconstructing mesh...\n",
      "Info    :  - Creating surface mesh\n",
      "Info    :  - Identifying boundary edges\n",
      "Info    :  - Recovering boundary\n",
      "Info    : Done reconstructing mesh (Wall 0.175801s, CPU 0.171741s)\n",
      "Info    : Found volume 1\n",
      "Info    : It. 0 - 0 nodes created - worst tet radius 10.6389 (nodes removed 0 0)\n",
      "Info    : It. 500 - 500 nodes created - worst tet radius 2.41203 (nodes removed 0 0)\n",
      "Info    : It. 1000 - 1000 nodes created - worst tet radius 1.99078 (nodes removed 0 0)\n",
      "Info    : It. 1500 - 1500 nodes created - worst tet radius 1.7586 (nodes removed 0 0)\n",
      "Info    : It. 2000 - 2000 nodes created - worst tet radius 1.61403 (nodes removed 0 0)\n",
      "Info    : It. 2500 - 2500 nodes created - worst tet radius 1.50464 (nodes removed 0 0)\n",
      "Info    : It. 3000 - 3000 nodes created - worst tet radius 1.42427 (nodes removed 0 0)\n",
      "Info    : It. 3500 - 3500 nodes created - worst tet radius 1.35923 (nodes removed 0 0)\n",
      "Info    : It. 4000 - 4000 nodes created - worst tet radius 1.30401 (nodes removed 0 0)\n",
      "Info    : It. 4500 - 4500 nodes created - worst tet radius 1.25867 (nodes removed 0 0)\n",
      "Info    : It. 5000 - 5000 nodes created - worst tet radius 1.21836 (nodes removed 0 0)\n",
      "Info    : It. 5500 - 5500 nodes created - worst tet radius 1.18389 (nodes removed 0 0)\n",
      "Info    : It. 6000 - 6000 nodes created - worst tet radius 1.15277 (nodes removed 0 0)\n",
      "Info    : It. 6500 - 6500 nodes created - worst tet radius 1.1238 (nodes removed 0 0)\n",
      "Info    : It. 7000 - 7000 nodes created - worst tet radius 1.09731 (nodes removed 0 0)\n",
      "Info    : It. 7500 - 7500 nodes created - worst tet radius 1.07278 (nodes removed 0 0)\n",
      "Info    : It. 8000 - 8000 nodes created - worst tet radius 1.05221 (nodes removed 0 0)\n",
      "Info    : It. 8500 - 8500 nodes created - worst tet radius 1.03248 (nodes removed 0 0)\n",
      "Info    : It. 9000 - 9000 nodes created - worst tet radius 1.01447 (nodes removed 0 0)\n",
      "Info    : 3D refinement terminated (13870 nodes total):\n",
      "Info    :  - 0 Delaunay cavities modified for star shapeness\n",
      "Info    :  - 0 nodes could not be inserted\n",
      "Info    :  - 73654 tetrahedra created in 0.298974 sec. (246356 tets/s)\n",
      "Info    : 0 node relocations\n",
      "Info    : Done meshing 3D (Wall 0.721429s, CPU 0.711275s)\n",
      "Info    : Optimizing mesh...\n",
      "Info    : Optimizing volume 1\n",
      "Info    : Optimization starts (volume = 0.125509) with worst = 0.0113981 / average = 0.782282:\n",
      "Info    : 0.00 < quality < 0.10 :       134 elements\n",
      "Info    : 0.10 < quality < 0.20 :       485 elements\n",
      "Info    : 0.20 < quality < 0.30 :       817 elements\n",
      "Info    : 0.30 < quality < 0.40 :      1291 elements\n",
      "Info    : 0.40 < quality < 0.50 :      1968 elements\n",
      "Info    : 0.50 < quality < 0.60 :      3169 elements\n",
      "Info    : 0.60 < quality < 0.70 :      6939 elements\n",
      "Info    : 0.70 < quality < 0.80 :     16760 elements\n",
      "Info    : 0.80 < quality < 0.90 :     28032 elements\n",
      "Info    : 0.90 < quality < 1.00 :     14059 elements\n",
      "Info    : 1429 edge swaps, 43 node relocations (volume = 0.125509): worst = 0.17436 / average = 0.794378 (Wall 0.014148s, CPU 0.014002s)\n",
      "Info    : 1438 edge swaps, 43 node relocations (volume = 0.125509): worst = 0.294127 / average = 0.794458 (Wall 0.0163797s, CPU 0.016244s)\n",
      "Info    : No ill-shaped tets in the mesh :-)\n",
      "Info    : 0.00 < quality < 0.10 :         0 elements\n",
      "Info    : 0.10 < quality < 0.20 :         0 elements\n",
      "Info    : 0.20 < quality < 0.30 :         1 elements\n",
      "Info    : 0.30 < quality < 0.40 :      1273 elements\n",
      "Info    : 0.40 < quality < 0.50 :      1897 elements\n",
      "Info    : 0.50 < quality < 0.60 :      3085 elements\n",
      "Info    : 0.60 < quality < 0.70 :      6920 elements\n",
      "Info    : 0.70 < quality < 0.80 :     16934 elements\n",
      "Info    : 0.80 < quality < 0.90 :     28282 elements\n",
      "Info    : 0.90 < quality < 1.00 :     13984 elements\n",
      "Info    : Done optimizing mesh (Wall 0.0569539s, CPU 0.05446s)\n",
      "Info    : 13870 nodes 81452 elements\n",
      "Info    : Writing 'ellipse.msh'...\n",
      "Info    : Done writing 'ellipse.msh'\n",
      "\n",
      "Maillage créé et importé avec succès.\n",
      "Nombre de sommets : 72376\n",
      "Nombre d'éléments : 149201\n"
     ]
    }
   ],
   "source": [
    "# Initialisation de GMSH\n",
    "gmsh.initialize()\n",
    "gmsh.model.add(\"ellipse\")\n",
    "\n",
    "# Définition des paramètres géométriques et de maillage\n",
    "a = 0.2  # Demi-grand axe de l'ellipse en mètres\n",
    "b = 0.2  # Demi-petit axe de l'ellipse en mètres\n",
    "h = 1.0  # Hauteur du cylindre elliptique en mètres\n",
    "# Calcul du rayon équivalent du cylindre elliptique\n",
    "R = 1/2 * np.sqrt(a**2 + b**2)\n",
    "\n",
    "# Création de la géométrie : ellipse de base\n",
    "ellipse = gmsh.model.occ.addEllipse(0, 0, 0, a, b)\n",
    "\n",
    "# Création d'une boucle fermée à partir de l'ellipse\n",
    "curve_loop = gmsh.model.occ.addCurveLoop([ellipse])\n",
    "\n",
    "# Création d'une surface plane à partir de la boucle\n",
    "surface = gmsh.model.occ.addPlaneSurface([curve_loop])\n",
    "\n",
    "# Extrusion de la surface pour créer un cylindre elliptique\n",
    "gmsh.model.occ.extrude([(2, surface)], 0, 0, h)\n",
    "\n",
    "# Synchronisation du modèle géométrique\n",
    "gmsh.model.occ.synchronize()\n",
    "\n",
    "# Configuration des paramètres de maillage\n",
    "lc = 0.02  # Taille caractéristique des éléments du maillage en mètres\n",
    "gmsh.option.setNumber(\"Mesh.CharacteristicLengthMin\", lc)\n",
    "gmsh.option.setNumber(\"Mesh.CharacteristicLengthMax\", lc)\n",
    "\n",
    "# Génération du maillage volumique (3D)\n",
    "gmsh.model.mesh.generate(3)\n",
    "\n",
    "# Sauvegarde du maillage au format .msh\n",
    "gmsh.write(\"ellipse.msh\")\n",
    "\n",
    "# Finalisation de GMSH\n",
    "gmsh.finalize()\n",
    "\n",
    "# Lecture du fichier .msh avec meshio\n",
    "msh = meshio.read(\"ellipse.msh\")\n",
    "\n",
    "# Conversion et sauvegarde du maillage au format XDMF (compatible avec FEniCSx)\n",
    "meshio.write(\"ellipse.xdmf\", meshio.Mesh(points=msh.points, cells={\"tetra\": msh.cells_dict.get(\"tetra\", [])}))\n",
    "\n",
    "# Lecture du maillage XDMF avec FEniCSx\n",
    "with XDMFFile(MPI.COMM_WORLD, \"ellipse.xdmf\", \"r\") as xdmf_file:\n",
    "    domain = xdmf_file.read_mesh(name=\"Grid\")\n",
    "    domain.topology.create_connectivity(domain.topology.dim-1, domain.topology.dim)\n",
    "\n",
    "# Affichage des informations sur le maillage\n",
    "print(\"Maillage créé et importé avec succès.\")\n",
    "print(f\"Nombre de sommets : {domain.topology.index_map(domain.topology.dim).size_global}\")\n",
    "print(f\"Nombre d'éléments : {domain.topology.index_map(domain.topology.dim-1).size_global}\")"
   ]
  },
  {
   "cell_type": "markdown",
   "id": "b301fa17-d78c-4fc3-ac25-8f93cf50a4ca",
   "metadata": {},
   "source": [
    "### Visualisation de la géométrie"
   ]
  },
  {
   "cell_type": "code",
   "execution_count": 3,
   "id": "117bce15-4664-4e49-9677-8509b7a847ad",
   "metadata": {
    "canvas": {
     "comments": [],
     "componentType": "CodeCell",
     "copiedOriginId": null,
     "diskcache": false,
     "headerColor": "transparent",
     "id": "756bd14a-c702-407a-82c9-2cc61ec3c699",
     "isComponent": false,
     "name": "",
     "parents": []
    }
   },
   "outputs": [
    {
     "data": {
      "application/vnd.jupyter.widget-view+json": {
       "model_id": "e570f38006ff444c83724821c27bb046",
       "version_major": 2,
       "version_minor": 0
      },
      "text/plain": [
       "Widget(value='<iframe src=\"http://localhost:58577/index.html?ui=P_0x13607d9a0_0&reconnect=auto\" class=\"pyvista…"
      ]
     },
     "metadata": {},
     "output_type": "display_data"
    }
   ],
   "source": [
    "# Préparation du maillage pour la visualisation avec PyVista\n",
    "u_topology, u_cell_types, u_geometry = plot.vtk_mesh(domain)\n",
    "\n",
    "# Création d'une grille non structurée PyVista à partir des données du maillage FEniCSx\n",
    "u_grid = pv.UnstructuredGrid(u_topology, u_cell_types, u_geometry)\n",
    "\n",
    "# Initialisation de l'environnement de visualisation PyVista\n",
    "p = pv.Plotter()\n",
    "\n",
    "# Ajout du maillage à la scène de visualisation\n",
    "p.add_mesh(u_grid, \n",
    "           show_edges=True,  # Affiche les arêtes du maillage\n",
    "           scalar_bar_args={\n",
    "               \"title\": \"u\",  # Titre de la barre de couleur\n",
    "               \"title_font_size\": 24,\n",
    "               \"label_font_size\": 22,\n",
    "               \"shadow\": True,\n",
    "               \"italic\": True,\n",
    "               \"font_family\": \"arial\",\n",
    "               \"vertical\": False  # Orientation horizontale de la barre de couleur\n",
    "           })\n",
    "\n",
    "# Ajout d'un titre à la visualisation\n",
    "p.add_text(\"Cylindre Mesh\", font_size=12, color=\"black\", position=\"upper_edge\")\n",
    "\n",
    "# Ajout des limites de la boîte englobante\n",
    "p.show_bounds(color=\"black\")\n",
    "\n",
    "# Ajout des axes de coordonnées\n",
    "p.add_axes(color=\"black\")\n",
    "\n",
    "# Définition de la couleur de fond\n",
    "p.set_background(\"grey\")\n",
    "\n",
    "# Affichage de la visualisation\n",
    "p.show()\n",
    "\n",
    "# Changement de la vue pour une perspective Y-Z\n",
    "p.view_yz()"
   ]
  },
  {
   "cell_type": "markdown",
   "id": "60558ec4-da5b-4874-b94f-ce186ea5f56b",
   "metadata": {},
   "source": [
    "## Configuration du problème"
   ]
  },
  {
   "cell_type": "markdown",
   "id": "061fa065-bb25-403f-b649-419851617378",
   "metadata": {},
   "source": [
    "### Définition de l'espace fonctionnel "
   ]
  },
  {
   "cell_type": "code",
   "execution_count": 4,
   "id": "cab12150-47f5-4886-ba3f-1dbc7462ecf0",
   "metadata": {
    "canvas": {
     "comments": [],
     "componentType": "CodeCell",
     "copiedOriginId": null,
     "diskcache": false,
     "headerColor": "transparent",
     "id": "15e094ad-b7e9-4509-a091-0e3c45d05d9a",
     "isComponent": false,
     "name": "",
     "parents": []
    }
   },
   "outputs": [],
   "source": [
    "# Définition de l'espace fonctionnel pour le problème\n",
    "V = fem.functionspace(domain, (\"Lagrange\", 1, (domain.geometry.dim,)))"
   ]
  },
  {
   "cell_type": "markdown",
   "id": "90bc05e1-f186-4ac5-9f2a-ae290e2e69da",
   "metadata": {
    "jp-MarkdownHeadingCollapsed": true
   },
   "source": [
    "### Définition des frontière du domaine"
   ]
  },
  {
   "cell_type": "code",
   "execution_count": 5,
   "id": "ff6f3130-a647-4ab1-8061-c1a0ab20f32e",
   "metadata": {},
   "outputs": [],
   "source": [
    "# Définition des fonctions pour identifier les différentes faces du cylindre\n",
    "def down_face(x):\n",
    "    \"\"\"Identifie la face inférieure du cylindre (z = 0)\"\"\"\n",
    "    return np.isclose(x[2], 0)\n",
    "\n",
    "def top_face(x):\n",
    "    \"\"\"Identifie la face supérieure du cylindre (z = h)\"\"\"\n",
    "    return np.isclose(x[2], h)\n",
    "\n",
    "def lateral_face(x):\n",
    "    \"\"\"\n",
    "    Identifie la surface latérale du cylindre elliptique\n",
    "    Utilise l'équation de l'ellipse : x^2/a^2 + y^2/b^2 = 1\n",
    "    \"\"\"\n",
    "    tolerance = 1e-5  # Tolérance pour la comparaison numérique\n",
    "    return (np.isclose((x[0]**2 / a**2 + x[1]**2 / b**2), 1.0, atol=tolerance)) & (0 <= x[2]) & (x[2] <= h)\n",
    "\n",
    "# Dimension des facettes (2D pour un domaine 3D)\n",
    "fdim = domain.topology.dim - 1\n",
    "\n",
    "# Localisation des entités (facettes) correspondant à chaque face\n",
    "Sigma_l = mesh.locate_entities(domain, fdim, lateral_face)\n",
    "Sigma_0 = mesh.locate_entities(domain, fdim, down_face)\n",
    "Sigma_h = mesh.locate_entities(domain, fdim, top_face)\n",
    "\n",
    "# Préparation des marqueurs de facettes pour les conditions aux limites\n",
    "marked_facets = np.hstack([Sigma_h])  # Utilisation uniquement de la face supérieure\n",
    "marked_values = np.hstack([np.full_like(Sigma_h, 1)])  # Marqueur 1 pour la face supérieure\n",
    "\n",
    "# Tri et création des tags de maillage\n",
    "sorted_facets = np.argsort(marked_facets)\n",
    "facet_tag = dolfinx.mesh.meshtags(domain, domain.topology.dim - 1, \n",
    "                                  marked_facets[sorted_facets], \n",
    "                                  marked_values[sorted_facets])\n",
    "\n",
    "# Définition de la mesure pour les facettes marquées\n",
    "ds = ufl.Measure('ds', domain=domain, subdomain_data=facet_tag)"
   ]
  },
  {
   "cell_type": "markdown",
   "id": "df264fe1-7832-4d77-9c61-d737bda53e9e",
   "metadata": {},
   "source": [
    "### Visualisation des frontière du domaine"
   ]
  },
  {
   "cell_type": "code",
   "execution_count": 6,
   "id": "ee5f875e-2e5b-4bf3-b288-cb64dacbdcff",
   "metadata": {},
   "outputs": [],
   "source": [
    "# Définition d'une fonction pour appliquer des marqueurs aux facettes\n",
    "def apply_marker(boundary_facets, marker_array, marker_value):\n",
    "    \"\"\"\n",
    "    Applique un marqueur spécifique aux facettes de la frontière.\n",
    "    \n",
    "    Args:\n",
    "    boundary_facets: Indices des facettes de la frontière\n",
    "    marker_array: Tableau des marqueurs à mettre à jour\n",
    "    marker_value: Valeur du marqueur à appliquer\n",
    "    \"\"\"\n",
    "    # Filtrer les facettes pour ne garder que celles appartenant au domaine local\n",
    "    boundary_facets = boundary_facets[boundary_facets < num_cells_local]\n",
    "    # Appliquer le marqueur\n",
    "    marker_array[boundary_facets] = marker_value\n",
    "\n",
    "# Obtenir le nombre de cellules locales (important pour le calcul parallèle)\n",
    "num_cells_local = domain.topology.index_map(fdim).size_local\n",
    "\n",
    "# Initialiser les tableaux de marqueurs pour chaque type de frontière\n",
    "# On crée 4 tableaux : 3 pour chaque face et 1 pour la combinaison\n",
    "markers = [np.zeros(num_cells_local, dtype=np.int32) for _ in range(4)]\n",
    "\n",
    "# Appliquer les marqueurs spécifiques à chaque face\n",
    "apply_marker(Sigma_0, markers[0], 1)  # Face inférieure (z = 0)\n",
    "apply_marker(Sigma_h, markers[1], 2)  # Face supérieure (z = h)\n",
    "apply_marker(Sigma_l, markers[2], 3)  # Surface latérale\n",
    "\n",
    "# Calculer le marqueur combiné\n",
    "markers[3] = markers[0] + markers[1] + markers[2]\n",
    "\n",
    "# Ajouter un marqueur spécifique (4) pour les cellules non marquées\n",
    "# Cela peut être utile pour identifier le volume intérieur, par exemple\n",
    "markers[3][markers[3] == 0] = 4\n",
    "\n",
    "# Créer la connectivité topologique pour les facettes\n",
    "# Ceci est nécessaire pour certaines opérations sur le maillage\n",
    "domain.topology.create_connectivity(fdim, fdim)\n",
    "\n",
    "# Obtenir les données de maillage au format compatible avec PyVista\n",
    "topology, cell_types, x = dolfinx.plot.vtk_mesh(domain, fdim, np.arange(num_cells_local, dtype=np.int32))"
   ]
  },
  {
   "cell_type": "code",
   "execution_count": 7,
   "id": "5b55403e-a38b-467c-a438-d7dc59758f5d",
   "metadata": {
    "canvas": {
     "comments": [],
     "componentType": "CodeCell",
     "copiedOriginId": null,
     "diskcache": false,
     "headerColor": "transparent",
     "id": "04510bea-5779-4842-ad01-32573e61b6e1",
     "isComponent": false,
     "name": "",
     "parents": []
    }
   },
   "outputs": [
    {
     "data": {
      "application/vnd.jupyter.widget-view+json": {
       "model_id": "c2fe3d6daa754662a998209a5460413d",
       "version_major": 2,
       "version_minor": 0
      },
      "text/plain": [
       "Widget(value='<iframe src=\"http://localhost:58577/index.html?ui=P_0x161484cb0_1&reconnect=auto\" class=\"pyvista…"
      ]
     },
     "metadata": {},
     "output_type": "display_data"
    }
   ],
   "source": [
    "# Création du maillage PyVista à partir des données FEniCSx\n",
    "grid = pv.UnstructuredGrid(topology, cell_types, x)\n",
    "\n",
    "def add_plot(ax, marker, color, title, threshold_min):\n",
    "    \"\"\"\n",
    "    Fonction pour ajouter des maillages à une sous-fenêtre de visualisation.\n",
    "    \n",
    "    Args:\n",
    "    ax: Axe de la sous-fenêtre PyVista\n",
    "    marker: Tableau des marqueurs pour les cellules\n",
    "    color: Couleur pour les cellules filtrées\n",
    "    title: Titre de la sous-fenêtre\n",
    "    threshold_min: Valeur minimale pour le filtrage des cellules\n",
    "    \"\"\"\n",
    "    # Mise à jour des données de cellule du maillage avec les marqueurs\n",
    "    grid.cell_data[\"Marker\"] = marker\n",
    "    grid.set_active_scalars(\"Marker\")\n",
    "    \n",
    "    # Ajout du maillage complet avec les marqueurs\n",
    "    ax.add_mesh(grid, show_edges=True, color=\"cyan\", scalar_bar_args={\n",
    "        \"title\": \"Boundary Marker\",\n",
    "        \"title_font_size\": 24,\n",
    "        \"label_font_size\": 22,\n",
    "        \"shadow\": True,\n",
    "        \"italic\": True,\n",
    "        \"font_family\": \"arial\",\n",
    "        \"vertical\": False\n",
    "    })\n",
    "    \n",
    "    # Application d'un filtre basé sur le seuil pour isoler certaines cellules\n",
    "    grid_filter = grid.threshold(threshold_min, scalars='Marker')\n",
    "    ax.add_mesh(grid_filter, color=color, show_edges=True)\n",
    "    \n",
    "    # Ajout du titre et des axes à la sous-fenêtre\n",
    "    ax.add_text(title, font_size=12, color=\"black\", position=\"upper_edge\")\n",
    "    ax.add_axes(color=\"black\")\n",
    "\n",
    "# Configuration de la visualisation PyVista avec 4 sous-fenêtres (2x2)\n",
    "pl = pv.Plotter(shape=(2, 2))\n",
    "\n",
    "# Sous-fenêtre 1 : Affichage de toutes les frontières\n",
    "pl.subplot(0, 0)\n",
    "add_plot(pl, markers[3], \"red\", \"All Boundaries\", threshold_min=0.5)\n",
    "\n",
    "# Sous-fenêtre 2 : Affichage de la frontière inférieure\n",
    "pl.subplot(0, 1)\n",
    "add_plot(pl, markers[0], \"red\", \"Down Boundary\", threshold_min=0.5)\n",
    "\n",
    "# Sous-fenêtre 3 : Affichage de la frontière supérieure\n",
    "pl.subplot(1, 0)\n",
    "add_plot(pl, markers[1], \"red\", \"Top Boundary\", threshold_min=1.5)\n",
    "\n",
    "# Sous-fenêtre 4 : Affichage de la frontière latérale\n",
    "pl.subplot(1, 1)\n",
    "add_plot(pl, markers[2], \"red\", \"Lateral Boundary\", threshold_min=2.5)\n",
    "\n",
    "# Configuration finale et affichage\n",
    "pl.set_background(\"grey\")\n",
    "pl.show()"
   ]
  },
  {
   "cell_type": "markdown",
   "id": "5797b190-16bf-42e3-a66b-eb8ed3855643",
   "metadata": {},
   "source": [
    "## Conditions aux limites"
   ]
  },
  {
   "cell_type": "code",
   "execution_count": 8,
   "id": "895be862-4194-432d-8336-e1a02164f2b6",
   "metadata": {},
   "outputs": [],
   "source": [
    "# Définition des conditions aux limites de Dirichlet (déplacement nul)\n",
    "u_D = np.array([0, 0, 0], dtype=default_scalar_type)\n",
    "\n",
    "# Application des conditions aux limites sur chaque face\n",
    "bc1 = fem.dirichletbc(u_D, fem.locate_dofs_topological(V, fdim, Sigma_0), V)  # Face inférieure\n",
    "bc2 = fem.dirichletbc(u_D, fem.locate_dofs_topological(V, fdim, Sigma_h), V)  # Face supérieure\n",
    "bc3 = fem.dirichletbc(u_D, fem.locate_dofs_topological(V, fdim, Sigma_l), V)  # Surface latérale"
   ]
  },
  {
   "cell_type": "markdown",
   "id": "91e5bf09-212b-48b6-bbb8-030fcc8fd027",
   "metadata": {
    "jp-MarkdownHeadingCollapsed": true
   },
   "source": [
    "## Propriétés matériau"
   ]
  },
  {
   "cell_type": "code",
   "execution_count": 9,
   "id": "e2e69757-1a8e-40fa-8cb9-e784d4c28061",
   "metadata": {},
   "outputs": [],
   "source": [
    "# Définition des constantes élastiques du matériau\n",
    "mu = 80e9      # Module de cisaillement (G) en Pa\n",
    "lambda_ = 120e9  # Premier paramètre de Lamé (λ) en Pa"
   ]
  },
  {
   "cell_type": "markdown",
   "id": "31c7bd02-286e-45c6-b78f-88569a7cce75",
   "metadata": {
    "jp-MarkdownHeadingCollapsed": true
   },
   "source": [
    "## Définition des chargements"
   ]
  },
  {
   "cell_type": "code",
   "execution_count": 10,
   "id": "f3946d77-2b68-4862-909d-d50de9b4cd1b",
   "metadata": {},
   "outputs": [
    {
     "name": "stdout",
     "output_type": "stream",
     "text": [
      "α = 20.0 m^-1\n",
      "C = 1005309649.1487346 kg.m^2/s\n"
     ]
    }
   ],
   "source": [
    "pi = math.pi  # Nombre Pi\n",
    "\n",
    "ang = 20.0  # Angle de torsion en radians\n",
    "\n",
    "# Calcul du taux de torsion α\n",
    "alpha = ang / h\n",
    "print(f\"α = {alpha} m^-1\")\n",
    "\n",
    "# Calcul de la rigidité en torsion C\n",
    "C = mu * pi * (R ** 4) / 2 * alpha\n",
    "print(f\"C = {C} kg.m^2/s\")\n",
    "\n",
    "# Calcul de la constante A pour le champ de torsion\n",
    "A = 2 * C / (pi * R**4)  # A est un scalaire constant positif\n",
    "\n",
    "# Définition des coordonnées spatiales\n",
    "x = ufl.SpatialCoordinate(domain)\n",
    "\n",
    "# Définition des composantes du champ de torsion (vecteur des Contraintes de Cauchy)\n",
    "T1 = -A * x[1]  # Composante x du champ de torsion\n",
    "T2 = A * x[0]   # Composante y du champ de torsion\n",
    "T3 = ufl.as_ufl(0.0)  # Composante z nulle, convertie en expression UFL\n",
    "\n",
    "# Combinaison en un champ vectoriel de torsion\n",
    "T = ufl.as_vector([T1, T2, T3])"
   ]
  },
  {
   "cell_type": "markdown",
   "id": "3018e159-0a3d-4804-9a69-bc0d49d594a4",
   "metadata": {},
   "source": [
    "## Résolution"
   ]
  },
  {
   "cell_type": "code",
   "execution_count": 11,
   "id": "53672442-3fbd-423b-bb5d-515838bde31f",
   "metadata": {
    "canvas": {
     "comments": [],
     "componentType": "CodeCell",
     "copiedOriginId": null,
     "diskcache": false,
     "headerColor": "transparent",
     "id": "359db679-9183-45fd-b4ad-51526ab1bc41",
     "isComponent": false,
     "name": "",
     "parents": []
    }
   },
   "outputs": [],
   "source": [
    "# Définition des tenseurs de déformation et de contrainte\n",
    "def epsilon(u):\n",
    "    \"\"\"Tenseur de déformation linéarisé\"\"\"\n",
    "    return ufl.sym(ufl.grad(u))\n",
    "\n",
    "def sigma(u):\n",
    "    \"\"\"Tenseur des contraintes (loi de Hooke)\"\"\"\n",
    "    return lambda_ * ufl.nabla_div(u) * ufl.Identity(len(u)) + 2 * mu * epsilon(u)\n",
    "\n",
    "# Définition des fonctions d'essai et de test\n",
    "u = ufl.TrialFunction(V)\n",
    "v = ufl.TestFunction(V)\n",
    "\n",
    "# Définition de la force volumique (nulle dans ce cas)\n",
    "f = fem.Constant(domain, default_scalar_type((0, 0, 0)))\n",
    "\n",
    "# Formulation variationnelle du problème\n",
    "a = ufl.inner(sigma(u), epsilon(v)) * ufl.dx  # Forme bilinéaire\n",
    "L = ufl.dot(f, v) * ufl.dx + ufl.dot(T, v) * ds(1)  # Forme linéaire\n",
    "\n",
    "# Définition et résolution du problème linéaire\n",
    "problem = LinearProblem(a, L, bcs=[bc1], \n",
    "                        petsc_options={\"ksp_type\": \"cg\", \"pc_type\": \"jacobi\"})\n",
    "uh = problem.solve()"
   ]
  },
  {
   "cell_type": "markdown",
   "id": "bae941f4-a2dd-4af7-a194-e40d52945fa6",
   "metadata": {},
   "source": [
    "### Visualisation des résultats"
   ]
  },
  {
   "cell_type": "markdown",
   "id": "04bcf44c-fc93-4148-88e7-a9ecfdd1daf9",
   "metadata": {
    "jp-MarkdownHeadingCollapsed": true
   },
   "source": [
    "### Visualisation des déplacements"
   ]
  },
  {
   "cell_type": "code",
   "execution_count": 12,
   "id": "bfeb2bd1-2589-4b47-bfad-45ba17507bf6",
   "metadata": {
    "canvas": {
     "comments": [],
     "componentType": "CodeCell",
     "copiedOriginId": null,
     "diskcache": false,
     "headerColor": "transparent",
     "id": "d5afbdc1-6249-49e4-b386-70483dee0df5",
     "isComponent": false,
     "name": "",
     "parents": []
    }
   },
   "outputs": [
    {
     "data": {
      "application/vnd.jupyter.widget-view+json": {
       "model_id": "3b8dd664eeb14a7ca025e4fa2fa653a0",
       "version_major": 2,
       "version_minor": 0
      },
      "text/plain": [
       "Widget(value='<iframe src=\"http://localhost:58577/index.html?ui=P_0x1621a7b90_2&reconnect=auto\" class=\"pyvista…"
      ]
     },
     "metadata": {},
     "output_type": "display_data"
    }
   ],
   "source": [
    "# Création du maillage pour PyVista basé sur les coordonnées des dofs\n",
    "u_topology, u_cell_types, u_geometry = plot.vtk_mesh(domain)\n",
    "\n",
    "# Créez la grille PyVista et ajoutez les valeurs des dofs à la grille\n",
    "u_grid = pv.UnstructuredGrid(u_topology, u_cell_types, u_geometry)\n",
    "\n",
    "# Attach vector values to grid and warp grid by vector\n",
    "u_grid[\"u\"] = uh.x.array.reshape((u_geometry.shape[0], 3))\n",
    "\n",
    "# Visualisation\n",
    "p = pv.Plotter()\n",
    "p.add_mesh(u_grid, show_edges=False, scalar_bar_args={\n",
    "    \"title\": \"u\",\n",
    "    \"title_font_size\": 24,\n",
    "    \"label_font_size\": 22,\n",
    "    \"shadow\": True,\n",
    "    \"italic\": True,\n",
    "    \"font_family\": \"arial\",\n",
    "    \"vertical\": False\n",
    "})\n",
    "p.add_text(\"Déplacements\", font_size=12, color=\"black\", position=\"upper_edge\")\n",
    "p.add_axes(color=\"black\")\n",
    "p.set_background(\"grey\")\n",
    "p.show()"
   ]
  },
  {
   "cell_type": "markdown",
   "id": "b0e2cdda-1dcd-4e2d-a5c3-3b9497575ecc",
   "metadata": {
    "jp-MarkdownHeadingCollapsed": true
   },
   "source": [
    "### Visualisation des rotations principales"
   ]
  },
  {
   "cell_type": "code",
   "execution_count": 15,
   "id": "bbbadc3b-a1aa-4dc3-907d-b7491f946af0",
   "metadata": {},
   "outputs": [
    {
     "data": {
      "application/vnd.jupyter.widget-view+json": {
       "model_id": "e157eef171104e2c85989fcd7f8db966",
       "version_major": 2,
       "version_minor": 0
      },
      "text/plain": [
       "Widget(value='<iframe src=\"http://localhost:58577/index.html?ui=P_0x177e9da90_5&reconnect=auto\" class=\"pyvista…"
      ]
     },
     "metadata": {},
     "output_type": "display_data"
    }
   ],
   "source": [
    "def omega(u):\n",
    "    \"\"\"Calcule le tenseur de rotation (partie antisymétrique du gradient de déplacement)\"\"\"\n",
    "    return 0.5 * (ufl.grad(u).T - ufl.grad(u))\n",
    "\n",
    "# Calcul du tenseur de rotation\n",
    "theta = omega(uh)\n",
    "\n",
    "# Extraction des composantes du tenseur de rotation\n",
    "theta_xy, theta_xz, theta_yz = theta[0, 1], theta[0, 2], theta[1, 2]\n",
    "\n",
    "# Définition de l'espace fonctionnel pour les rotations (éléments discontinus d'ordre 0)\n",
    "V_omega = fem.functionspace(domain, (\"DG\", 0))\n",
    "\n",
    "def interpolate_rotation(rotation_component):\n",
    "    \"\"\"Interpole une composante de rotation sur l'espace fonctionnel\"\"\"\n",
    "    expr = fem.Expression(rotation_component, V_omega.element.interpolation_points())\n",
    "    rotation = fem.Function(V_omega)\n",
    "    rotation.interpolate(expr)\n",
    "    return rotation\n",
    "\n",
    "# Interpolation des composantes de rotation\n",
    "rotation_x = interpolate_rotation(theta_yz)\n",
    "rotation_y = interpolate_rotation(-theta_xz)  # Note le signe négatif\n",
    "rotation_z = interpolate_rotation(theta_xy)\n",
    "\n",
    "# Calcul de la norme de rotation\n",
    "norm_theta = ufl.sqrt(theta_xy**2 + theta_xz**2 + theta_yz**2)\n",
    "rotation_norm = interpolate_rotation(norm_theta)\n",
    "\n",
    "# Configuration de la visualisation\n",
    "pl = pv.Plotter(shape=(2, 2))\n",
    "dargs = dict(cmap=\"jet\", show_scalar_bar=False)\n",
    "warped = u_grid.warp_by_vector(\"u\", factor=0)  # Pas de déformation pour visualiser les déformations\n",
    "\n",
    "def add_subplot(row, col, data, title):\n",
    "    \"\"\"Ajoute un sous-plot pour une composante de rotation\"\"\"\n",
    "    pl.subplot(row, col)\n",
    "    warped.cell_data[title] = data.vector.array\n",
    "    warped.set_active_scalars(title)\n",
    "    pl.add_mesh(warped, **dargs)\n",
    "    pl.add_axes(color=\"k\")\n",
    "    pl.add_text(title, color='k', font_size=12)\n",
    "\n",
    "# Création des sous-plots\n",
    "add_subplot(0, 0, rotation_norm, \"Norme de rotation\")\n",
    "add_subplot(0, 1, rotation_x, \"Rotation RX\")\n",
    "add_subplot(1, 0, rotation_y, \"Rotation RY\")\n",
    "add_subplot(1, 1, rotation_z, \"Rotation RZ\")\n",
    "\n",
    "# Configuration finale\n",
    "pl.link_views()\n",
    "pl.camera_position = 'iso'\n",
    "pl.background_color = 'grey'\n",
    "\n",
    "# Ajout d'une barre de couleur globale\n",
    "pl.add_scalar_bar(title=\"Rotation (rad)\", n_labels=5, label_font_size=10, title_font_size=12, \n",
    "                  position_x=0.25, position_y=0.05, width=0.5)\n",
    "\n",
    "# Affichage\n",
    "pl.show()"
   ]
  },
  {
   "cell_type": "markdown",
   "id": "bcebf56e-7557-418d-bab1-35c009144881",
   "metadata": {},
   "source": [
    "### Visualisation des déplacements amplifiés"
   ]
  },
  {
   "cell_type": "code",
   "execution_count": 16,
   "id": "03b01cf2-a80a-449d-a84c-117bdc46e447",
   "metadata": {},
   "outputs": [
    {
     "data": {
      "application/vnd.jupyter.widget-view+json": {
       "model_id": "2aa3639336144ef1a8f033f3eb0ccb58",
       "version_major": 2,
       "version_minor": 0
      },
      "text/plain": [
       "Widget(value='<iframe src=\"http://localhost:58577/index.html?ui=P_0x2a7555670_6&reconnect=auto\" class=\"pyvista…"
      ]
     },
     "metadata": {},
     "output_type": "display_data"
    }
   ],
   "source": [
    "# Création d'un objet Plotter PyVista pour la visualisation 3D\n",
    "p = pv.Plotter()\n",
    "\n",
    "# Application de la déformation au maillage\n",
    "# Le facteur 0.04 amplifie la déformation pour une meilleure visibilité\n",
    "warped = u_grid.warp_by_vector(\"u\", factor=0.07)\n",
    "\n",
    "# Ajout du maillage déformé à la scène\n",
    "p.add_mesh(warped, \n",
    "           show_edges=False,  # Affiche les arêtes du maillage\n",
    "           scalar_bar_args={\n",
    "               \"title\": \"Déplacement\",  # Titre de la barre de couleur\n",
    "               \"title_font_size\": 24,\n",
    "               \"label_font_size\": 22,\n",
    "               #\"shadow\": True,\n",
    "               \"italic\": True,\n",
    "               \"font_family\": \"arial\",\n",
    "               \"vertical\": False,  # Orientation horizontale de la barre de couleur\n",
    "               \"n_labels\": 5,  # Nombre d'étiquettes sur la barre de couleur\n",
    "               #\"fmt\": \"%.2e\"  # Format scientifique pour les valeurs\n",
    "           })\n",
    "\n",
    "# Ajout d'un titre à la visualisation\n",
    "p.add_text(\"Déplacements amplifiés\", font_size=12, color=\"k\", position=\"upper_edge\")\n",
    "\n",
    "# Ajout des axes de coordonnées\n",
    "p.add_axes(xlabel='X', ylabel='Y', zlabel='Z', color=\"k\")\n",
    "\n",
    "# Configuration de l'arrière-plan et de l'éclairage\n",
    "p.set_background(\"grey\")\n",
    "#p.enable_shadows()  # Ajoute des ombres pour améliorer la perception 3D\n",
    "\n",
    "# Configuration de la caméra pour une vue optimale\n",
    "p.camera_position = [(3, 3, 2), (0, 0, 0.5), (0, 0, 1)]\n",
    "\n",
    "# Affichage de la visualisation\n",
    "p.show()"
   ]
  },
  {
   "cell_type": "markdown",
   "id": "02a8ba06-2c39-41e3-bb84-5513e5dfc183",
   "metadata": {
    "jp-MarkdownHeadingCollapsed": true
   },
   "source": [
    "### Visualisation des déplacements normalisés et selon les axes principaux "
   ]
  },
  {
   "cell_type": "code",
   "execution_count": 17,
   "id": "4afffa6a-4bb2-4937-9a71-1abc0d69a0c5",
   "metadata": {
    "canvas": {
     "comments": [],
     "componentType": "CodeCell",
     "copiedOriginId": null,
     "diskcache": false,
     "headerColor": "transparent",
     "id": "bd6d1531-cbc4-4313-9511-4f23190210c8",
     "isComponent": false,
     "name": "",
     "parents": []
    }
   },
   "outputs": [
    {
     "data": {
      "application/vnd.jupyter.widget-view+json": {
       "model_id": "6acccbf11b9f466fa1aae5e7bf3f020c",
       "version_major": 2,
       "version_minor": 0
      },
      "text/plain": [
       "Widget(value='<iframe src=\"http://localhost:58577/index.html?ui=P_0x2a7570f80_7&reconnect=auto\" class=\"pyvista…"
      ]
     },
     "metadata": {},
     "output_type": "display_data"
    }
   ],
   "source": [
    "# Définition des arguments communs pour l'affichage des maillages\n",
    "dargs = dict(\n",
    "    scalars=\"u\",       # Utilise le champ de déplacement 'u' pour la coloration\n",
    "    cmap=\"jet\",        # Utilise la palette de couleurs 'jet'\n",
    "    show_scalar_bar=False,  # Ne pas afficher la barre de couleur pour chaque sous-plot\n",
    ")\n",
    "\n",
    "# Création d'un plotter PyVista avec une grille 2x2 de sous-plots\n",
    "pl = pv.Plotter(shape=(2, 2))\n",
    "\n",
    "# Sous-plot 0,0 : Déplacement normalisé (magnitude)\n",
    "pl.subplot(0, 0)\n",
    "pl.add_mesh(u_grid, **dargs)\n",
    "pl.add_axes(color=\"black\")\n",
    "pl.add_text(\"Normalized Displacement\", color='k', font_size=10)\n",
    "\n",
    "# Sous-plot 0,1 : Déplacement selon X\n",
    "pl.subplot(0, 1)\n",
    "pl.add_mesh(u_grid.copy(), component=0, **dargs)\n",
    "pl.add_axes(color=\"black\")\n",
    "pl.add_text(\"X Displacement\", color='k', font_size=10)\n",
    "\n",
    "# Sous-plot 1,0 : Déplacement selon Y\n",
    "pl.subplot(1, 0)\n",
    "pl.add_mesh(u_grid.copy(), component=1, **dargs)\n",
    "pl.add_axes(color=\"black\")\n",
    "pl.add_text(\"Y Displacement\", color='k', font_size=10)\n",
    "\n",
    "# Sous-plot 1,1 : Déplacement selon Z\n",
    "pl.subplot(1, 1)\n",
    "pl.add_mesh(u_grid.copy(), component=2, **dargs)\n",
    "pl.add_axes(color=\"black\")\n",
    "pl.add_text(\"Z Displacement\", color='k', font_size=10)\n",
    "\n",
    "# Configuration globale de la visualisation\n",
    "pl.link_views()  # Lie les vues des sous-plots pour une navigation synchronisée\n",
    "pl.camera_position = 'iso'  # Vue isométrique\n",
    "pl.background_color = 'grey'  # Couleur de fond grise\n",
    "\n",
    "# Ajout d'une barre de couleur globale\n",
    "pl.add_scalar_bar(title=\"Displacement (m)\", n_labels=5, label_font_size=10, title_font_size=12, position_x=0.25, position_y=0.05, width=0.5)\n",
    "\n",
    "# Affichage de la visualisation\n",
    "pl.show()\n"
   ]
  },
  {
   "cell_type": "markdown",
   "id": "05870cc4-73d1-41dc-8acd-e39aee0be5f2",
   "metadata": {
    "jp-MarkdownHeadingCollapsed": true
   },
   "source": [
    "### Visualisation des composantes du tenseur des déformations"
   ]
  },
  {
   "cell_type": "code",
   "execution_count": 18,
   "id": "9d0fdf2c-b118-4951-8764-82bd46cd1d70",
   "metadata": {
    "canvas": {
     "comments": [],
     "componentType": "CodeCell",
     "copiedOriginId": null,
     "diskcache": false,
     "headerColor": "transparent",
     "id": "e2c12f1d-f6e6-4767-a4a4-539ed0187ca8",
     "isComponent": false,
     "name": "",
     "parents": []
    }
   },
   "outputs": [
    {
     "data": {
      "application/vnd.jupyter.widget-view+json": {
       "model_id": "623281d13b6f4148b72c6ed842505010",
       "version_major": 2,
       "version_minor": 0
      },
      "text/plain": [
       "Widget(value='<iframe src=\"http://localhost:58577/index.html?ui=P_0x2a75759a0_8&reconnect=auto\" class=\"pyvista…"
      ]
     },
     "metadata": {},
     "output_type": "display_data"
    }
   ],
   "source": [
    "# Calcul du tenseur de déformation\n",
    "eps = epsilon(uh)\n",
    "\n",
    "# Extraction des composantes du tenseur de déformation\n",
    "eps_xx, eps_xy, eps_xz = eps[0, 0], eps[0, 1], eps[0, 2]\n",
    "eps_yy, eps_yz = eps[1, 1], eps[1, 2]\n",
    "eps_zz = eps[2, 2]\n",
    "\n",
    "# Création de la grille PyVista\n",
    "eps_topology, eps_cell_types, eps_geometry = dolfinx.plot.vtk_mesh(domain)\n",
    "eps_grid = pv.UnstructuredGrid(eps_topology, eps_cell_types, eps_geometry)\n",
    "\n",
    "# Définition de l'espace fonctionnel pour les déformations (éléments discontinus d'ordre 0)\n",
    "V_eps = fem.functionspace(domain, (\"DG\", 0))\n",
    "\n",
    "# Fonction pour interpoler les composantes de déformation\n",
    "def interpolate_strain(eps_component):\n",
    "    expr = fem.Expression(eps_component, V_eps.element.interpolation_points())\n",
    "    strain = fem.Function(V_eps)\n",
    "    strain.interpolate(expr)\n",
    "    return strain\n",
    "\n",
    "# Interpolation des composantes de déformation\n",
    "strain_components = {\n",
    "    \"XX\": interpolate_strain(eps_xx),\n",
    "    \"YY\": interpolate_strain(eps_yy),\n",
    "    \"ZZ\": interpolate_strain(eps_zz),\n",
    "    \"YZ\": interpolate_strain(eps_yz),\n",
    "    \"XZ\": interpolate_strain(eps_xz),\n",
    "    \"XY\": interpolate_strain(eps_xy)\n",
    "}\n",
    "\n",
    "# Configuration de la visualisation\n",
    "pl = pv.Plotter(shape=(2, 3))\n",
    "warped = u_grid.warp_by_vector(\"u\", factor=0)  # Pas de déformation pour visualiser les déformations\n",
    "\n",
    "dargs = dict(cmap=\"jet\", show_scalar_bar=False)\n",
    "\n",
    "# Fonction pour ajouter un sous-plot\n",
    "def add_subplot(row, col, component):\n",
    "    pl.subplot(row, col)\n",
    "    warped.cell_data[f\"Epsilon_{component}\"] = strain_components[component].vector.array\n",
    "    warped.set_active_scalars(f\"Epsilon_{component}\")\n",
    "    pl.add_mesh(warped, **dargs)    \n",
    "    pl.add_axes(color=\"black\")\n",
    "    pl.add_text(f\"Epsilon {component}\", color='k', font_size=12)\n",
    "\n",
    "# Création des sous-plots pour chaque composante\n",
    "for i, component in enumerate([\"XX\", \"YY\", \"ZZ\", \"YZ\", \"XZ\", \"XY\"]):\n",
    "    add_subplot(i // 3, i % 3, component)\n",
    "\n",
    "# Configuration finale\n",
    "pl.link_views()\n",
    "pl.camera_position = 'iso'\n",
    "pl.background_color = 'grey'\n",
    "\n",
    "# Ajout d'une barre de couleur globale\n",
    "pl.add_scalar_bar(title=\"Strain\", n_labels=5, label_font_size=10, title_font_size=12, position_x=0.25, position_y=0.05, width=0.5)\n",
    "\n",
    "# Affichage\n",
    "pl.show()"
   ]
  },
  {
   "cell_type": "markdown",
   "id": "1ad22723-4e8e-4ce4-a64e-1e9539ed64d3",
   "metadata": {
    "jp-MarkdownHeadingCollapsed": true
   },
   "source": [
    "### Visualisation des composantes du tenseur des contraintes"
   ]
  },
  {
   "cell_type": "code",
   "execution_count": 19,
   "id": "aa215cbc-8d0f-4287-9785-98b739ae5e69",
   "metadata": {},
   "outputs": [
    {
     "data": {
      "application/vnd.jupyter.widget-view+json": {
       "model_id": "5b0957f6cb5d48e2884b7ea6aa567f74",
       "version_major": 2,
       "version_minor": 0
      },
      "text/plain": [
       "Widget(value='<iframe src=\"http://localhost:58577/index.html?ui=P_0x2a99b0b30_9&reconnect=auto\" class=\"pyvista…"
      ]
     },
     "metadata": {},
     "output_type": "display_data"
    }
   ],
   "source": [
    "# Calculer le tenseur des contraintes\n",
    "sig = sigma(uh)  # sigma est une fonction définie précédemment pour calculer les contraintes\n",
    "\n",
    "# Extraire les composantes du tenseur des contraintes\n",
    "sig_xx, sig_xy, sig_xz = sig[0, 0], sig[0, 1], sig[0, 2]\n",
    "sig_yy, sig_yz = sig[1, 1], sig[1, 2]\n",
    "sig_zz = sig[2, 2]\n",
    "\n",
    "# Définir l'espace fonctionnel pour les contraintes (éléments discontinus d'ordre 0)\n",
    "V_sig = fem.functionspace(domain, (\"DG\", 0))\n",
    "\n",
    "# Fonction pour interpoler les composantes de contrainte\n",
    "def interpolate_stress(sig_component):\n",
    "    expr = fem.Expression(sig_component, V_sig.element.interpolation_points())\n",
    "    stress = fem.Function(V_sig)\n",
    "    stress.interpolate(expr)\n",
    "    return stress\n",
    "\n",
    "# Interpoler chaque composante de contrainte\n",
    "stress_xx = interpolate_stress(sig_xx)\n",
    "stress_yy = interpolate_stress(sig_yy)\n",
    "stress_zz = interpolate_stress(sig_zz)\n",
    "stress_yz = interpolate_stress(sig_yz)\n",
    "stress_xz = interpolate_stress(sig_xz)\n",
    "stress_xy = interpolate_stress(sig_xy)\n",
    "\n",
    "# Configuration de la visualisation\n",
    "pl = pv.Plotter(shape=(2, 3))  # Créer un plotter avec une grille 2x3\n",
    "\n",
    "dargs = dict(\n",
    "    cmap=\"jet\",\n",
    "    show_scalar_bar=False,\n",
    ")\n",
    "\n",
    "# Fonction pour ajouter un sous-plot\n",
    "def add_subplot(row, col, stress_component, title):\n",
    "    pl.subplot(row, col)\n",
    "    warped.cell_data[title] = stress_component.vector.array\n",
    "    warped.set_active_scalars(title)\n",
    "    pl.add_mesh(warped, **dargs)    \n",
    "    pl.add_axes(color=\"k\")\n",
    "    pl.add_text(title, color='k', font_size=12)\n",
    "\n",
    "# Ajouter chaque composante de contrainte comme un sous-plot\n",
    "add_subplot(0, 0, stress_xx, \"Sigma XX\")\n",
    "add_subplot(0, 1, stress_yy, \"Sigma YY\")\n",
    "add_subplot(0, 2, stress_zz, \"Sigma ZZ\")\n",
    "add_subplot(1, 0, stress_yz, \"Sigma YZ\")\n",
    "add_subplot(1, 1, stress_xz, \"Sigma XZ\")\n",
    "add_subplot(1, 2, stress_xy, \"Sigma XY\")\n",
    "\n",
    "# Configuration finale de la visualisation\n",
    "pl.link_views()  # Lier les vues pour une navigation synchronisée\n",
    "pl.camera_position = 'iso'  # Vue isométrique\n",
    "pl.background_color = 'grey'  # Couleur de fond grise\n",
    "\n",
    "# Ajout d'une barre de couleur globale\n",
    "pl.add_scalar_bar(title=\"Contrainte (Pa)\", n_labels=5, label_font_size=10, title_font_size=12, position_x=0.25, position_y=0.05, width=0.5)\n",
    "\n",
    "# Afficher la visualisation\n",
    "pl.show()"
   ]
  },
  {
   "cell_type": "markdown",
   "id": "35f333e4-267d-42b9-933e-7e00e44978dd",
   "metadata": {
    "jp-MarkdownHeadingCollapsed": true
   },
   "source": [
    "### Calcul des contraintes de von Mises"
   ]
  },
  {
   "cell_type": "code",
   "execution_count": 42,
   "id": "75aeb056-fdb9-49d9-8f43-276660ffc051",
   "metadata": {},
   "outputs": [],
   "source": [
    "s = sigma(uh) - 1. / 3 * ufl.tr(sigma(uh)) * ufl.Identity(len(uh))\n",
    "von_Mises = ufl.sqrt(3. / 2 * ufl.inner(s, s))\n",
    "\n",
    "V_von_mises = fem.functionspace(domain, (\"DG\", 0))\n",
    "stress_expr = fem.Expression(von_Mises, V_von_mises.element.interpolation_points())\n",
    "stresses = fem.Function(V_von_mises)\n",
    "stresses.interpolate(stress_expr)"
   ]
  },
  {
   "cell_type": "markdown",
   "id": "59a0c2ba-07d0-4b56-8466-9a4ed81c0fc1",
   "metadata": {
    "jp-MarkdownHeadingCollapsed": true
   },
   "source": [
    "### Visualisation des contraintes de von Mises "
   ]
  },
  {
   "cell_type": "code",
   "execution_count": 44,
   "id": "3d6d5e7d-b7aa-4790-a88c-87ba960756aa",
   "metadata": {},
   "outputs": [
    {
     "data": {
      "application/vnd.jupyter.widget-view+json": {
       "model_id": "9730513279fd4721b3d95ec39d850c52",
       "version_major": 2,
       "version_minor": 0
      },
      "text/plain": [
       "Widget(value='<iframe src=\"http://localhost:58577/index.html?ui=P_0x2a7574c50_12&reconnect=auto\" class=\"pyvist…"
      ]
     },
     "metadata": {},
     "output_type": "display_data"
    }
   ],
   "source": [
    "# Créez une nouvelle instance de Plotter\n",
    "# Ajout des données de contrainte de von Mises au maillage déformé\n",
    "warped.cell_data[\"VonMises\"] = stresses.vector.array\n",
    "# Définition de \"VonMises\" comme scalaire actif pour la visualisation\n",
    "warped.set_active_scalars(\"VonMises\")\n",
    "\n",
    "# Création d'une nouvelle instance de Plotter PyVista\n",
    "p = pv.Plotter()\n",
    "\n",
    "# Ajout du maillage déformé avec la contrainte de von Mises\n",
    "p.add_mesh(warped, \n",
    "           cmap=\"jet\",  # Utilisation de la carte de couleurs \"jet\"\n",
    "           show_edges=False,  # Ne pas afficher les arêtes du maillage\n",
    "           scalar_bar_args={\n",
    "               \"title\": \"von Mises (MPa)\",  # Titre de la barre de couleur\n",
    "               \"title_font_size\": 24,  # Taille de la police du titre\n",
    "               \"label_font_size\": 22,  # Taille de la police des étiquettes\n",
    "               \"shadow\": True,  # Ajout d'une ombre à la barre de couleur\n",
    "               \"italic\": True,  # Texte en italique\n",
    "               \"font_family\": \"arial\",  # Police Arial\n",
    "               \"vertical\": False  # Barre de couleur horizontale\n",
    "           })\n",
    "\n",
    "# Ajout d'un titre à la visualisation\n",
    "p.add_text(\"Contraintes de von Mises\", font_size=12, color=\"black\", position=\"upper_edge\")\n",
    "\n",
    "# Ajout des axes de coordonnées en noir\n",
    "p.add_axes(color=\"black\")\n",
    "\n",
    "# Configuration de l'arrière-plan en gris\n",
    "p.set_background(\"grey\")\n",
    "\n",
    "# Configuration de la caméra pour une vue optimale\n",
    "p.camera_position = [(3, 3, 2), (0, 0, 0.5), (0, 0, 1)]\n",
    "\n",
    "# Affichage de la visualisation\n",
    "p.show()"
   ]
  },
  {
   "cell_type": "markdown",
   "id": "3b51c6b8-cecd-4552-a9d8-3faf4862b450",
   "metadata": {},
   "source": [
    "## Analyses des résultats"
   ]
  },
  {
   "cell_type": "markdown",
   "id": "a3a3c74b-913c-4525-9a6d-da4a6986d451",
   "metadata": {
    "jp-MarkdownHeadingCollapsed": true
   },
   "source": [
    "### Calcul des valeurs maximales"
   ]
  },
  {
   "cell_type": "code",
   "execution_count": 49,
   "id": "70873498-b3c2-4df0-8f66-b4a5cdf51481",
   "metadata": {},
   "outputs": [],
   "source": [
    "# Extraction de la valeur maximale de la rotation RZ\n",
    "max_rotation_z = np.max(np.abs(rotation_z.x.array))\n",
    "\n",
    "# Extraction de la valeur maximale de la norme de rotation\n",
    "max_rotation_norm = np.max(rotation_norm.x.array)\n",
    "\n",
    "# Conversion en degrés pour une interprétation plus intuitive\n",
    "max_rotation_z_degrees = np.degrees(max_rotation_z)\n",
    "\n",
    "# Calcul de l'angle de torsion théorique\n",
    "theoretical_twist = ang * h  # ang est l'angle de torsion par unité de longueur, h est la hauteur du cylindre\n",
    "\n",
    "# Comparaison pour RZ\n",
    "relative_error_Z = abs(max_rotation_z - theoretical_twist) / theoretical_twist * 100\n",
    "\n",
    "# Comparaison pour norme R\n",
    "relative_error_N = (max_rotation_norm - theta_theoretical) / theta_theoretical * 100"
   ]
  },
  {
   "cell_type": "code",
   "execution_count": 46,
   "id": "edb606ce-12b0-43b2-aeb3-49f5875cd634",
   "metadata": {},
   "outputs": [
    {
     "name": "stdout",
     "output_type": "stream",
     "text": [
      "Moment d'inertie polaire J : 6.283185e-04 m^4\n",
      "Angle de torsion théorique θ : 20.000000 radians\n",
      "Angle de torsion théorique θ : 1145.92 degrés\n",
      "\n",
      "Comparaison avec la simulation numérique en RZ:\n",
      "Rotation Z maximale simulée : 19.888688 radians\n",
      "Rotation Z maximale simulée : 1139.54 degrés\n",
      "Erreur relative : 0.56%\n",
      "\n",
      "Comparaison avec la simulation numérique en norme:\n",
      "Norme de rotation maximale : 19.901232 radians\n",
      "Norme de rotation maximale : 1140.26 degrés\n",
      "Erreur relative : -0.49%\n",
      "\n",
      "Valeurs maximales des composantes de rotation :\n",
      "RX max : 124.69 degrés\n",
      "RX max  : 2.176298 radians\n",
      "RY max : 122.15 degrés\n",
      "RY max  : 2.131950 radians\n"
     ]
    }
   ],
   "source": [
    "# Calcul du moment d'inertie polaire J pour une section circulaire\n",
    "J = pi * (R ** 4) / 2\n",
    "\n",
    "# Calcul de l'angle de torsion théorique\n",
    "theta_theoretical = C * h / (mu * J)\n",
    "\n",
    "# Affichage des résultats\n",
    "print(f\"Moment d'inertie polaire J : {J:.6e} m^4\")\n",
    "print(f\"Angle de torsion théorique θ : {theta_theoretical:.6f} radians\")\n",
    "print(f\"Angle de torsion théorique θ : {np.degrees(theta_theoretical):.2f} degrés\")\n",
    "\n",
    "# Comparaison avec la rotation maximale calculée numériquement\n",
    "if 'max_rotation_z' in locals():\n",
    "    relative_error = abs(max_rotation_z - theta_theoretical) / theta_theoretical * 100\n",
    "    print(f\"\\nComparaison avec la simulation numérique en RZ:\")\n",
    "    print(f\"Rotation Z maximale simulée : {max_rotation_z:.6f} radians\")\n",
    "    print(f\"Rotation Z maximale simulée : {np.degrees(max_rotation_z):.2f} degrés\")\n",
    "    print(f\"Erreur relative : {relative_error_Z:.2f}%\")\n",
    "    \n",
    "    print(f\"\\nComparaison avec la simulation numérique en norme:\")\n",
    "    print(f\"Norme de rotation maximale : {max_rotation_norm:.6f} radians\")\n",
    "    print(f\"Norme de rotation maximale : {np.degrees(max_rotation_norm):.2f} degrés\")\n",
    "    print(f\"Erreur relative : {relative_error_N:.2f}%\")\n",
    "else:\n",
    "    print(\"\\nAttention : La rotation maximale simulée n'a pas été calculée précédemment.\")\n",
    "\n",
    "# Analyse des autres composantes\n",
    "max_rotation_x = np.max(np.abs(rotation_x.x.array))\n",
    "max_rotation_y = np.max(np.abs(rotation_y.x.array))\n",
    "\n",
    "print(\"\\nValeurs maximales des composantes de rotation :\")\n",
    "print(f\"RX max : {np.degrees(max_rotation_x):.2f} degrés\")\n",
    "print(f\"RX max  : {max_rotation_x:.6f} radians\")\n",
    "print(f\"RY max : {np.degrees(max_rotation_y):.2f} degrés\")\n",
    "print(f\"RY max  : {max_rotation_y:.6f} radians\")"
   ]
  },
  {
   "cell_type": "code",
   "execution_count": 47,
   "id": "d400b047-90cf-4cb9-be2c-9feae30ced41",
   "metadata": {},
   "outputs": [
    {
     "name": "stdout",
     "output_type": "stream",
     "text": [
      "Valeurs maximales des composantes de rotation :\n",
      "RX max : 2.176298 radians (124.69 degrés)\n",
      "RY max : 2.131950 radians (122.15 degrés)\n",
      "RZ max : 19.888688 radians (1139.54 degrés)\n",
      "\n",
      "Norme de rotation maximale : 20.120671 radians (1152.83 degrés)\n",
      "\n",
      "Angle de torsion théorique : 20.000000 radians (1145.92 degrés)\n",
      "Erreur relative (RZ max vs théorie) : -0.56%\n",
      "\n",
      "Contribution relative de chaque composante à la rotation totale :\n",
      "RX : 8.99%\n",
      "RY : 8.81%\n",
      "RZ : 82.20%\n"
     ]
    }
   ],
   "source": [
    "# Extraction des valeurs maximales de rotation pour chaque composante\n",
    "max_rotation_x = np.max(np.abs(rotation_x.x.array))\n",
    "max_rotation_y = np.max(np.abs(rotation_y.x.array))\n",
    "max_rotation_z = np.max(np.abs(rotation_z.x.array))\n",
    "\n",
    "# Affichage des résultats\n",
    "print(\"Valeurs maximales des composantes de rotation :\")\n",
    "print(f\"RX max : {max_rotation_x:.6f} radians ({np.degrees(max_rotation_x):.2f} degrés)\")\n",
    "print(f\"RY max : {max_rotation_y:.6f} radians ({np.degrees(max_rotation_y):.2f} degrés)\")\n",
    "print(f\"RZ max : {max_rotation_z:.6f} radians ({np.degrees(max_rotation_z):.2f} degrés)\")\n",
    "\n",
    "# Calcul et affichage de la norme de rotation maximale\n",
    "max_rotation_norm = np.sqrt(max_rotation_x**2 + max_rotation_y**2 + max_rotation_z**2)\n",
    "print(f\"\\nNorme de rotation maximale : {max_rotation_norm:.6f} radians ({np.degrees(max_rotation_norm):.2f} degrés)\")\n",
    "\n",
    "# Comparaison avec l'angle de torsion théorique (si disponible)\n",
    "if 'theta_theoretical' in locals():\n",
    "    print(f\"\\nAngle de torsion théorique : {theta_theoretical:.6f} radians ({np.degrees(theta_theoretical):.2f} degrés)\")\n",
    "    \n",
    "    # Calcul de l'erreur relative\n",
    "    relative_error = (max_rotation_z - theta_theoretical) / theta_theoretical * 100\n",
    "    print(f\"Erreur relative (RZ max vs théorie) : {relative_error:.2f}%\")\n",
    "\n",
    "# Analyse de la contribution de chaque composante\n",
    "total_rotation = max_rotation_x + max_rotation_y + max_rotation_z\n",
    "print(\"\\nContribution relative de chaque composante à la rotation totale :\")\n",
    "print(f\"RX : {max_rotation_x / total_rotation * 100:.2f}%\")\n",
    "print(f\"RY : {max_rotation_y / total_rotation * 100:.2f}%\")\n",
    "print(f\"RZ : {max_rotation_z / total_rotation * 100:.2f}%\")\n"
   ]
  },
  {
   "cell_type": "code",
   "execution_count": 48,
   "id": "9a727588-a7dd-42ef-81f9-98f6e59f5901",
   "metadata": {},
   "outputs": [
    {
     "name": "stdout",
     "output_type": "stream",
     "text": [
      "Rotation analytique maximale : 20.0 radians\n",
      "Rotation numérique maximale : 19.888687722452723 radians\n",
      "Erreur absolue : 0.11131227754727746 radians\n",
      "Erreur relative : 0.5565613877363873 %\n"
     ]
    }
   ],
   "source": [
    "import numpy as np\n",
    "\n",
    "# Valeur analytique de la rotation maximale (ici, 20 radians)\n",
    "theta_analytique = 20.0\n",
    "\n",
    "# Valeur numérique récupérée\n",
    "theta_numerique = max_rotation_z\n",
    "\n",
    "# Calcul de l'erreur absolue\n",
    "erreur_absolue = np.abs(theta_analytique - theta_numerique)\n",
    "\n",
    "# Calcul de l'erreur relative\n",
    "erreur_relative = erreur_absolue / np.abs(theta_analytique) * 100\n",
    "\n",
    "# Affichage des résultats\n",
    "print(f\"Rotation analytique maximale : {theta_analytique} radians\")\n",
    "print(f\"Rotation numérique maximale : {theta_numerique} radians\")\n",
    "print(f\"Erreur absolue : {erreur_absolue} radians\")\n",
    "print(f\"Erreur relative : {erreur_relative} %\")\n"
   ]
  }
 ],
 "metadata": {
  "canvas": {
   "colorPalette": [
    "inherit",
    "inherit",
    "inherit",
    "inherit",
    "inherit",
    "inherit",
    "inherit",
    "inherit",
    "inherit",
    "inherit"
   ],
   "parameters": []
  },
  "kernelspec": {
   "display_name": "Python (fenicsx-env)",
   "language": "python",
   "name": "fenicsx-env"
  },
  "language_info": {
   "codemirror_mode": {
    "name": "ipython",
    "version": 3
   },
   "file_extension": ".py",
   "mimetype": "text/x-python",
   "name": "python",
   "nbconvert_exporter": "python",
   "pygments_lexer": "ipython3",
   "version": "3.12.4"
  }
 },
 "nbformat": 4,
 "nbformat_minor": 5
}
