{
 "cells": [
  {
   "cell_type": "markdown",
   "id": "0489cb0a-f273-4038-9c4b-97c64889373f",
   "metadata": {
    "editable": true,
    "slideshow": {
     "slide_type": ""
    },
    "tags": []
   },
   "source": [
    "# Problème torsion d'arbres "
   ]
  },
  {
   "cell_type": "markdown",
   "id": "1a0e5057-c8a8-4cc8-b0b0-d288bcf35fb4",
   "metadata": {
    "editable": true,
    "slideshow": {
     "slide_type": ""
    },
    "tags": []
   },
   "source": [
    "## Librairies"
   ]
  },
  {
   "cell_type": "code",
   "execution_count": 1,
   "id": "25490248-8e32-4d8e-9a1a-e79cb5e24094",
   "metadata": {
    "editable": true,
    "slideshow": {
     "slide_type": ""
    },
    "tags": [
     "hide-output"
    ]
   },
   "outputs": [
    {
     "data": {
      "text/html": [
       "<script type=\"esms-options\">{\"shimMode\": true}</script><style>*[data-root-id],\n",
       "*[data-root-id] > * {\n",
       "  box-sizing: border-box;\n",
       "  font-family: var(--jp-ui-font-family);\n",
       "  font-size: var(--jp-ui-font-size1);\n",
       "  color: var(--vscode-editor-foreground, var(--jp-ui-font-color1));\n",
       "}\n",
       "\n",
       "/* Override VSCode background color */\n",
       ".cell-output-ipywidget-background:has(\n",
       "    > .cell-output-ipywidget-background > .lm-Widget > *[data-root-id]\n",
       "  ),\n",
       ".cell-output-ipywidget-background:has(> .lm-Widget > *[data-root-id]) {\n",
       "  background-color: transparent !important;\n",
       "}\n",
       "</style>"
      ]
     },
     "metadata": {},
     "output_type": "display_data"
    },
    {
     "data": {
      "application/javascript": [
       "(function(root) {\n",
       "  function now() {\n",
       "    return new Date();\n",
       "  }\n",
       "\n",
       "  const force = true;\n",
       "  const py_version = '3.6.0'.replace('rc', '-rc.').replace('.dev', '-dev.');\n",
       "  const reloading = false;\n",
       "  const Bokeh = root.Bokeh;\n",
       "\n",
       "  // Set a timeout for this load but only if we are not already initializing\n",
       "  if (typeof (root._bokeh_timeout) === \"undefined\" || (force || !root._bokeh_is_initializing)) {\n",
       "    root._bokeh_timeout = Date.now() + 5000;\n",
       "    root._bokeh_failed_load = false;\n",
       "  }\n",
       "\n",
       "  function run_callbacks() {\n",
       "    try {\n",
       "      root._bokeh_onload_callbacks.forEach(function(callback) {\n",
       "        if (callback != null)\n",
       "          callback();\n",
       "      });\n",
       "    } finally {\n",
       "      delete root._bokeh_onload_callbacks;\n",
       "    }\n",
       "    console.debug(\"Bokeh: all callbacks have finished\");\n",
       "  }\n",
       "\n",
       "  function load_libs(css_urls, js_urls, js_modules, js_exports, callback) {\n",
       "    if (css_urls == null) css_urls = [];\n",
       "    if (js_urls == null) js_urls = [];\n",
       "    if (js_modules == null) js_modules = [];\n",
       "    if (js_exports == null) js_exports = {};\n",
       "\n",
       "    root._bokeh_onload_callbacks.push(callback);\n",
       "\n",
       "    if (root._bokeh_is_loading > 0) {\n",
       "      // Don't load bokeh if it is still initializing\n",
       "      console.debug(\"Bokeh: BokehJS is being loaded, scheduling callback at\", now());\n",
       "      return null;\n",
       "    } else if (js_urls.length === 0 && js_modules.length === 0 && Object.keys(js_exports).length === 0) {\n",
       "      // There is nothing to load\n",
       "      run_callbacks();\n",
       "      return null;\n",
       "    }\n",
       "\n",
       "    function on_load() {\n",
       "      root._bokeh_is_loading--;\n",
       "      if (root._bokeh_is_loading === 0) {\n",
       "        console.debug(\"Bokeh: all BokehJS libraries/stylesheets loaded\");\n",
       "        run_callbacks()\n",
       "      }\n",
       "    }\n",
       "    window._bokeh_on_load = on_load\n",
       "\n",
       "    function on_error(e) {\n",
       "      const src_el = e.srcElement\n",
       "      console.error(\"failed to load \" + (src_el.href || src_el.src));\n",
       "    }\n",
       "\n",
       "    const skip = [];\n",
       "    if (window.requirejs) {\n",
       "      window.requirejs.config({'packages': {}, 'paths': {'vtk': 'https://cdn.jsdelivr.net/npm/vtk.js@30.1.0/vtk'}, 'shim': {'vtk': {'exports': 'vtk'}}});\n",
       "      require([\"vtk\"], function() {\n",
       "        on_load()\n",
       "      })\n",
       "      root._bokeh_is_loading = css_urls.length + 1;\n",
       "    } else {\n",
       "      root._bokeh_is_loading = css_urls.length + js_urls.length + js_modules.length + Object.keys(js_exports).length;\n",
       "    }\n",
       "\n",
       "    const existing_stylesheets = []\n",
       "    const links = document.getElementsByTagName('link')\n",
       "    for (let i = 0; i < links.length; i++) {\n",
       "      const link = links[i]\n",
       "      if (link.href != null) {\n",
       "        existing_stylesheets.push(link.href)\n",
       "      }\n",
       "    }\n",
       "    for (let i = 0; i < css_urls.length; i++) {\n",
       "      const url = css_urls[i];\n",
       "      const escaped = encodeURI(url)\n",
       "      if (existing_stylesheets.indexOf(escaped) !== -1) {\n",
       "        on_load()\n",
       "        continue;\n",
       "      }\n",
       "      const element = document.createElement(\"link\");\n",
       "      element.onload = on_load;\n",
       "      element.onerror = on_error;\n",
       "      element.rel = \"stylesheet\";\n",
       "      element.type = \"text/css\";\n",
       "      element.href = url;\n",
       "      console.debug(\"Bokeh: injecting link tag for BokehJS stylesheet: \", url);\n",
       "      document.body.appendChild(element);\n",
       "    }    if (((window.vtk !== undefined) && (!(window.vtk instanceof HTMLElement))) || window.requirejs) {\n",
       "      var urls = ['https://cdn.holoviz.org/panel/1.5.3/dist/bundled/abstractvtkplot/vtk.js@30.1.0/vtk.js'];\n",
       "      for (var i = 0; i < urls.length; i++) {\n",
       "        skip.push(encodeURI(urls[i]))\n",
       "      }\n",
       "    }    var existing_scripts = []\n",
       "    const scripts = document.getElementsByTagName('script')\n",
       "    for (let i = 0; i < scripts.length; i++) {\n",
       "      var script = scripts[i]\n",
       "      if (script.src != null) {\n",
       "        existing_scripts.push(script.src)\n",
       "      }\n",
       "    }\n",
       "    for (let i = 0; i < js_urls.length; i++) {\n",
       "      const url = js_urls[i];\n",
       "      const escaped = encodeURI(url)\n",
       "      if (skip.indexOf(escaped) !== -1 || existing_scripts.indexOf(escaped) !== -1) {\n",
       "        if (!window.requirejs) {\n",
       "          on_load();\n",
       "        }\n",
       "        continue;\n",
       "      }\n",
       "      const element = document.createElement('script');\n",
       "      element.onload = on_load;\n",
       "      element.onerror = on_error;\n",
       "      element.async = false;\n",
       "      element.src = url;\n",
       "      console.debug(\"Bokeh: injecting script tag for BokehJS library: \", url);\n",
       "      document.head.appendChild(element);\n",
       "    }\n",
       "    for (let i = 0; i < js_modules.length; i++) {\n",
       "      const url = js_modules[i];\n",
       "      const escaped = encodeURI(url)\n",
       "      if (skip.indexOf(escaped) !== -1 || existing_scripts.indexOf(escaped) !== -1) {\n",
       "        if (!window.requirejs) {\n",
       "          on_load();\n",
       "        }\n",
       "        continue;\n",
       "      }\n",
       "      var element = document.createElement('script');\n",
       "      element.onload = on_load;\n",
       "      element.onerror = on_error;\n",
       "      element.async = false;\n",
       "      element.src = url;\n",
       "      element.type = \"module\";\n",
       "      console.debug(\"Bokeh: injecting script tag for BokehJS library: \", url);\n",
       "      document.head.appendChild(element);\n",
       "    }\n",
       "    for (const name in js_exports) {\n",
       "      const url = js_exports[name];\n",
       "      const escaped = encodeURI(url)\n",
       "      if (skip.indexOf(escaped) >= 0 || root[name] != null) {\n",
       "        if (!window.requirejs) {\n",
       "          on_load();\n",
       "        }\n",
       "        continue;\n",
       "      }\n",
       "      var element = document.createElement('script');\n",
       "      element.onerror = on_error;\n",
       "      element.async = false;\n",
       "      element.type = \"module\";\n",
       "      console.debug(\"Bokeh: injecting script tag for BokehJS library: \", url);\n",
       "      element.textContent = `\n",
       "      import ${name} from \"${url}\"\n",
       "      window.${name} = ${name}\n",
       "      window._bokeh_on_load()\n",
       "      `\n",
       "      document.head.appendChild(element);\n",
       "    }\n",
       "    if (!js_urls.length && !js_modules.length) {\n",
       "      on_load()\n",
       "    }\n",
       "  };\n",
       "\n",
       "  function inject_raw_css(css) {\n",
       "    const element = document.createElement(\"style\");\n",
       "    element.appendChild(document.createTextNode(css));\n",
       "    document.body.appendChild(element);\n",
       "  }\n",
       "\n",
       "  const js_urls = [\"https://cdn.holoviz.org/panel/1.5.3/dist/bundled/reactiveesm/es-module-shims@^1.10.0/dist/es-module-shims.min.js\", \"https://cdn.holoviz.org/panel/1.5.3/dist/bundled/abstractvtkplot/vtk.js@30.1.0/vtk.js\", \"https://cdn.bokeh.org/bokeh/release/bokeh-3.6.0.min.js\", \"https://cdn.bokeh.org/bokeh/release/bokeh-gl-3.6.0.min.js\", \"https://cdn.bokeh.org/bokeh/release/bokeh-widgets-3.6.0.min.js\", \"https://cdn.bokeh.org/bokeh/release/bokeh-tables-3.6.0.min.js\", \"https://cdn.holoviz.org/panel/1.5.3/dist/panel.min.js\"];\n",
       "  const js_modules = [];\n",
       "  const js_exports = {};\n",
       "  const css_urls = [];\n",
       "  const inline_js = [    function(Bokeh) {\n",
       "      Bokeh.set_log_level(\"info\");\n",
       "    },\n",
       "function(Bokeh) {} // ensure no trailing comma for IE\n",
       "  ];\n",
       "\n",
       "  function run_inline_js() {\n",
       "    if ((root.Bokeh !== undefined) || (force === true)) {\n",
       "      for (let i = 0; i < inline_js.length; i++) {\n",
       "        try {\n",
       "          inline_js[i].call(root, root.Bokeh);\n",
       "        } catch(e) {\n",
       "          if (!reloading) {\n",
       "            throw e;\n",
       "          }\n",
       "        }\n",
       "      }\n",
       "      // Cache old bokeh versions\n",
       "      if (Bokeh != undefined && !reloading) {\n",
       "        var NewBokeh = root.Bokeh;\n",
       "        if (Bokeh.versions === undefined) {\n",
       "          Bokeh.versions = new Map();\n",
       "        }\n",
       "        if (NewBokeh.version !== Bokeh.version) {\n",
       "          Bokeh.versions.set(NewBokeh.version, NewBokeh)\n",
       "        }\n",
       "        root.Bokeh = Bokeh;\n",
       "      }\n",
       "    } else if (Date.now() < root._bokeh_timeout) {\n",
       "      setTimeout(run_inline_js, 100);\n",
       "    } else if (!root._bokeh_failed_load) {\n",
       "      console.log(\"Bokeh: BokehJS failed to load within specified timeout.\");\n",
       "      root._bokeh_failed_load = true;\n",
       "    }\n",
       "    root._bokeh_is_initializing = false\n",
       "  }\n",
       "\n",
       "  function load_or_wait() {\n",
       "    // Implement a backoff loop that tries to ensure we do not load multiple\n",
       "    // versions of Bokeh and its dependencies at the same time.\n",
       "    // In recent versions we use the root._bokeh_is_initializing flag\n",
       "    // to determine whether there is an ongoing attempt to initialize\n",
       "    // bokeh, however for backward compatibility we also try to ensure\n",
       "    // that we do not start loading a newer (Panel>=1.0 and Bokeh>3) version\n",
       "    // before older versions are fully initialized.\n",
       "    if (root._bokeh_is_initializing && Date.now() > root._bokeh_timeout) {\n",
       "      // If the timeout and bokeh was not successfully loaded we reset\n",
       "      // everything and try loading again\n",
       "      root._bokeh_timeout = Date.now() + 5000;\n",
       "      root._bokeh_is_initializing = false;\n",
       "      root._bokeh_onload_callbacks = undefined;\n",
       "      root._bokeh_is_loading = 0\n",
       "      console.log(\"Bokeh: BokehJS was loaded multiple times but one version failed to initialize.\");\n",
       "      load_or_wait();\n",
       "    } else if (root._bokeh_is_initializing || (typeof root._bokeh_is_initializing === \"undefined\" && root._bokeh_onload_callbacks !== undefined)) {\n",
       "      setTimeout(load_or_wait, 100);\n",
       "    } else {\n",
       "      root._bokeh_is_initializing = true\n",
       "      root._bokeh_onload_callbacks = []\n",
       "      const bokeh_loaded = root.Bokeh != null && (root.Bokeh.version === py_version || (root.Bokeh.versions !== undefined && root.Bokeh.versions.has(py_version)));\n",
       "      if (!reloading && !bokeh_loaded) {\n",
       "        if (root.Bokeh) {\n",
       "          root.Bokeh = undefined;\n",
       "        }\n",
       "        console.debug(\"Bokeh: BokehJS not loaded, scheduling load and callback at\", now());\n",
       "      }\n",
       "      load_libs(css_urls, js_urls, js_modules, js_exports, function() {\n",
       "        console.debug(\"Bokeh: BokehJS plotting callback run at\", now());\n",
       "        run_inline_js();\n",
       "      });\n",
       "    }\n",
       "  }\n",
       "  // Give older versions of the autoload script a head-start to ensure\n",
       "  // they initialize before we start loading newer version.\n",
       "  setTimeout(load_or_wait, 100)\n",
       "}(window));"
      ],
      "application/vnd.holoviews_load.v0+json": "(function(root) {\n  function now() {\n    return new Date();\n  }\n\n  const force = true;\n  const py_version = '3.6.0'.replace('rc', '-rc.').replace('.dev', '-dev.');\n  const reloading = false;\n  const Bokeh = root.Bokeh;\n\n  // Set a timeout for this load but only if we are not already initializing\n  if (typeof (root._bokeh_timeout) === \"undefined\" || (force || !root._bokeh_is_initializing)) {\n    root._bokeh_timeout = Date.now() + 5000;\n    root._bokeh_failed_load = false;\n  }\n\n  function run_callbacks() {\n    try {\n      root._bokeh_onload_callbacks.forEach(function(callback) {\n        if (callback != null)\n          callback();\n      });\n    } finally {\n      delete root._bokeh_onload_callbacks;\n    }\n    console.debug(\"Bokeh: all callbacks have finished\");\n  }\n\n  function load_libs(css_urls, js_urls, js_modules, js_exports, callback) {\n    if (css_urls == null) css_urls = [];\n    if (js_urls == null) js_urls = [];\n    if (js_modules == null) js_modules = [];\n    if (js_exports == null) js_exports = {};\n\n    root._bokeh_onload_callbacks.push(callback);\n\n    if (root._bokeh_is_loading > 0) {\n      // Don't load bokeh if it is still initializing\n      console.debug(\"Bokeh: BokehJS is being loaded, scheduling callback at\", now());\n      return null;\n    } else if (js_urls.length === 0 && js_modules.length === 0 && Object.keys(js_exports).length === 0) {\n      // There is nothing to load\n      run_callbacks();\n      return null;\n    }\n\n    function on_load() {\n      root._bokeh_is_loading--;\n      if (root._bokeh_is_loading === 0) {\n        console.debug(\"Bokeh: all BokehJS libraries/stylesheets loaded\");\n        run_callbacks()\n      }\n    }\n    window._bokeh_on_load = on_load\n\n    function on_error(e) {\n      const src_el = e.srcElement\n      console.error(\"failed to load \" + (src_el.href || src_el.src));\n    }\n\n    const skip = [];\n    if (window.requirejs) {\n      window.requirejs.config({'packages': {}, 'paths': {'vtk': 'https://cdn.jsdelivr.net/npm/vtk.js@30.1.0/vtk'}, 'shim': {'vtk': {'exports': 'vtk'}}});\n      require([\"vtk\"], function() {\n        on_load()\n      })\n      root._bokeh_is_loading = css_urls.length + 1;\n    } else {\n      root._bokeh_is_loading = css_urls.length + js_urls.length + js_modules.length + Object.keys(js_exports).length;\n    }\n\n    const existing_stylesheets = []\n    const links = document.getElementsByTagName('link')\n    for (let i = 0; i < links.length; i++) {\n      const link = links[i]\n      if (link.href != null) {\n        existing_stylesheets.push(link.href)\n      }\n    }\n    for (let i = 0; i < css_urls.length; i++) {\n      const url = css_urls[i];\n      const escaped = encodeURI(url)\n      if (existing_stylesheets.indexOf(escaped) !== -1) {\n        on_load()\n        continue;\n      }\n      const element = document.createElement(\"link\");\n      element.onload = on_load;\n      element.onerror = on_error;\n      element.rel = \"stylesheet\";\n      element.type = \"text/css\";\n      element.href = url;\n      console.debug(\"Bokeh: injecting link tag for BokehJS stylesheet: \", url);\n      document.body.appendChild(element);\n    }    if (((window.vtk !== undefined) && (!(window.vtk instanceof HTMLElement))) || window.requirejs) {\n      var urls = ['https://cdn.holoviz.org/panel/1.5.3/dist/bundled/abstractvtkplot/vtk.js@30.1.0/vtk.js'];\n      for (var i = 0; i < urls.length; i++) {\n        skip.push(encodeURI(urls[i]))\n      }\n    }    var existing_scripts = []\n    const scripts = document.getElementsByTagName('script')\n    for (let i = 0; i < scripts.length; i++) {\n      var script = scripts[i]\n      if (script.src != null) {\n        existing_scripts.push(script.src)\n      }\n    }\n    for (let i = 0; i < js_urls.length; i++) {\n      const url = js_urls[i];\n      const escaped = encodeURI(url)\n      if (skip.indexOf(escaped) !== -1 || existing_scripts.indexOf(escaped) !== -1) {\n        if (!window.requirejs) {\n          on_load();\n        }\n        continue;\n      }\n      const element = document.createElement('script');\n      element.onload = on_load;\n      element.onerror = on_error;\n      element.async = false;\n      element.src = url;\n      console.debug(\"Bokeh: injecting script tag for BokehJS library: \", url);\n      document.head.appendChild(element);\n    }\n    for (let i = 0; i < js_modules.length; i++) {\n      const url = js_modules[i];\n      const escaped = encodeURI(url)\n      if (skip.indexOf(escaped) !== -1 || existing_scripts.indexOf(escaped) !== -1) {\n        if (!window.requirejs) {\n          on_load();\n        }\n        continue;\n      }\n      var element = document.createElement('script');\n      element.onload = on_load;\n      element.onerror = on_error;\n      element.async = false;\n      element.src = url;\n      element.type = \"module\";\n      console.debug(\"Bokeh: injecting script tag for BokehJS library: \", url);\n      document.head.appendChild(element);\n    }\n    for (const name in js_exports) {\n      const url = js_exports[name];\n      const escaped = encodeURI(url)\n      if (skip.indexOf(escaped) >= 0 || root[name] != null) {\n        if (!window.requirejs) {\n          on_load();\n        }\n        continue;\n      }\n      var element = document.createElement('script');\n      element.onerror = on_error;\n      element.async = false;\n      element.type = \"module\";\n      console.debug(\"Bokeh: injecting script tag for BokehJS library: \", url);\n      element.textContent = `\n      import ${name} from \"${url}\"\n      window.${name} = ${name}\n      window._bokeh_on_load()\n      `\n      document.head.appendChild(element);\n    }\n    if (!js_urls.length && !js_modules.length) {\n      on_load()\n    }\n  };\n\n  function inject_raw_css(css) {\n    const element = document.createElement(\"style\");\n    element.appendChild(document.createTextNode(css));\n    document.body.appendChild(element);\n  }\n\n  const js_urls = [\"https://cdn.holoviz.org/panel/1.5.3/dist/bundled/reactiveesm/es-module-shims@^1.10.0/dist/es-module-shims.min.js\", \"https://cdn.holoviz.org/panel/1.5.3/dist/bundled/abstractvtkplot/vtk.js@30.1.0/vtk.js\", \"https://cdn.bokeh.org/bokeh/release/bokeh-3.6.0.min.js\", \"https://cdn.bokeh.org/bokeh/release/bokeh-gl-3.6.0.min.js\", \"https://cdn.bokeh.org/bokeh/release/bokeh-widgets-3.6.0.min.js\", \"https://cdn.bokeh.org/bokeh/release/bokeh-tables-3.6.0.min.js\", \"https://cdn.holoviz.org/panel/1.5.3/dist/panel.min.js\"];\n  const js_modules = [];\n  const js_exports = {};\n  const css_urls = [];\n  const inline_js = [    function(Bokeh) {\n      Bokeh.set_log_level(\"info\");\n    },\nfunction(Bokeh) {} // ensure no trailing comma for IE\n  ];\n\n  function run_inline_js() {\n    if ((root.Bokeh !== undefined) || (force === true)) {\n      for (let i = 0; i < inline_js.length; i++) {\n        try {\n          inline_js[i].call(root, root.Bokeh);\n        } catch(e) {\n          if (!reloading) {\n            throw e;\n          }\n        }\n      }\n      // Cache old bokeh versions\n      if (Bokeh != undefined && !reloading) {\n        var NewBokeh = root.Bokeh;\n        if (Bokeh.versions === undefined) {\n          Bokeh.versions = new Map();\n        }\n        if (NewBokeh.version !== Bokeh.version) {\n          Bokeh.versions.set(NewBokeh.version, NewBokeh)\n        }\n        root.Bokeh = Bokeh;\n      }\n    } else if (Date.now() < root._bokeh_timeout) {\n      setTimeout(run_inline_js, 100);\n    } else if (!root._bokeh_failed_load) {\n      console.log(\"Bokeh: BokehJS failed to load within specified timeout.\");\n      root._bokeh_failed_load = true;\n    }\n    root._bokeh_is_initializing = false\n  }\n\n  function load_or_wait() {\n    // Implement a backoff loop that tries to ensure we do not load multiple\n    // versions of Bokeh and its dependencies at the same time.\n    // In recent versions we use the root._bokeh_is_initializing flag\n    // to determine whether there is an ongoing attempt to initialize\n    // bokeh, however for backward compatibility we also try to ensure\n    // that we do not start loading a newer (Panel>=1.0 and Bokeh>3) version\n    // before older versions are fully initialized.\n    if (root._bokeh_is_initializing && Date.now() > root._bokeh_timeout) {\n      // If the timeout and bokeh was not successfully loaded we reset\n      // everything and try loading again\n      root._bokeh_timeout = Date.now() + 5000;\n      root._bokeh_is_initializing = false;\n      root._bokeh_onload_callbacks = undefined;\n      root._bokeh_is_loading = 0\n      console.log(\"Bokeh: BokehJS was loaded multiple times but one version failed to initialize.\");\n      load_or_wait();\n    } else if (root._bokeh_is_initializing || (typeof root._bokeh_is_initializing === \"undefined\" && root._bokeh_onload_callbacks !== undefined)) {\n      setTimeout(load_or_wait, 100);\n    } else {\n      root._bokeh_is_initializing = true\n      root._bokeh_onload_callbacks = []\n      const bokeh_loaded = root.Bokeh != null && (root.Bokeh.version === py_version || (root.Bokeh.versions !== undefined && root.Bokeh.versions.has(py_version)));\n      if (!reloading && !bokeh_loaded) {\n        if (root.Bokeh) {\n          root.Bokeh = undefined;\n        }\n        console.debug(\"Bokeh: BokehJS not loaded, scheduling load and callback at\", now());\n      }\n      load_libs(css_urls, js_urls, js_modules, js_exports, function() {\n        console.debug(\"Bokeh: BokehJS plotting callback run at\", now());\n        run_inline_js();\n      });\n    }\n  }\n  // Give older versions of the autoload script a head-start to ensure\n  // they initialize before we start loading newer version.\n  setTimeout(load_or_wait, 100)\n}(window));"
     },
     "metadata": {},
     "output_type": "display_data"
    },
    {
     "data": {
      "application/javascript": [
       "\n",
       "if ((window.PyViz === undefined) || (window.PyViz instanceof HTMLElement)) {\n",
       "  window.PyViz = {comms: {}, comm_status:{}, kernels:{}, receivers: {}, plot_index: []}\n",
       "}\n",
       "\n",
       "\n",
       "    function JupyterCommManager() {\n",
       "    }\n",
       "\n",
       "    JupyterCommManager.prototype.register_target = function(plot_id, comm_id, msg_handler) {\n",
       "      if (window.comm_manager || ((window.Jupyter !== undefined) && (Jupyter.notebook.kernel != null))) {\n",
       "        var comm_manager = window.comm_manager || Jupyter.notebook.kernel.comm_manager;\n",
       "        comm_manager.register_target(comm_id, function(comm) {\n",
       "          comm.on_msg(msg_handler);\n",
       "        });\n",
       "      } else if ((plot_id in window.PyViz.kernels) && (window.PyViz.kernels[plot_id])) {\n",
       "        window.PyViz.kernels[plot_id].registerCommTarget(comm_id, function(comm) {\n",
       "          comm.onMsg = msg_handler;\n",
       "        });\n",
       "      } else if (typeof google != 'undefined' && google.colab.kernel != null) {\n",
       "        google.colab.kernel.comms.registerTarget(comm_id, (comm) => {\n",
       "          var messages = comm.messages[Symbol.asyncIterator]();\n",
       "          function processIteratorResult(result) {\n",
       "            var message = result.value;\n",
       "            console.log(message)\n",
       "            var content = {data: message.data, comm_id};\n",
       "            var buffers = []\n",
       "            for (var buffer of message.buffers || []) {\n",
       "              buffers.push(new DataView(buffer))\n",
       "            }\n",
       "            var metadata = message.metadata || {};\n",
       "            var msg = {content, buffers, metadata}\n",
       "            msg_handler(msg);\n",
       "            return messages.next().then(processIteratorResult);\n",
       "          }\n",
       "          return messages.next().then(processIteratorResult);\n",
       "        })\n",
       "      }\n",
       "    }\n",
       "\n",
       "    JupyterCommManager.prototype.get_client_comm = function(plot_id, comm_id, msg_handler) {\n",
       "      if (comm_id in window.PyViz.comms) {\n",
       "        return window.PyViz.comms[comm_id];\n",
       "      } else if (window.comm_manager || ((window.Jupyter !== undefined) && (Jupyter.notebook.kernel != null))) {\n",
       "        var comm_manager = window.comm_manager || Jupyter.notebook.kernel.comm_manager;\n",
       "        var comm = comm_manager.new_comm(comm_id, {}, {}, {}, comm_id);\n",
       "        if (msg_handler) {\n",
       "          comm.on_msg(msg_handler);\n",
       "        }\n",
       "      } else if ((plot_id in window.PyViz.kernels) && (window.PyViz.kernels[plot_id])) {\n",
       "        var comm = window.PyViz.kernels[plot_id].connectToComm(comm_id);\n",
       "        comm.open();\n",
       "        if (msg_handler) {\n",
       "          comm.onMsg = msg_handler;\n",
       "        }\n",
       "      } else if (typeof google != 'undefined' && google.colab.kernel != null) {\n",
       "        var comm_promise = google.colab.kernel.comms.open(comm_id)\n",
       "        comm_promise.then((comm) => {\n",
       "          window.PyViz.comms[comm_id] = comm;\n",
       "          if (msg_handler) {\n",
       "            var messages = comm.messages[Symbol.asyncIterator]();\n",
       "            function processIteratorResult(result) {\n",
       "              var message = result.value;\n",
       "              var content = {data: message.data};\n",
       "              var metadata = message.metadata || {comm_id};\n",
       "              var msg = {content, metadata}\n",
       "              msg_handler(msg);\n",
       "              return messages.next().then(processIteratorResult);\n",
       "            }\n",
       "            return messages.next().then(processIteratorResult);\n",
       "          }\n",
       "        }) \n",
       "        var sendClosure = (data, metadata, buffers, disposeOnDone) => {\n",
       "          return comm_promise.then((comm) => {\n",
       "            comm.send(data, metadata, buffers, disposeOnDone);\n",
       "          });\n",
       "        };\n",
       "        var comm = {\n",
       "          send: sendClosure\n",
       "        };\n",
       "      }\n",
       "      window.PyViz.comms[comm_id] = comm;\n",
       "      return comm;\n",
       "    }\n",
       "    window.PyViz.comm_manager = new JupyterCommManager();\n",
       "    \n",
       "\n",
       "\n",
       "var JS_MIME_TYPE = 'application/javascript';\n",
       "var HTML_MIME_TYPE = 'text/html';\n",
       "var EXEC_MIME_TYPE = 'application/vnd.holoviews_exec.v0+json';\n",
       "var CLASS_NAME = 'output';\n",
       "\n",
       "/**\n",
       " * Render data to the DOM node\n",
       " */\n",
       "function render(props, node) {\n",
       "  var div = document.createElement(\"div\");\n",
       "  var script = document.createElement(\"script\");\n",
       "  node.appendChild(div);\n",
       "  node.appendChild(script);\n",
       "}\n",
       "\n",
       "/**\n",
       " * Handle when a new output is added\n",
       " */\n",
       "function handle_add_output(event, handle) {\n",
       "  var output_area = handle.output_area;\n",
       "  var output = handle.output;\n",
       "  if ((output.data == undefined) || (!output.data.hasOwnProperty(EXEC_MIME_TYPE))) {\n",
       "    return\n",
       "  }\n",
       "  var id = output.metadata[EXEC_MIME_TYPE][\"id\"];\n",
       "  var toinsert = output_area.element.find(\".\" + CLASS_NAME.split(' ')[0]);\n",
       "  if (id !== undefined) {\n",
       "    var nchildren = toinsert.length;\n",
       "    var html_node = toinsert[nchildren-1].children[0];\n",
       "    html_node.innerHTML = output.data[HTML_MIME_TYPE];\n",
       "    var scripts = [];\n",
       "    var nodelist = html_node.querySelectorAll(\"script\");\n",
       "    for (var i in nodelist) {\n",
       "      if (nodelist.hasOwnProperty(i)) {\n",
       "        scripts.push(nodelist[i])\n",
       "      }\n",
       "    }\n",
       "\n",
       "    scripts.forEach( function (oldScript) {\n",
       "      var newScript = document.createElement(\"script\");\n",
       "      var attrs = [];\n",
       "      var nodemap = oldScript.attributes;\n",
       "      for (var j in nodemap) {\n",
       "        if (nodemap.hasOwnProperty(j)) {\n",
       "          attrs.push(nodemap[j])\n",
       "        }\n",
       "      }\n",
       "      attrs.forEach(function(attr) { newScript.setAttribute(attr.name, attr.value) });\n",
       "      newScript.appendChild(document.createTextNode(oldScript.innerHTML));\n",
       "      oldScript.parentNode.replaceChild(newScript, oldScript);\n",
       "    });\n",
       "    if (JS_MIME_TYPE in output.data) {\n",
       "      toinsert[nchildren-1].children[1].textContent = output.data[JS_MIME_TYPE];\n",
       "    }\n",
       "    output_area._hv_plot_id = id;\n",
       "    if ((window.Bokeh !== undefined) && (id in Bokeh.index)) {\n",
       "      window.PyViz.plot_index[id] = Bokeh.index[id];\n",
       "    } else {\n",
       "      window.PyViz.plot_index[id] = null;\n",
       "    }\n",
       "  } else if (output.metadata[EXEC_MIME_TYPE][\"server_id\"] !== undefined) {\n",
       "    var bk_div = document.createElement(\"div\");\n",
       "    bk_div.innerHTML = output.data[HTML_MIME_TYPE];\n",
       "    var script_attrs = bk_div.children[0].attributes;\n",
       "    for (var i = 0; i < script_attrs.length; i++) {\n",
       "      toinsert[toinsert.length - 1].childNodes[1].setAttribute(script_attrs[i].name, script_attrs[i].value);\n",
       "    }\n",
       "    // store reference to server id on output_area\n",
       "    output_area._bokeh_server_id = output.metadata[EXEC_MIME_TYPE][\"server_id\"];\n",
       "  }\n",
       "}\n",
       "\n",
       "/**\n",
       " * Handle when an output is cleared or removed\n",
       " */\n",
       "function handle_clear_output(event, handle) {\n",
       "  var id = handle.cell.output_area._hv_plot_id;\n",
       "  var server_id = handle.cell.output_area._bokeh_server_id;\n",
       "  if (((id === undefined) || !(id in PyViz.plot_index)) && (server_id !== undefined)) { return; }\n",
       "  var comm = window.PyViz.comm_manager.get_client_comm(\"hv-extension-comm\", \"hv-extension-comm\", function () {});\n",
       "  if (server_id !== null) {\n",
       "    comm.send({event_type: 'server_delete', 'id': server_id});\n",
       "    return;\n",
       "  } else if (comm !== null) {\n",
       "    comm.send({event_type: 'delete', 'id': id});\n",
       "  }\n",
       "  delete PyViz.plot_index[id];\n",
       "  if ((window.Bokeh !== undefined) & (id in window.Bokeh.index)) {\n",
       "    var doc = window.Bokeh.index[id].model.document\n",
       "    doc.clear();\n",
       "    const i = window.Bokeh.documents.indexOf(doc);\n",
       "    if (i > -1) {\n",
       "      window.Bokeh.documents.splice(i, 1);\n",
       "    }\n",
       "  }\n",
       "}\n",
       "\n",
       "/**\n",
       " * Handle kernel restart event\n",
       " */\n",
       "function handle_kernel_cleanup(event, handle) {\n",
       "  delete PyViz.comms[\"hv-extension-comm\"];\n",
       "  window.PyViz.plot_index = {}\n",
       "}\n",
       "\n",
       "/**\n",
       " * Handle update_display_data messages\n",
       " */\n",
       "function handle_update_output(event, handle) {\n",
       "  handle_clear_output(event, {cell: {output_area: handle.output_area}})\n",
       "  handle_add_output(event, handle)\n",
       "}\n",
       "\n",
       "function register_renderer(events, OutputArea) {\n",
       "  function append_mime(data, metadata, element) {\n",
       "    // create a DOM node to render to\n",
       "    var toinsert = this.create_output_subarea(\n",
       "    metadata,\n",
       "    CLASS_NAME,\n",
       "    EXEC_MIME_TYPE\n",
       "    );\n",
       "    this.keyboard_manager.register_events(toinsert);\n",
       "    // Render to node\n",
       "    var props = {data: data, metadata: metadata[EXEC_MIME_TYPE]};\n",
       "    render(props, toinsert[0]);\n",
       "    element.append(toinsert);\n",
       "    return toinsert\n",
       "  }\n",
       "\n",
       "  events.on('output_added.OutputArea', handle_add_output);\n",
       "  events.on('output_updated.OutputArea', handle_update_output);\n",
       "  events.on('clear_output.CodeCell', handle_clear_output);\n",
       "  events.on('delete.Cell', handle_clear_output);\n",
       "  events.on('kernel_ready.Kernel', handle_kernel_cleanup);\n",
       "\n",
       "  OutputArea.prototype.register_mime_type(EXEC_MIME_TYPE, append_mime, {\n",
       "    safe: true,\n",
       "    index: 0\n",
       "  });\n",
       "}\n",
       "\n",
       "if (window.Jupyter !== undefined) {\n",
       "  try {\n",
       "    var events = require('base/js/events');\n",
       "    var OutputArea = require('notebook/js/outputarea').OutputArea;\n",
       "    if (OutputArea.prototype.mime_types().indexOf(EXEC_MIME_TYPE) == -1) {\n",
       "      register_renderer(events, OutputArea);\n",
       "    }\n",
       "  } catch(err) {\n",
       "  }\n",
       "}\n"
      ],
      "application/vnd.holoviews_load.v0+json": "\nif ((window.PyViz === undefined) || (window.PyViz instanceof HTMLElement)) {\n  window.PyViz = {comms: {}, comm_status:{}, kernels:{}, receivers: {}, plot_index: []}\n}\n\n\n    function JupyterCommManager() {\n    }\n\n    JupyterCommManager.prototype.register_target = function(plot_id, comm_id, msg_handler) {\n      if (window.comm_manager || ((window.Jupyter !== undefined) && (Jupyter.notebook.kernel != null))) {\n        var comm_manager = window.comm_manager || Jupyter.notebook.kernel.comm_manager;\n        comm_manager.register_target(comm_id, function(comm) {\n          comm.on_msg(msg_handler);\n        });\n      } else if ((plot_id in window.PyViz.kernels) && (window.PyViz.kernels[plot_id])) {\n        window.PyViz.kernels[plot_id].registerCommTarget(comm_id, function(comm) {\n          comm.onMsg = msg_handler;\n        });\n      } else if (typeof google != 'undefined' && google.colab.kernel != null) {\n        google.colab.kernel.comms.registerTarget(comm_id, (comm) => {\n          var messages = comm.messages[Symbol.asyncIterator]();\n          function processIteratorResult(result) {\n            var message = result.value;\n            console.log(message)\n            var content = {data: message.data, comm_id};\n            var buffers = []\n            for (var buffer of message.buffers || []) {\n              buffers.push(new DataView(buffer))\n            }\n            var metadata = message.metadata || {};\n            var msg = {content, buffers, metadata}\n            msg_handler(msg);\n            return messages.next().then(processIteratorResult);\n          }\n          return messages.next().then(processIteratorResult);\n        })\n      }\n    }\n\n    JupyterCommManager.prototype.get_client_comm = function(plot_id, comm_id, msg_handler) {\n      if (comm_id in window.PyViz.comms) {\n        return window.PyViz.comms[comm_id];\n      } else if (window.comm_manager || ((window.Jupyter !== undefined) && (Jupyter.notebook.kernel != null))) {\n        var comm_manager = window.comm_manager || Jupyter.notebook.kernel.comm_manager;\n        var comm = comm_manager.new_comm(comm_id, {}, {}, {}, comm_id);\n        if (msg_handler) {\n          comm.on_msg(msg_handler);\n        }\n      } else if ((plot_id in window.PyViz.kernels) && (window.PyViz.kernels[plot_id])) {\n        var comm = window.PyViz.kernels[plot_id].connectToComm(comm_id);\n        comm.open();\n        if (msg_handler) {\n          comm.onMsg = msg_handler;\n        }\n      } else if (typeof google != 'undefined' && google.colab.kernel != null) {\n        var comm_promise = google.colab.kernel.comms.open(comm_id)\n        comm_promise.then((comm) => {\n          window.PyViz.comms[comm_id] = comm;\n          if (msg_handler) {\n            var messages = comm.messages[Symbol.asyncIterator]();\n            function processIteratorResult(result) {\n              var message = result.value;\n              var content = {data: message.data};\n              var metadata = message.metadata || {comm_id};\n              var msg = {content, metadata}\n              msg_handler(msg);\n              return messages.next().then(processIteratorResult);\n            }\n            return messages.next().then(processIteratorResult);\n          }\n        }) \n        var sendClosure = (data, metadata, buffers, disposeOnDone) => {\n          return comm_promise.then((comm) => {\n            comm.send(data, metadata, buffers, disposeOnDone);\n          });\n        };\n        var comm = {\n          send: sendClosure\n        };\n      }\n      window.PyViz.comms[comm_id] = comm;\n      return comm;\n    }\n    window.PyViz.comm_manager = new JupyterCommManager();\n    \n\n\nvar JS_MIME_TYPE = 'application/javascript';\nvar HTML_MIME_TYPE = 'text/html';\nvar EXEC_MIME_TYPE = 'application/vnd.holoviews_exec.v0+json';\nvar CLASS_NAME = 'output';\n\n/**\n * Render data to the DOM node\n */\nfunction render(props, node) {\n  var div = document.createElement(\"div\");\n  var script = document.createElement(\"script\");\n  node.appendChild(div);\n  node.appendChild(script);\n}\n\n/**\n * Handle when a new output is added\n */\nfunction handle_add_output(event, handle) {\n  var output_area = handle.output_area;\n  var output = handle.output;\n  if ((output.data == undefined) || (!output.data.hasOwnProperty(EXEC_MIME_TYPE))) {\n    return\n  }\n  var id = output.metadata[EXEC_MIME_TYPE][\"id\"];\n  var toinsert = output_area.element.find(\".\" + CLASS_NAME.split(' ')[0]);\n  if (id !== undefined) {\n    var nchildren = toinsert.length;\n    var html_node = toinsert[nchildren-1].children[0];\n    html_node.innerHTML = output.data[HTML_MIME_TYPE];\n    var scripts = [];\n    var nodelist = html_node.querySelectorAll(\"script\");\n    for (var i in nodelist) {\n      if (nodelist.hasOwnProperty(i)) {\n        scripts.push(nodelist[i])\n      }\n    }\n\n    scripts.forEach( function (oldScript) {\n      var newScript = document.createElement(\"script\");\n      var attrs = [];\n      var nodemap = oldScript.attributes;\n      for (var j in nodemap) {\n        if (nodemap.hasOwnProperty(j)) {\n          attrs.push(nodemap[j])\n        }\n      }\n      attrs.forEach(function(attr) { newScript.setAttribute(attr.name, attr.value) });\n      newScript.appendChild(document.createTextNode(oldScript.innerHTML));\n      oldScript.parentNode.replaceChild(newScript, oldScript);\n    });\n    if (JS_MIME_TYPE in output.data) {\n      toinsert[nchildren-1].children[1].textContent = output.data[JS_MIME_TYPE];\n    }\n    output_area._hv_plot_id = id;\n    if ((window.Bokeh !== undefined) && (id in Bokeh.index)) {\n      window.PyViz.plot_index[id] = Bokeh.index[id];\n    } else {\n      window.PyViz.plot_index[id] = null;\n    }\n  } else if (output.metadata[EXEC_MIME_TYPE][\"server_id\"] !== undefined) {\n    var bk_div = document.createElement(\"div\");\n    bk_div.innerHTML = output.data[HTML_MIME_TYPE];\n    var script_attrs = bk_div.children[0].attributes;\n    for (var i = 0; i < script_attrs.length; i++) {\n      toinsert[toinsert.length - 1].childNodes[1].setAttribute(script_attrs[i].name, script_attrs[i].value);\n    }\n    // store reference to server id on output_area\n    output_area._bokeh_server_id = output.metadata[EXEC_MIME_TYPE][\"server_id\"];\n  }\n}\n\n/**\n * Handle when an output is cleared or removed\n */\nfunction handle_clear_output(event, handle) {\n  var id = handle.cell.output_area._hv_plot_id;\n  var server_id = handle.cell.output_area._bokeh_server_id;\n  if (((id === undefined) || !(id in PyViz.plot_index)) && (server_id !== undefined)) { return; }\n  var comm = window.PyViz.comm_manager.get_client_comm(\"hv-extension-comm\", \"hv-extension-comm\", function () {});\n  if (server_id !== null) {\n    comm.send({event_type: 'server_delete', 'id': server_id});\n    return;\n  } else if (comm !== null) {\n    comm.send({event_type: 'delete', 'id': id});\n  }\n  delete PyViz.plot_index[id];\n  if ((window.Bokeh !== undefined) & (id in window.Bokeh.index)) {\n    var doc = window.Bokeh.index[id].model.document\n    doc.clear();\n    const i = window.Bokeh.documents.indexOf(doc);\n    if (i > -1) {\n      window.Bokeh.documents.splice(i, 1);\n    }\n  }\n}\n\n/**\n * Handle kernel restart event\n */\nfunction handle_kernel_cleanup(event, handle) {\n  delete PyViz.comms[\"hv-extension-comm\"];\n  window.PyViz.plot_index = {}\n}\n\n/**\n * Handle update_display_data messages\n */\nfunction handle_update_output(event, handle) {\n  handle_clear_output(event, {cell: {output_area: handle.output_area}})\n  handle_add_output(event, handle)\n}\n\nfunction register_renderer(events, OutputArea) {\n  function append_mime(data, metadata, element) {\n    // create a DOM node to render to\n    var toinsert = this.create_output_subarea(\n    metadata,\n    CLASS_NAME,\n    EXEC_MIME_TYPE\n    );\n    this.keyboard_manager.register_events(toinsert);\n    // Render to node\n    var props = {data: data, metadata: metadata[EXEC_MIME_TYPE]};\n    render(props, toinsert[0]);\n    element.append(toinsert);\n    return toinsert\n  }\n\n  events.on('output_added.OutputArea', handle_add_output);\n  events.on('output_updated.OutputArea', handle_update_output);\n  events.on('clear_output.CodeCell', handle_clear_output);\n  events.on('delete.Cell', handle_clear_output);\n  events.on('kernel_ready.Kernel', handle_kernel_cleanup);\n\n  OutputArea.prototype.register_mime_type(EXEC_MIME_TYPE, append_mime, {\n    safe: true,\n    index: 0\n  });\n}\n\nif (window.Jupyter !== undefined) {\n  try {\n    var events = require('base/js/events');\n    var OutputArea = require('notebook/js/outputarea').OutputArea;\n    if (OutputArea.prototype.mime_types().indexOf(EXEC_MIME_TYPE) == -1) {\n      register_renderer(events, OutputArea);\n    }\n  } catch(err) {\n  }\n}\n"
     },
     "metadata": {},
     "output_type": "display_data"
    },
    {
     "data": {
      "application/vnd.holoviews_exec.v0+json": "",
      "text/html": [
       "<div id='a1f7b86c-96ae-4a93-b77a-77724a46a595'>\n",
       "  <div id=\"fe74f94c-faf0-4d7f-976f-a56dc3eaf46d\" data-root-id=\"a1f7b86c-96ae-4a93-b77a-77724a46a595\" style=\"display: contents;\"></div>\n",
       "</div>\n",
       "<script type=\"application/javascript\">(function(root) {\n",
       "  var docs_json = {\"8cdb0263-90a1-41a0-b154-2f8b7e5ce077\":{\"version\":\"3.6.0\",\"title\":\"Bokeh Application\",\"roots\":[{\"type\":\"object\",\"name\":\"panel.models.browser.BrowserInfo\",\"id\":\"a1f7b86c-96ae-4a93-b77a-77724a46a595\"},{\"type\":\"object\",\"name\":\"panel.models.comm_manager.CommManager\",\"id\":\"ebfda171-e5d4-47be-95ee-1305c1b2fe83\",\"attributes\":{\"plot_id\":\"a1f7b86c-96ae-4a93-b77a-77724a46a595\",\"comm_id\":\"bdb3f097037643e2a50f64df804f26f8\",\"client_comm_id\":\"135de8f2cc6245f1b6adf4bc2a5e97c9\"}}],\"defs\":[{\"type\":\"model\",\"name\":\"ReactiveHTML1\"},{\"type\":\"model\",\"name\":\"FlexBox1\",\"properties\":[{\"name\":\"align_content\",\"kind\":\"Any\",\"default\":\"flex-start\"},{\"name\":\"align_items\",\"kind\":\"Any\",\"default\":\"flex-start\"},{\"name\":\"flex_direction\",\"kind\":\"Any\",\"default\":\"row\"},{\"name\":\"flex_wrap\",\"kind\":\"Any\",\"default\":\"wrap\"},{\"name\":\"gap\",\"kind\":\"Any\",\"default\":\"\"},{\"name\":\"justify_content\",\"kind\":\"Any\",\"default\":\"flex-start\"}]},{\"type\":\"model\",\"name\":\"FloatPanel1\",\"properties\":[{\"name\":\"config\",\"kind\":\"Any\",\"default\":{\"type\":\"map\"}},{\"name\":\"contained\",\"kind\":\"Any\",\"default\":true},{\"name\":\"position\",\"kind\":\"Any\",\"default\":\"right-top\"},{\"name\":\"offsetx\",\"kind\":\"Any\",\"default\":null},{\"name\":\"offsety\",\"kind\":\"Any\",\"default\":null},{\"name\":\"theme\",\"kind\":\"Any\",\"default\":\"primary\"},{\"name\":\"status\",\"kind\":\"Any\",\"default\":\"normalized\"}]},{\"type\":\"model\",\"name\":\"GridStack1\",\"properties\":[{\"name\":\"mode\",\"kind\":\"Any\",\"default\":\"warn\"},{\"name\":\"ncols\",\"kind\":\"Any\",\"default\":null},{\"name\":\"nrows\",\"kind\":\"Any\",\"default\":null},{\"name\":\"allow_resize\",\"kind\":\"Any\",\"default\":true},{\"name\":\"allow_drag\",\"kind\":\"Any\",\"default\":true},{\"name\":\"state\",\"kind\":\"Any\",\"default\":[]}]},{\"type\":\"model\",\"name\":\"drag1\",\"properties\":[{\"name\":\"slider_width\",\"kind\":\"Any\",\"default\":5},{\"name\":\"slider_color\",\"kind\":\"Any\",\"default\":\"black\"},{\"name\":\"value\",\"kind\":\"Any\",\"default\":50}]},{\"type\":\"model\",\"name\":\"click1\",\"properties\":[{\"name\":\"terminal_output\",\"kind\":\"Any\",\"default\":\"\"},{\"name\":\"debug_name\",\"kind\":\"Any\",\"default\":\"\"},{\"name\":\"clears\",\"kind\":\"Any\",\"default\":0}]},{\"type\":\"model\",\"name\":\"FastWrapper1\",\"properties\":[{\"name\":\"object\",\"kind\":\"Any\",\"default\":null},{\"name\":\"style\",\"kind\":\"Any\",\"default\":null}]},{\"type\":\"model\",\"name\":\"NotificationAreaBase1\",\"properties\":[{\"name\":\"js_events\",\"kind\":\"Any\",\"default\":{\"type\":\"map\"}},{\"name\":\"position\",\"kind\":\"Any\",\"default\":\"bottom-right\"},{\"name\":\"_clear\",\"kind\":\"Any\",\"default\":0}]},{\"type\":\"model\",\"name\":\"NotificationArea1\",\"properties\":[{\"name\":\"js_events\",\"kind\":\"Any\",\"default\":{\"type\":\"map\"}},{\"name\":\"notifications\",\"kind\":\"Any\",\"default\":[]},{\"name\":\"position\",\"kind\":\"Any\",\"default\":\"bottom-right\"},{\"name\":\"_clear\",\"kind\":\"Any\",\"default\":0},{\"name\":\"types\",\"kind\":\"Any\",\"default\":[{\"type\":\"map\",\"entries\":[[\"type\",\"warning\"],[\"background\",\"#ffc107\"],[\"icon\",{\"type\":\"map\",\"entries\":[[\"className\",\"fas fa-exclamation-triangle\"],[\"tagName\",\"i\"],[\"color\",\"white\"]]}]]},{\"type\":\"map\",\"entries\":[[\"type\",\"info\"],[\"background\",\"#007bff\"],[\"icon\",{\"type\":\"map\",\"entries\":[[\"className\",\"fas fa-info-circle\"],[\"tagName\",\"i\"],[\"color\",\"white\"]]}]]}]}]},{\"type\":\"model\",\"name\":\"Notification\",\"properties\":[{\"name\":\"background\",\"kind\":\"Any\",\"default\":null},{\"name\":\"duration\",\"kind\":\"Any\",\"default\":3000},{\"name\":\"icon\",\"kind\":\"Any\",\"default\":null},{\"name\":\"message\",\"kind\":\"Any\",\"default\":\"\"},{\"name\":\"notification_type\",\"kind\":\"Any\",\"default\":null},{\"name\":\"_destroyed\",\"kind\":\"Any\",\"default\":false}]},{\"type\":\"model\",\"name\":\"TemplateActions1\",\"properties\":[{\"name\":\"open_modal\",\"kind\":\"Any\",\"default\":0},{\"name\":\"close_modal\",\"kind\":\"Any\",\"default\":0}]},{\"type\":\"model\",\"name\":\"BootstrapTemplateActions1\",\"properties\":[{\"name\":\"open_modal\",\"kind\":\"Any\",\"default\":0},{\"name\":\"close_modal\",\"kind\":\"Any\",\"default\":0}]},{\"type\":\"model\",\"name\":\"TemplateEditor1\",\"properties\":[{\"name\":\"layout\",\"kind\":\"Any\",\"default\":[]}]},{\"type\":\"model\",\"name\":\"MaterialTemplateActions1\",\"properties\":[{\"name\":\"open_modal\",\"kind\":\"Any\",\"default\":0},{\"name\":\"close_modal\",\"kind\":\"Any\",\"default\":0}]},{\"type\":\"model\",\"name\":\"ReactiveESM1\"},{\"type\":\"model\",\"name\":\"JSComponent1\"},{\"type\":\"model\",\"name\":\"ReactComponent1\"},{\"type\":\"model\",\"name\":\"AnyWidgetComponent1\"},{\"type\":\"model\",\"name\":\"request_value1\",\"properties\":[{\"name\":\"fill\",\"kind\":\"Any\",\"default\":\"none\"},{\"name\":\"_synced\",\"kind\":\"Any\",\"default\":null},{\"name\":\"_request_sync\",\"kind\":\"Any\",\"default\":0}]}]}};\n",
       "  var render_items = [{\"docid\":\"8cdb0263-90a1-41a0-b154-2f8b7e5ce077\",\"roots\":{\"a1f7b86c-96ae-4a93-b77a-77724a46a595\":\"fe74f94c-faf0-4d7f-976f-a56dc3eaf46d\"},\"root_ids\":[\"a1f7b86c-96ae-4a93-b77a-77724a46a595\"]}];\n",
       "  var docs = Object.values(docs_json)\n",
       "  if (!docs) {\n",
       "    return\n",
       "  }\n",
       "  const py_version = docs[0].version.replace('rc', '-rc.').replace('.dev', '-dev.')\n",
       "  async function embed_document(root) {\n",
       "    var Bokeh = get_bokeh(root)\n",
       "    await Bokeh.embed.embed_items_notebook(docs_json, render_items);\n",
       "    for (const render_item of render_items) {\n",
       "      for (const root_id of render_item.root_ids) {\n",
       "\tconst id_el = document.getElementById(root_id)\n",
       "\tif (id_el.children.length && id_el.children[0].hasAttribute('data-root-id')) {\n",
       "\t  const root_el = id_el.children[0]\n",
       "\t  root_el.id = root_el.id + '-rendered'\n",
       "\t  for (const child of root_el.children) {\n",
       "            // Ensure JupyterLab does not capture keyboard shortcuts\n",
       "            // see: https://jupyterlab.readthedocs.io/en/4.1.x/extension/notebook.html#keyboard-interaction-model\n",
       "\t    child.setAttribute('data-lm-suppress-shortcuts', 'true')\n",
       "\t  }\n",
       "\t}\n",
       "      }\n",
       "    }\n",
       "  }\n",
       "  function get_bokeh(root) {\n",
       "    if (root.Bokeh === undefined) {\n",
       "      return null\n",
       "    } else if (root.Bokeh.version !== py_version) {\n",
       "      if (root.Bokeh.versions === undefined || !root.Bokeh.versions.has(py_version)) {\n",
       "\treturn null\n",
       "      }\n",
       "      return root.Bokeh.versions.get(py_version);\n",
       "    } else if (root.Bokeh.version === py_version) {\n",
       "      return root.Bokeh\n",
       "    }\n",
       "    return null\n",
       "  }\n",
       "  function is_loaded(root) {\n",
       "    var Bokeh = get_bokeh(root)\n",
       "    return (Bokeh != null && Bokeh.Panel !== undefined && ( root.vtk !== undefined) && ( root.vtk !== undefined))\n",
       "  }\n",
       "  if (is_loaded(root)) {\n",
       "    embed_document(root);\n",
       "  } else {\n",
       "    var attempts = 0;\n",
       "    var timer = setInterval(function(root) {\n",
       "      if (is_loaded(root)) {\n",
       "        clearInterval(timer);\n",
       "        embed_document(root);\n",
       "      } else if (document.readyState == \"complete\") {\n",
       "        attempts++;\n",
       "        if (attempts > 200) {\n",
       "          clearInterval(timer);\n",
       "\t  var Bokeh = get_bokeh(root)\n",
       "\t  if (Bokeh == null || Bokeh.Panel == null) {\n",
       "            console.warn(\"Panel: ERROR: Unable to run Panel code because Bokeh or Panel library is missing\");\n",
       "\t  } else {\n",
       "\t    console.warn(\"Panel: WARNING: Attempting to render but not all required libraries could be resolved.\")\n",
       "\t    embed_document(root)\n",
       "\t  }\n",
       "        }\n",
       "      }\n",
       "    }, 25, root)\n",
       "  }\n",
       "})(window);</script>"
      ]
     },
     "metadata": {
      "application/vnd.holoviews_exec.v0+json": {
       "id": "a1f7b86c-96ae-4a93-b77a-77724a46a595"
      }
     },
     "output_type": "display_data"
    }
   ],
   "source": [
    "# Importation des librairies\n",
    "import dolfinx  # Module principal de FEniCSx pour le calcul par éléments finis\n",
    "from dolfinx import mesh, fem, plot, io, default_scalar_type  # Sous-modules FEniCSx essentiels\n",
    "from dolfinx.fem.petsc import LinearProblem  # Résolution de systèmes linéaires\n",
    "from mpi4py import MPI  # Interface pour le calcul parallèle\n",
    "import ufl  # Unified Form Language pour les formulations variationnelles\n",
    "import numpy as np  # Calcul numérique efficace\n",
    "import matplotlib.pyplot as plt\n",
    "import math  # Module de fonctions mathématiques standard de Python\n",
    "import pyvista as pv  # Visualisation 3D scientifique\n",
    "import gmsh  # Générateur de maillage 3D\n",
    "import meshio  # Lecture/écriture de différents formats de maillage\n",
    "from dolfinx.io import XDMFFile  # Gestion des fichiers XDMF pour données volumineuses\n",
    "import dolfinx.fem as fem  # Module FEniCSx pour la méthode des éléments finis\n",
    "import dolfinx.mesh as mesh  # Module FEniCSx pour la gestion avancée des maillages\n",
    "from petsc4py import PETSc  # Suite de solveurs numériques pour problèmes à grande échelle\n",
    "import panel as pn\n",
    "from myst_nb import glue\n",
    "# Utiliser Panel pour créer un rendu interactif\n",
    "pn.extension('vtk')"
   ]
  },
  {
   "cell_type": "code",
   "execution_count": 2,
   "id": "89e53025-83ff-477b-b614-1444a7f26802",
   "metadata": {},
   "outputs": [
    {
     "data": {
      "application/vnd.jupyter.widget-view+json": {
       "model_id": "b7441825c8084088ad59c64a7593ce16",
       "version_major": 2,
       "version_minor": 0
      },
      "text/plain": [
       "VBox(children=(FloatText(value=0.2, description='Demi-grand axe (a)'), FloatText(value=0.2, description='Demi-…"
      ]
     },
     "metadata": {},
     "output_type": "display_data"
    },
    {
     "data": {
      "application/vnd.jupyter.widget-view+json": {
       "model_id": "cc73036c0e1e45618105ca9997660224",
       "version_major": 2,
       "version_minor": 0
      },
      "text/plain": [
       "Output()"
      ]
     },
     "metadata": {},
     "output_type": "display_data"
    }
   ],
   "source": [
    "import gmsh\n",
    "import numpy as np\n",
    "import meshio\n",
    "from dolfinx.io import XDMFFile\n",
    "from mpi4py import MPI\n",
    "import ipywidgets as widgets\n",
    "from IPython.display import display\n",
    "import pyvista as pv\n",
    "from dolfinx import plot\n",
    "\n",
    "# Initialisation du plotteur PyVista en dehors de la fonction\n",
    "p = pv.Plotter(notebook=True)\n",
    "p.set_background(\"grey\")\n",
    "\n",
    "# Fonction pour créer et visualiser la géométrie\n",
    "def create_ellipse(a, b, h=1.0, lc=0.02):\n",
    "    gmsh.initialize()\n",
    "    gmsh.option.setNumber(\"General.Terminal\", 0)\n",
    "    gmsh.model.add(\"ellipse\")\n",
    "\n",
    "    # Création de l'ellipse\n",
    "    ellipse = gmsh.model.occ.addEllipse(0, 0, 0, a, b)\n",
    "    curve_loop = gmsh.model.occ.addCurveLoop([ellipse])\n",
    "    surface = gmsh.model.occ.addPlaneSurface([curve_loop])\n",
    "\n",
    "    # Extrusion pour obtenir un cylindre elliptique\n",
    "    gmsh.model.occ.extrude([(2, surface)], 0, 0, h)\n",
    "    gmsh.model.occ.synchronize()\n",
    "\n",
    "    # Configuration du maillage\n",
    "    gmsh.option.setNumber(\"Mesh.CharacteristicLengthMin\", lc)\n",
    "    gmsh.option.setNumber(\"Mesh.CharacteristicLengthMax\", lc)\n",
    "    gmsh.model.mesh.generate(3)\n",
    "\n",
    "    # Sauvegarde et conversion du maillage\n",
    "    gmsh.write(\"ellipse.msh\")\n",
    "    msh = meshio.read(\"ellipse.msh\")\n",
    "    meshio.write(\"ellipse.xdmf\", meshio.Mesh(points=msh.points, cells={\"tetra\": msh.cells_dict.get(\"tetra\", [])}))\n",
    "    gmsh.finalize()\n",
    "\n",
    "    # Lecture du maillage avec FEniCSx\n",
    "    with XDMFFile(MPI.COMM_WORLD, \"ellipse.xdmf\", \"r\") as xdmf_file:\n",
    "        domain = xdmf_file.read_mesh(name=\"Grid\")\n",
    "        domain.topology.create_connectivity(domain.topology.dim-1, domain.topology.dim)\n",
    "    \n",
    "    # Conversion du maillage pour la visualisation avec PyVista\n",
    "    u_topology, u_cell_types, u_geometry = plot.vtk_mesh(domain)\n",
    "    u_grid = pv.UnstructuredGrid(u_topology, u_cell_types, u_geometry)\n",
    "\n",
    "    # Effacer la scène précédente et ajouter le nouveau maillage\n",
    "    p.clear()\n",
    "    # Ajout du maillage à la scène de visualisation\n",
    "    p.add_mesh(u_grid, \n",
    "               show_edges=True,  # Affiche les arêtes du maillage\n",
    "               scalar_bar_args={\n",
    "                   \"title\": \"u\",  # Titre de la barre de couleur\n",
    "                   \"title_font_size\": 24,\n",
    "                   \"label_font_size\": 22,\n",
    "                   \"shadow\": True,\n",
    "                   \"italic\": True,\n",
    "                   \"font_family\": \"arial\",\n",
    "                   \"vertical\": False  # Orientation horizontale de la barre de couleur\n",
    "               })\n",
    "\n",
    "    # Ajout d'un titre à la visualisation\n",
    "    p.add_text(\"Cylindre Mesh\", font_size=24, color=\"black\", position=\"upper_edge\")\n",
    "\n",
    "    # Ajout des limites de la boîte englobante\n",
    "    p.show_bounds(color=\"black\")\n",
    "\n",
    "    # Ajout des axes de coordonnées\n",
    "    p.add_axes(color=\"black\")\n",
    "\n",
    "    # Définition de la couleur de fond\n",
    "    p.set_background(\"grey\")\n",
    "    \n",
    "    # Mise à jour de la scène\n",
    "    p.show()\n",
    "\n",
    "# Champs de saisie pour a, b, et h\n",
    "a_text = widgets.FloatText(value=0.2, description='Demi-grand axe (a)')\n",
    "b_text = widgets.FloatText(value=0.2, description='Demi-petit axe (b)')\n",
    "h_text = widgets.FloatText(value=1.0, description='Hauteur (h)')\n",
    "\n",
    "# Interface utilisateur et fonction interactive\n",
    "ui = widgets.VBox([a_text, b_text, h_text])\n",
    "out = widgets.interactive_output(create_ellipse, {'a': a_text, 'b': b_text, 'h': h_text})\n",
    "\n",
    "display(ui, out)\n"
   ]
  },
  {
   "cell_type": "markdown",
   "id": "9235b36f-cd5f-4949-b9fa-deb25825c708",
   "metadata": {
    "editable": true,
    "slideshow": {
     "slide_type": ""
    },
    "tags": []
   },
   "source": [
    "## Géométrie"
   ]
  },
  {
   "cell_type": "markdown",
   "id": "bb28b869-4dc2-408a-8c91-2e7038d5c527",
   "metadata": {
    "editable": true,
    "slideshow": {
     "slide_type": ""
    },
    "tags": []
   },
   "source": [
    "### Définition de la géométrie et du maillage"
   ]
  },
  {
   "cell_type": "markdown",
   "id": "b301fa17-d78c-4fc3-ac25-8f93cf50a4ca",
   "metadata": {
    "editable": true,
    "slideshow": {
     "slide_type": ""
    },
    "tags": []
   },
   "source": [
    "### Visualisation de la géométrie"
   ]
  },
  {
   "cell_type": "code",
   "execution_count": null,
   "id": "4d36a976-791f-4fc4-a04d-1d5bfc5b07af",
   "metadata": {},
   "outputs": [],
   "source": [
    "# Lecture du fichier .msh avec meshio\n",
    "msh = meshio.read(\"ellipse.msh\")\n",
    "\n",
    "# Conversion et sauvegarde du maillage au format XDMF (compatible avec FEniCSx)\n",
    "meshio.write(\"ellipse.xdmf\", meshio.Mesh(points=msh.points, cells={\"tetra\": msh.cells_dict.get(\"tetra\", [])}))\n",
    "\n",
    "# Lecture du maillage XDMF avec FEniCSx\n",
    "with XDMFFile(MPI.COMM_WORLD, \"ellipse.xdmf\", \"r\") as xdmf_file:\n",
    "    domain = xdmf_file.read_mesh(name=\"Grid\")\n",
    "    domain.topology.create_connectivity(domain.topology.dim-1, domain.topology.dim)\n",
    "\n",
    "# Affichage des informations sur le maillage\n",
    "print(\"Maillage créé et importé avec succès.\")\n",
    "print(f\"Nombre de sommets : {domain.topology.index_map(domain.topology.dim).size_global}\")\n",
    "print(f\"Nombre d'éléments : {domain.topology.index_map(domain.topology.dim-1).size_global}\")"
   ]
  },
  {
   "cell_type": "code",
   "execution_count": null,
   "id": "117bce15-4664-4e49-9677-8509b7a847ad",
   "metadata": {
    "canvas": {
     "comments": [],
     "componentType": "CodeCell",
     "copiedOriginId": null,
     "diskcache": false,
     "headerColor": "transparent",
     "id": "756bd14a-c702-407a-82c9-2cc61ec3c699",
     "isComponent": false,
     "name": "",
     "parents": []
    },
    "editable": true,
    "slideshow": {
     "slide_type": ""
    },
    "tags": [
     "remove-input"
    ]
   },
   "outputs": [],
   "source": [
    "# Préparation du maillage pour la visualisation avec PyVista\n",
    "u_topology, u_cell_types, u_geometry = plot.vtk_mesh(domain)\n",
    "\n",
    "# Création d'une grille non structurée PyVista à partir des données du maillage FEniCSx\n",
    "u_grid = pv.UnstructuredGrid(u_topology, u_cell_types, u_geometry)\n",
    "\n",
    "# Initialisation de l'environnement de visualisation PyVista\n",
    "p = pv.Plotter()\n",
    "\n",
    "# Ajout du maillage à la scène de visualisation\n",
    "p.add_mesh(u_grid, \n",
    "           show_edges=True,  # Affiche les arêtes du maillage\n",
    "           scalar_bar_args={\n",
    "               \"title\": \"u\",  # Titre de la barre de couleur\n",
    "               \"title_font_size\": 24,\n",
    "               \"label_font_size\": 22,\n",
    "               \"shadow\": True,\n",
    "               \"italic\": True,\n",
    "               \"font_family\": \"arial\",\n",
    "               \"vertical\": False  # Orientation horizontale de la barre de couleur\n",
    "           })\n",
    "\n",
    "# Ajout d'un titre à la visualisation\n",
    "p.add_text(\"Cylindre Mesh\", font_size=24, color=\"black\", position=\"upper_edge\")\n",
    "\n",
    "# Ajout des limites de la boîte englobante\n",
    "p.show_bounds(color=\"black\")\n",
    "\n",
    "# Ajout des axes de coordonnées\n",
    "p.add_axes(color=\"black\")\n",
    "\n",
    "# Définition de la couleur de fond\n",
    "p.set_background(\"grey\")\n",
    "\n",
    "# Affichage de la visualisation\n",
    "p.show()\n",
    "\n",
    "# Changement de la vue pour une perspective Y-Z\n",
    "p.view_yz()"
   ]
  },
  {
   "cell_type": "code",
   "execution_count": null,
   "id": "134e8176-355e-48b8-8c35-a2467cfc2cab",
   "metadata": {
    "editable": true,
    "slideshow": {
     "slide_type": ""
    },
    "tags": [
     "remove-cell"
    ]
   },
   "outputs": [],
   "source": [
    "interactive_panel = pn.pane.VTK(p.ren_win, width=755, height=400)\n",
    "from myst_nb import glue\n",
    "glue(\"img\", interactive_panel)"
   ]
  },
  {
   "cell_type": "markdown",
   "id": "f8cc582b-95d9-462f-a642-b6d8433970ca",
   "metadata": {
    "editable": true,
    "slideshow": {
     "slide_type": ""
    },
    "tags": []
   },
   "source": [
    "{glue:}`img`"
   ]
  },
  {
   "cell_type": "code",
   "execution_count": null,
   "id": "64e62e7a-6f88-452c-907c-987a04d247b6",
   "metadata": {
    "editable": true,
    "slideshow": {
     "slide_type": ""
    },
    "tags": []
   },
   "outputs": [],
   "source": [
    "interactive_panel"
   ]
  },
  {
   "cell_type": "markdown",
   "id": "60558ec4-da5b-4874-b94f-ce186ea5f56b",
   "metadata": {
    "editable": true,
    "slideshow": {
     "slide_type": ""
    },
    "tags": []
   },
   "source": [
    "## Configuration du problème"
   ]
  },
  {
   "cell_type": "code",
   "execution_count": null,
   "id": "a9acc691-7254-4eb4-a8d7-104b5a40fd99",
   "metadata": {
    "editable": true,
    "slideshow": {
     "slide_type": ""
    },
    "tags": []
   },
   "outputs": [],
   "source": [
    "import ipywidgets as widgets\n",
    "from IPython.display import display\n",
    "\n",
    "# Exemple de slider pour changer le rayon de la poutre\n",
    "rayon = widgets.FloatSlider(value=0.05, min=0.01, max=0.1, step=0.01, description=\"Rayon\")\n",
    "display(rayon)\n",
    "\n",
    "# Code Fenics ou autre qui dépend de \"rayon.value\"\n"
   ]
  },
  {
   "cell_type": "code",
   "execution_count": null,
   "id": "54c5324b-c639-488b-ad63-d39ab4f3345b",
   "metadata": {
    "editable": true,
    "slideshow": {
     "slide_type": ""
    },
    "tags": []
   },
   "outputs": [],
   "source": [
    "import ipywidgets as widgets\n",
    "from IPython.display import display\n",
    "\n",
    "# Exemple de slider pour changer le rayon de la poutre\n",
    "rayon = widgets.FloatSlider(value=0.05, min=0.01, max=0.1, step=0.01, description=\"Rayon\")\n",
    "display(rayon)\n",
    "\n",
    "# Code Fenics ou autre qui dépend de \"rayon.value\"\n"
   ]
  },
  {
   "cell_type": "markdown",
   "id": "061fa065-bb25-403f-b649-419851617378",
   "metadata": {},
   "source": [
    "### Définition de l'espace fonctionnel "
   ]
  },
  {
   "cell_type": "code",
   "execution_count": null,
   "id": "cab12150-47f5-4886-ba3f-1dbc7462ecf0",
   "metadata": {
    "canvas": {
     "comments": [],
     "componentType": "CodeCell",
     "copiedOriginId": null,
     "diskcache": false,
     "headerColor": "transparent",
     "id": "15e094ad-b7e9-4509-a091-0e3c45d05d9a",
     "isComponent": false,
     "name": "",
     "parents": []
    },
    "editable": true,
    "slideshow": {
     "slide_type": ""
    },
    "tags": []
   },
   "outputs": [],
   "source": [
    "# Exemple de dropdown pour choisir un matériau\n",
    "materiau = widgets.Dropdown(\n",
    "    options=['Acier', 'Aluminium', 'Plastique'],\n",
    "    value='Acier',\n",
    "    description='Matériau:',\n",
    ")\n",
    "\n",
    "# Fonction pour mettre à jour le slider en fonction du matériau choisi\n",
    "def update_slider(change):\n",
    "    if change['new'] == 'Acier':\n",
    "        rayon.value = 0.05  # Valeur par défaut pour l'acier\n",
    "    elif change['new'] == 'Aluminium':\n",
    "        rayon.value = 0.04  # Valeur par défaut pour l'aluminium\n",
    "    else:\n",
    "        rayon.value = 0.03  # Valeur par défaut pour le plastique\n",
    "\n",
    "materiau.observe(update_slider, names='value')\n",
    "imk=materiau.observe(update_slider, names='value')\n",
    "\n",
    "display(materiau)\n"
   ]
  },
  {
   "cell_type": "code",
   "execution_count": null,
   "id": "5e1c97fd-386d-4c17-996b-40e6f0b4811b",
   "metadata": {},
   "outputs": [],
   "source": [
    "# Utiliser Panel pour créer un rendu interactif\n",
    "pn.extension('vtk')\n",
    "interactive_panel = pn.pane.VTK(imk.ren_win, width=700, height=400)\n",
    "from myst_nb import glue\n",
    "glue(\"img\", interactive_panel)"
   ]
  },
  {
   "cell_type": "markdown",
   "id": "90bc05e1-f186-4ac5-9f2a-ae290e2e69da",
   "metadata": {
    "editable": true,
    "slideshow": {
     "slide_type": ""
    },
    "tags": []
   },
   "source": [
    "### Définition des frontière du domaine"
   ]
  },
  {
   "cell_type": "code",
   "execution_count": null,
   "id": "ff6f3130-a647-4ab1-8061-c1a0ab20f32e",
   "metadata": {
    "editable": true,
    "slideshow": {
     "slide_type": ""
    },
    "tags": [
     "hide-cell"
    ]
   },
   "outputs": [],
   "source": [
    "# Définition des fonctions pour identifier les différentes faces du cylindre\n",
    "def down_face(x):\n",
    "    \"\"\"Identifie la face inférieure du cylindre (z = 0)\"\"\"\n",
    "    return np.isclose(x[2], 0)\n",
    "\n",
    "def top_face(x):\n",
    "    \"\"\"Identifie la face supérieure du cylindre (z = h)\"\"\"\n",
    "    return np.isclose(x[2], h)\n",
    "\n",
    "def lateral_face(x):\n",
    "    \"\"\"\n",
    "    Identifie la surface latérale du cylindre elliptique\n",
    "    Utilise l'équation de l'ellipse : x^2/a^2 + y^2/b^2 = 1\n",
    "    \"\"\"\n",
    "    tolerance = 1e-5  # Tolérance pour la comparaison numérique\n",
    "    return (np.isclose((x[0]**2 / a**2 + x[1]**2 / b**2), 1.0, atol=tolerance)) & (0 <= x[2]) & (x[2] <= h)\n",
    "\n",
    "# Dimension des facettes (2D pour un domaine 3D)\n",
    "fdim = domain.topology.dim - 1\n",
    "\n",
    "# Localisation des entités (facettes) correspondant à chaque face\n",
    "Sigma_l = mesh.locate_entities(domain, fdim, lateral_face)\n",
    "Sigma_0 = mesh.locate_entities(domain, fdim, down_face)\n",
    "Sigma_h = mesh.locate_entities(domain, fdim, top_face)\n",
    "\n",
    "# Préparation des marqueurs de facettes pour les conditions aux limites\n",
    "marked_facets = np.hstack([Sigma_h])  # Utilisation uniquement de la face supérieure\n",
    "marked_values = np.hstack([np.full_like(Sigma_h, 1)])  # Marqueur 1 pour la face supérieure\n",
    "\n",
    "# Tri et création des tags de maillage\n",
    "sorted_facets = np.argsort(marked_facets)\n",
    "facet_tag = dolfinx.mesh.meshtags(domain, domain.topology.dim - 1, \n",
    "                                  marked_facets[sorted_facets], \n",
    "                                  marked_values[sorted_facets])\n",
    "\n",
    "# Définition de la mesure pour les facettes marquées\n",
    "ds = ufl.Measure('ds', domain=domain, subdomain_data=facet_tag)"
   ]
  },
  {
   "cell_type": "markdown",
   "id": "df264fe1-7832-4d77-9c61-d737bda53e9e",
   "metadata": {},
   "source": [
    "### Visualisation des frontière du domaine"
   ]
  },
  {
   "cell_type": "code",
   "execution_count": null,
   "id": "ee5f875e-2e5b-4bf3-b288-cb64dacbdcff",
   "metadata": {
    "editable": true,
    "slideshow": {
     "slide_type": ""
    },
    "tags": [
     "remove-input"
    ]
   },
   "outputs": [],
   "source": [
    "# Définition d'une fonction pour appliquer des marqueurs aux facettes\n",
    "def apply_marker(boundary_facets, marker_array, marker_value):\n",
    "    \"\"\"\n",
    "    Applique un marqueur spécifique aux facettes de la frontière.\n",
    "    \n",
    "    Args:\n",
    "    boundary_facets: Indices des facettes de la frontière\n",
    "    marker_array: Tableau des marqueurs à mettre à jour\n",
    "    marker_value: Valeur du marqueur à appliquer\n",
    "    \"\"\"\n",
    "    # Filtrer les facettes pour ne garder que celles appartenant au domaine local\n",
    "    boundary_facets = boundary_facets[boundary_facets < num_cells_local]\n",
    "    # Appliquer le marqueur\n",
    "    marker_array[boundary_facets] = marker_value\n",
    "\n",
    "# Obtenir le nombre de cellules locales (important pour le calcul parallèle)\n",
    "num_cells_local = domain.topology.index_map(fdim).size_local\n",
    "\n",
    "# Initialiser les tableaux de marqueurs pour chaque type de frontière\n",
    "# On crée 4 tableaux : 3 pour chaque face et 1 pour la combinaison\n",
    "markers = [np.zeros(num_cells_local, dtype=np.int32) for _ in range(4)]\n",
    "\n",
    "# Appliquer les marqueurs spécifiques à chaque face\n",
    "apply_marker(Sigma_0, markers[0], 1)  # Face inférieure (z = 0)\n",
    "apply_marker(Sigma_h, markers[1], 2)  # Face supérieure (z = h)\n",
    "apply_marker(Sigma_l, markers[2], 3)  # Surface latérale\n",
    "\n",
    "# Calculer le marqueur combiné\n",
    "markers[3] = markers[0] + markers[1] + markers[2]\n",
    "\n",
    "# Ajouter un marqueur spécifique (4) pour les cellules non marquées\n",
    "# Cela peut être utile pour identifier le volume intérieur, par exemple\n",
    "markers[3][markers[3] == 0] = 4\n",
    "\n",
    "# Créer la connectivité topologique pour les facettes\n",
    "# Ceci est nécessaire pour certaines opérations sur le maillage\n",
    "domain.topology.create_connectivity(fdim, fdim)\n",
    "\n",
    "# Obtenir les données de maillage au format compatible avec PyVista\n",
    "topology, cell_types, x = dolfinx.plot.vtk_mesh(domain, fdim, np.arange(num_cells_local, dtype=np.int32))"
   ]
  },
  {
   "cell_type": "code",
   "execution_count": null,
   "id": "5b55403e-a38b-467c-a438-d7dc59758f5d",
   "metadata": {
    "canvas": {
     "comments": [],
     "componentType": "CodeCell",
     "copiedOriginId": null,
     "diskcache": false,
     "headerColor": "transparent",
     "id": "04510bea-5779-4842-ad01-32573e61b6e1",
     "isComponent": false,
     "name": "",
     "parents": []
    },
    "editable": true,
    "slideshow": {
     "slide_type": ""
    },
    "tags": [
     "remove-input",
     "hide-output"
    ]
   },
   "outputs": [],
   "source": [
    "# Création du maillage PyVista à partir des données FEniCSx\n",
    "grid = pv.UnstructuredGrid(topology, cell_types, x)\n",
    "\n",
    "def add_plot(ax, marker, color, title, threshold_min):\n",
    "    \"\"\"\n",
    "    Fonction pour ajouter des maillages à une sous-fenêtre de visualisation.\n",
    "    \n",
    "    Args:\n",
    "    ax: Axe de la sous-fenêtre PyVista\n",
    "    marker: Tableau des marqueurs pour les cellules\n",
    "    color: Couleur pour les cellules filtrées\n",
    "    title: Titre de la sous-fenêtre\n",
    "    threshold_min: Valeur minimale pour le filtrage des cellules\n",
    "    \"\"\"\n",
    "    # Mise à jour des données de cellule du maillage avec les marqueurs\n",
    "    grid.cell_data[\"Marker\"] = marker\n",
    "    grid.set_active_scalars(\"Marker\")\n",
    "    \n",
    "    # Ajout du maillage complet avec les marqueurs\n",
    "    ax.add_mesh(grid, show_edges=True, color=\"cyan\", scalar_bar_args={\n",
    "        \"title\": \"Boundary Marker\",\n",
    "        \"title_font_size\": 24,\n",
    "        \"label_font_size\": 22,\n",
    "        \"shadow\": True,\n",
    "        \"italic\": True,\n",
    "        \"font_family\": \"arial\",\n",
    "        \"vertical\": False\n",
    "    })\n",
    "    \n",
    "    # Application d'un filtre basé sur le seuil pour isoler certaines cellules\n",
    "    grid_filter = grid.threshold(threshold_min, scalars='Marker')\n",
    "    ax.add_mesh(grid_filter, color=color, show_edges=True)\n",
    "    \n",
    "    # Ajout du titre et des axes à la sous-fenêtre\n",
    "    ax.add_text(title, font_size=12, color=\"black\", position=\"upper_edge\")\n",
    "    ax.add_axes(color=\"black\")\n",
    "\n",
    "# Configuration de la visualisation PyVista avec 4 sous-fenêtres (2x2)\n",
    "pl = pv.Plotter(shape=(2, 2))\n",
    "\n",
    "# Sous-fenêtre 1 : Affichage de toutes les frontières\n",
    "pl.subplot(0, 0)\n",
    "add_plot(pl, markers[3], \"red\", \"All Boundaries\", threshold_min=0.5)\n",
    "\n",
    "# Sous-fenêtre 2 : Affichage de la frontière inférieure\n",
    "pl.subplot(0, 1)\n",
    "add_plot(pl, markers[0], \"red\", \"Down Boundary\", threshold_min=0.5)\n",
    "\n",
    "# Sous-fenêtre 3 : Affichage de la frontière supérieure\n",
    "pl.subplot(1, 0)\n",
    "add_plot(pl, markers[1], \"red\", \"Top Boundary\", threshold_min=1.5)\n",
    "\n",
    "# Sous-fenêtre 4 : Affichage de la frontière latérale\n",
    "pl.subplot(1, 1)\n",
    "add_plot(pl, markers[2], \"red\", \"Lateral Boundary\", threshold_min=2.5)\n",
    "\n",
    "# Configuration finale et affichage\n",
    "pl.set_background(\"grey\")\n",
    "pl.show()"
   ]
  },
  {
   "cell_type": "code",
   "execution_count": null,
   "id": "008b78fc-dcf2-43cf-9254-85cd5af0d85f",
   "metadata": {},
   "outputs": [],
   "source": [
    "# Utiliser Panel pour créer un rendu interactif\n",
    "pn.extension('vtk')\n",
    "interactive_panel = pn.pane.VTK(pl.ren_win, width=600, height=400)\n",
    "from myst_nb import glue\n",
    "glue(\"img\", interactive_panel)"
   ]
  },
  {
   "cell_type": "markdown",
   "id": "5797b190-16bf-42e3-a66b-eb8ed3855643",
   "metadata": {},
   "source": [
    "## Conditions aux limites"
   ]
  },
  {
   "cell_type": "code",
   "execution_count": null,
   "id": "895be862-4194-432d-8336-e1a02164f2b6",
   "metadata": {
    "editable": true,
    "slideshow": {
     "slide_type": ""
    },
    "tags": []
   },
   "outputs": [],
   "source": [
    "# Définition des conditions aux limites de Dirichlet (déplacement nul)\n",
    "u_D = np.array([0, 0, 0], dtype=default_scalar_type)\n",
    "\n",
    "# Application des conditions aux limites sur chaque face\n",
    "bc1 = fem.dirichletbc(u_D, fem.locate_dofs_topological(V, fdim, Sigma_0), V)  # Face inférieure\n",
    "bc2 = fem.dirichletbc(u_D, fem.locate_dofs_topological(V, fdim, Sigma_h), V)  # Face supérieure\n",
    "bc3 = fem.dirichletbc(u_D, fem.locate_dofs_topological(V, fdim, Sigma_l), V)  # Surface latérale"
   ]
  },
  {
   "cell_type": "markdown",
   "id": "91e5bf09-212b-48b6-bbb8-030fcc8fd027",
   "metadata": {
    "editable": true,
    "slideshow": {
     "slide_type": ""
    },
    "tags": []
   },
   "source": [
    "## Propriétés matériau"
   ]
  },
  {
   "cell_type": "code",
   "execution_count": null,
   "id": "e2e69757-1a8e-40fa-8cb9-e784d4c28061",
   "metadata": {
    "editable": true,
    "slideshow": {
     "slide_type": ""
    },
    "tags": []
   },
   "outputs": [],
   "source": [
    "# Définition des constantes élastiques du matériau\n",
    "mu = 80e9      # Module de cisaillement (G) en Pa\n",
    "lambda_ = 120e9  # Premier paramètre de Lamé (λ) en Pa"
   ]
  },
  {
   "cell_type": "markdown",
   "id": "31c7bd02-286e-45c6-b78f-88569a7cce75",
   "metadata": {
    "editable": true,
    "slideshow": {
     "slide_type": ""
    },
    "tags": []
   },
   "source": [
    "## Définition des chargements"
   ]
  },
  {
   "cell_type": "code",
   "execution_count": null,
   "id": "f3946d77-2b68-4862-909d-d50de9b4cd1b",
   "metadata": {
    "editable": true,
    "slideshow": {
     "slide_type": ""
    },
    "tags": [
     "remove-input"
    ]
   },
   "outputs": [],
   "source": [
    "pi = math.pi  # Nombre Pi\n",
    "\n",
    "ang = 20.0  # Angle de torsion en radians\n",
    "\n",
    "# Calcul du taux de torsion α\n",
    "alpha = ang / h\n",
    "print(f\"α = {alpha} m^-1\")\n",
    "\n",
    "# Calcul de la rigidité en torsion C\n",
    "C = mu * pi * (R ** 4) / 2 * alpha\n",
    "print(f\"C = {C} kg.m^2/s\")\n",
    "\n",
    "# Calcul de la constante A pour le champ de torsion\n",
    "A = 2 * C / (pi * R**4)  # A est un scalaire constant positif\n",
    "\n",
    "# Définition des coordonnées spatiales\n",
    "x = ufl.SpatialCoordinate(domain)\n",
    "\n",
    "# Définition des composantes du champ de torsion (vecteur des Contraintes de Cauchy)\n",
    "T1 = -A * x[1]  # Composante x du champ de torsion\n",
    "T2 = A * x[0]   # Composante y du champ de torsion\n",
    "T3 = ufl.as_ufl(0.0)  # Composante z nulle, convertie en expression UFL\n",
    "\n",
    "# Combinaison en un champ vectoriel de torsion\n",
    "T = ufl.as_vector([T1, T2, T3])"
   ]
  },
  {
   "cell_type": "markdown",
   "id": "3018e159-0a3d-4804-9a69-bc0d49d594a4",
   "metadata": {},
   "source": [
    "## Résolution"
   ]
  },
  {
   "cell_type": "code",
   "execution_count": null,
   "id": "53672442-3fbd-423b-bb5d-515838bde31f",
   "metadata": {
    "canvas": {
     "comments": [],
     "componentType": "CodeCell",
     "copiedOriginId": null,
     "diskcache": false,
     "headerColor": "transparent",
     "id": "359db679-9183-45fd-b4ad-51526ab1bc41",
     "isComponent": false,
     "name": "",
     "parents": []
    },
    "editable": true,
    "slideshow": {
     "slide_type": ""
    },
    "tags": [
     "hide-cell"
    ]
   },
   "outputs": [],
   "source": [
    "# Définition des tenseurs de déformation et de contrainte\n",
    "def epsilon(u):\n",
    "    \"\"\"Tenseur de déformation linéarisé\"\"\"\n",
    "    return ufl.sym(ufl.grad(u))\n",
    "\n",
    "def sigma(u):\n",
    "    \"\"\"Tenseur des contraintes (loi de Hooke)\"\"\"\n",
    "    return lambda_ * ufl.nabla_div(u) * ufl.Identity(len(u)) + 2 * mu * epsilon(u)\n",
    "\n",
    "# Définition des fonctions d'essai et de test\n",
    "u = ufl.TrialFunction(V)\n",
    "v = ufl.TestFunction(V)\n",
    "\n",
    "# Définition de la force volumique (nulle dans ce cas)\n",
    "f = fem.Constant(domain, default_scalar_type((0, 0, 0)))\n",
    "\n",
    "# Formulation variationnelle du problème\n",
    "a = ufl.inner(sigma(u), epsilon(v)) * ufl.dx  # Forme bilinéaire\n",
    "L = ufl.dot(f, v) * ufl.dx + ufl.dot(T, v) * ds(1)  # Forme linéaire\n",
    "\n",
    "# Définition et résolution du problème linéaire\n",
    "problem = LinearProblem(a, L, bcs=[bc1], \n",
    "                        petsc_options={\"ksp_type\": \"cg\", \"pc_type\": \"jacobi\"})\n",
    "uh = problem.solve()"
   ]
  },
  {
   "cell_type": "markdown",
   "id": "bae941f4-a2dd-4af7-a194-e40d52945fa6",
   "metadata": {
    "editable": true,
    "jp-MarkdownHeadingCollapsed": true,
    "slideshow": {
     "slide_type": ""
    },
    "tags": []
   },
   "source": [
    "### Visualisation des résultats"
   ]
  },
  {
   "cell_type": "markdown",
   "id": "04bcf44c-fc93-4148-88e7-a9ecfdd1daf9",
   "metadata": {
    "editable": true,
    "slideshow": {
     "slide_type": ""
    },
    "tags": []
   },
   "source": [
    "### Visualisation des déplacements"
   ]
  },
  {
   "cell_type": "code",
   "execution_count": null,
   "id": "bfeb2bd1-2589-4b47-bfad-45ba17507bf6",
   "metadata": {
    "canvas": {
     "comments": [],
     "componentType": "CodeCell",
     "copiedOriginId": null,
     "diskcache": false,
     "headerColor": "transparent",
     "id": "d5afbdc1-6249-49e4-b386-70483dee0df5",
     "isComponent": false,
     "name": "",
     "parents": []
    },
    "editable": true,
    "slideshow": {
     "slide_type": ""
    },
    "tags": [
     "remove-input"
    ]
   },
   "outputs": [],
   "source": [
    "# Création du maillage pour PyVista basé sur les coordonnées des dofs\n",
    "u_topology, u_cell_types, u_geometry = plot.vtk_mesh(domain)\n",
    "\n",
    "# Créez la grille PyVista et ajoutez les valeurs des dofs à la grille\n",
    "u_grid = pv.UnstructuredGrid(u_topology, u_cell_types, u_geometry)\n",
    "\n",
    "# Attach vector values to grid and warp grid by vector\n",
    "u_grid[\"u\"] = uh.x.array.reshape((u_geometry.shape[0], 3))\n",
    "\n",
    "# Visualisation\n",
    "p = pv.Plotter()\n",
    "p.add_mesh(u_grid, show_edges=False, scalar_bar_args={\n",
    "    \"title\": \"u\",\n",
    "    \"title_font_size\": 24,\n",
    "    \"label_font_size\": 22,\n",
    "    \"shadow\": True,\n",
    "    \"italic\": True,\n",
    "    \"font_family\": \"arial\",\n",
    "    \"vertical\": False\n",
    "})\n",
    "p.add_text(\"Déplacements\", font_size=12, color=\"black\", position=\"upper_edge\")\n",
    "p.add_axes(color=\"black\")\n",
    "p.set_background(\"grey\")\n",
    "p.show()"
   ]
  },
  {
   "cell_type": "code",
   "execution_count": null,
   "id": "8b39e96d-0d03-4ec8-8b1f-eb0cd61e43e8",
   "metadata": {},
   "outputs": [],
   "source": [
    "# Utiliser Panel pour créer un rendu interactif\n",
    "pn.extension('vtk')\n",
    "interactive_panel = pn.pane.VTK(p.ren_win, width=600, height=400)\n",
    "from myst_nb import glue\n",
    "glue(\"img\", interactive_panel)"
   ]
  },
  {
   "cell_type": "markdown",
   "id": "b0e2cdda-1dcd-4e2d-a5c3-3b9497575ecc",
   "metadata": {
    "editable": true,
    "slideshow": {
     "slide_type": ""
    },
    "tags": []
   },
   "source": [
    "### Visualisation des rotations principales"
   ]
  },
  {
   "cell_type": "code",
   "execution_count": null,
   "id": "bbbadc3b-a1aa-4dc3-907d-b7491f946af0",
   "metadata": {
    "editable": true,
    "slideshow": {
     "slide_type": ""
    },
    "tags": [
     "remove-cell"
    ]
   },
   "outputs": [],
   "source": [
    "def omega(u):\n",
    "    \"\"\"Calcule le tenseur de rotation (partie antisymétrique du gradient de déplacement)\"\"\"\n",
    "    return 0.5 * (ufl.grad(u).T - ufl.grad(u))\n",
    "\n",
    "# Calcul du tenseur de rotation\n",
    "theta = omega(uh)\n",
    "\n",
    "# Extraction des composantes du tenseur de rotation\n",
    "theta_xy, theta_xz, theta_yz = theta[0, 1], theta[0, 2], theta[1, 2]\n",
    "\n",
    "# Définition de l'espace fonctionnel pour les rotations (éléments discontinus d'ordre 0)\n",
    "V_omega = fem.functionspace(domain, (\"DG\", 0))\n",
    "\n",
    "def interpolate_rotation(rotation_component):\n",
    "    \"\"\"Interpole une composante de rotation sur l'espace fonctionnel\"\"\"\n",
    "    expr = fem.Expression(rotation_component, V_omega.element.interpolation_points())\n",
    "    rotation = fem.Function(V_omega)\n",
    "    rotation.interpolate(expr)\n",
    "    return rotation\n",
    "\n",
    "# Interpolation des composantes de rotation\n",
    "rotation_x = interpolate_rotation(theta_yz)\n",
    "rotation_y = interpolate_rotation(-theta_xz)  # Note le signe négatif\n",
    "rotation_z = interpolate_rotation(theta_xy)\n",
    "\n",
    "# Calcul de la norme de rotation\n",
    "norm_theta = ufl.sqrt(theta_xy**2 + theta_xz**2 + theta_yz**2)\n",
    "rotation_norm = interpolate_rotation(norm_theta)\n",
    "\n",
    "# Configuration de la visualisation\n",
    "pl = pv.Plotter(shape=(2, 2))\n",
    "dargs = dict(cmap=\"jet\", show_scalar_bar=False)\n",
    "warped = u_grid.warp_by_vector(\"u\", factor=0)  # Pas de déformation pour visualiser les déformations\n",
    "\n",
    "def add_subplot(row, col, data, title):\n",
    "    \"\"\"Ajoute un sous-plot pour une composante de rotation\"\"\"\n",
    "    pl.subplot(row, col)\n",
    "    warped.cell_data[title] = data.vector.array\n",
    "    warped.set_active_scalars(title)\n",
    "    pl.add_mesh(warped, **dargs)\n",
    "    pl.add_axes(color=\"k\")\n",
    "    pl.add_text(title, color='k', font_size=12)\n",
    "\n",
    "# Création des sous-plots\n",
    "add_subplot(0, 0, rotation_norm, \"Norme de rotation\")\n",
    "add_subplot(0, 1, rotation_x, \"Rotation RX\")\n",
    "add_subplot(1, 0, rotation_y, \"Rotation RY\")\n",
    "add_subplot(1, 1, rotation_z, \"Rotation RZ\")\n",
    "\n",
    "# Configuration finale\n",
    "pl.link_views()\n",
    "pl.camera_position = 'iso'\n",
    "pl.background_color = 'grey'\n",
    "\n",
    "# Ajout d'une barre de couleur globale\n",
    "pl.add_scalar_bar(title=\"Rotation (rad)\", n_labels=5, label_font_size=10, title_font_size=12, \n",
    "                  position_x=0.25, position_y=0.05, width=0.5)\n",
    "\n",
    "# Affichage\n",
    "pl.show()"
   ]
  },
  {
   "cell_type": "markdown",
   "id": "bcebf56e-7557-418d-bab1-35c009144881",
   "metadata": {},
   "source": [
    "### Visualisation des déplacements amplifiés"
   ]
  },
  {
   "cell_type": "code",
   "execution_count": null,
   "id": "03b01cf2-a80a-449d-a84c-117bdc46e447",
   "metadata": {
    "editable": true,
    "slideshow": {
     "slide_type": ""
    },
    "tags": [
     "remove-cell"
    ]
   },
   "outputs": [],
   "source": [
    "# Création d'un objet Plotter PyVista pour la visualisation 3D\n",
    "p = pv.Plotter()\n",
    "\n",
    "# Application de la déformation au maillage\n",
    "# Le facteur 0.04 amplifie la déformation pour une meilleure visibilité\n",
    "warped = u_grid.warp_by_vector(\"u\", factor=0.07)\n",
    "\n",
    "# Ajout du maillage déformé à la scène\n",
    "p.add_mesh(warped, \n",
    "           show_edges=False,  # Affiche les arêtes du maillage\n",
    "           scalar_bar_args={\n",
    "               \"title\": \"Déplacement\",  # Titre de la barre de couleur\n",
    "               \"title_font_size\": 24,\n",
    "               \"label_font_size\": 22,\n",
    "               #\"shadow\": True,\n",
    "               \"italic\": True,\n",
    "               \"font_family\": \"arial\",\n",
    "               \"vertical\": False,  # Orientation horizontale de la barre de couleur\n",
    "               \"n_labels\": 5,  # Nombre d'étiquettes sur la barre de couleur\n",
    "               #\"fmt\": \"%.2e\"  # Format scientifique pour les valeurs\n",
    "           })\n",
    "\n",
    "# Ajout d'un titre à la visualisation\n",
    "p.add_text(\"Déplacements amplifiés\", font_size=12, color=\"k\", position=\"upper_edge\")\n",
    "\n",
    "# Ajout des axes de coordonnées\n",
    "p.add_axes(xlabel='X', ylabel='Y', zlabel='Z', color=\"k\")\n",
    "\n",
    "# Configuration de l'arrière-plan et de l'éclairage\n",
    "p.set_background(\"grey\")\n",
    "#p.enable_shadows()  # Ajoute des ombres pour améliorer la perception 3D\n",
    "\n",
    "# Configuration de la caméra pour une vue optimale\n",
    "p.camera_position = [(3, 3, 2), (0, 0, 0.5), (0, 0, 1)]\n",
    "\n",
    "# Affichage de la visualisation\n",
    "p.show()"
   ]
  },
  {
   "cell_type": "markdown",
   "id": "02a8ba06-2c39-41e3-bb84-5513e5dfc183",
   "metadata": {
    "editable": true,
    "slideshow": {
     "slide_type": ""
    },
    "tags": []
   },
   "source": [
    "### Visualisation des déplacements normalisés et selon les axes principaux "
   ]
  },
  {
   "cell_type": "code",
   "execution_count": null,
   "id": "4afffa6a-4bb2-4937-9a71-1abc0d69a0c5",
   "metadata": {
    "canvas": {
     "comments": [],
     "componentType": "CodeCell",
     "copiedOriginId": null,
     "diskcache": false,
     "headerColor": "transparent",
     "id": "bd6d1531-cbc4-4313-9511-4f23190210c8",
     "isComponent": false,
     "name": "",
     "parents": []
    },
    "editable": true,
    "slideshow": {
     "slide_type": ""
    },
    "tags": [
     "remove-cell"
    ]
   },
   "outputs": [],
   "source": [
    "# Définition des arguments communs pour l'affichage des maillages\n",
    "dargs = dict(\n",
    "    scalars=\"u\",       # Utilise le champ de déplacement 'u' pour la coloration\n",
    "    cmap=\"jet\",        # Utilise la palette de couleurs 'jet'\n",
    "    show_scalar_bar=False,  # Ne pas afficher la barre de couleur pour chaque sous-plot\n",
    ")\n",
    "\n",
    "# Création d'un plotter PyVista avec une grille 2x2 de sous-plots\n",
    "pl = pv.Plotter(shape=(2, 2))\n",
    "\n",
    "# Sous-plot 0,0 : Déplacement normalisé (magnitude)\n",
    "pl.subplot(0, 0)\n",
    "pl.add_mesh(u_grid, **dargs)\n",
    "pl.add_axes(color=\"black\")\n",
    "pl.add_text(\"Normalized Displacement\", color='k', font_size=10)\n",
    "\n",
    "# Sous-plot 0,1 : Déplacement selon X\n",
    "pl.subplot(0, 1)\n",
    "pl.add_mesh(u_grid.copy(), component=0, **dargs)\n",
    "pl.add_axes(color=\"black\")\n",
    "pl.add_text(\"X Displacement\", color='k', font_size=10)\n",
    "\n",
    "# Sous-plot 1,0 : Déplacement selon Y\n",
    "pl.subplot(1, 0)\n",
    "pl.add_mesh(u_grid.copy(), component=1, **dargs)\n",
    "pl.add_axes(color=\"black\")\n",
    "pl.add_text(\"Y Displacement\", color='k', font_size=10)\n",
    "\n",
    "# Sous-plot 1,1 : Déplacement selon Z\n",
    "pl.subplot(1, 1)\n",
    "pl.add_mesh(u_grid.copy(), component=2, **dargs)\n",
    "pl.add_axes(color=\"black\")\n",
    "pl.add_text(\"Z Displacement\", color='k', font_size=10)\n",
    "\n",
    "# Configuration globale de la visualisation\n",
    "pl.link_views()  # Lie les vues des sous-plots pour une navigation synchronisée\n",
    "pl.camera_position = 'iso'  # Vue isométrique\n",
    "pl.background_color = 'grey'  # Couleur de fond grise\n",
    "\n",
    "# Ajout d'une barre de couleur globale\n",
    "pl.add_scalar_bar(title=\"Displacement (m)\", n_labels=5, label_font_size=10, title_font_size=12, position_x=0.25, position_y=0.05, width=0.5)\n",
    "\n",
    "# Affichage de la visualisation\n",
    "pl.show()\n"
   ]
  },
  {
   "cell_type": "markdown",
   "id": "05870cc4-73d1-41dc-8acd-e39aee0be5f2",
   "metadata": {
    "editable": true,
    "slideshow": {
     "slide_type": ""
    },
    "tags": []
   },
   "source": [
    "### Visualisation des composantes du tenseur des déformations"
   ]
  },
  {
   "cell_type": "code",
   "execution_count": null,
   "id": "9d0fdf2c-b118-4951-8764-82bd46cd1d70",
   "metadata": {
    "canvas": {
     "comments": [],
     "componentType": "CodeCell",
     "copiedOriginId": null,
     "diskcache": false,
     "headerColor": "transparent",
     "id": "e2c12f1d-f6e6-4767-a4a4-539ed0187ca8",
     "isComponent": false,
     "name": "",
     "parents": []
    },
    "editable": true,
    "slideshow": {
     "slide_type": ""
    },
    "tags": [
     "remove-cell"
    ]
   },
   "outputs": [],
   "source": [
    "# Calcul du tenseur de déformation\n",
    "eps = epsilon(uh)\n",
    "\n",
    "# Extraction des composantes du tenseur de déformation\n",
    "eps_xx, eps_xy, eps_xz = eps[0, 0], eps[0, 1], eps[0, 2]\n",
    "eps_yy, eps_yz = eps[1, 1], eps[1, 2]\n",
    "eps_zz = eps[2, 2]\n",
    "\n",
    "# Création de la grille PyVista\n",
    "eps_topology, eps_cell_types, eps_geometry = dolfinx.plot.vtk_mesh(domain)\n",
    "eps_grid = pv.UnstructuredGrid(eps_topology, eps_cell_types, eps_geometry)\n",
    "\n",
    "# Définition de l'espace fonctionnel pour les déformations (éléments discontinus d'ordre 0)\n",
    "V_eps = fem.functionspace(domain, (\"DG\", 0))\n",
    "\n",
    "# Fonction pour interpoler les composantes de déformation\n",
    "def interpolate_strain(eps_component):\n",
    "    expr = fem.Expression(eps_component, V_eps.element.interpolation_points())\n",
    "    strain = fem.Function(V_eps)\n",
    "    strain.interpolate(expr)\n",
    "    return strain\n",
    "\n",
    "# Interpolation des composantes de déformation\n",
    "strain_components = {\n",
    "    \"XX\": interpolate_strain(eps_xx),\n",
    "    \"YY\": interpolate_strain(eps_yy),\n",
    "    \"ZZ\": interpolate_strain(eps_zz),\n",
    "    \"YZ\": interpolate_strain(eps_yz),\n",
    "    \"XZ\": interpolate_strain(eps_xz),\n",
    "    \"XY\": interpolate_strain(eps_xy)\n",
    "}\n",
    "\n",
    "# Configuration de la visualisation\n",
    "pl = pv.Plotter(shape=(2, 3))\n",
    "warped = u_grid.warp_by_vector(\"u\", factor=0)  # Pas de déformation pour visualiser les déformations\n",
    "\n",
    "dargs = dict(cmap=\"jet\", show_scalar_bar=False)\n",
    "\n",
    "# Fonction pour ajouter un sous-plot\n",
    "def add_subplot(row, col, component):\n",
    "    pl.subplot(row, col)\n",
    "    warped.cell_data[f\"Epsilon_{component}\"] = strain_components[component].vector.array\n",
    "    warped.set_active_scalars(f\"Epsilon_{component}\")\n",
    "    pl.add_mesh(warped, **dargs)    \n",
    "    pl.add_axes(color=\"black\")\n",
    "    pl.add_text(f\"Epsilon {component}\", color='k', font_size=12)\n",
    "\n",
    "# Création des sous-plots pour chaque composante\n",
    "for i, component in enumerate([\"XX\", \"YY\", \"ZZ\", \"YZ\", \"XZ\", \"XY\"]):\n",
    "    add_subplot(i // 3, i % 3, component)\n",
    "\n",
    "# Configuration finale\n",
    "pl.link_views()\n",
    "pl.camera_position = 'iso'\n",
    "pl.background_color = 'grey'\n",
    "\n",
    "# Ajout d'une barre de couleur globale\n",
    "pl.add_scalar_bar(title=\"Strain\", n_labels=5, label_font_size=10, title_font_size=12, position_x=0.25, position_y=0.05, width=0.5)\n",
    "\n",
    "# Affichage\n",
    "pl.show()"
   ]
  },
  {
   "cell_type": "markdown",
   "id": "1ad22723-4e8e-4ce4-a64e-1e9539ed64d3",
   "metadata": {
    "editable": true,
    "slideshow": {
     "slide_type": ""
    },
    "tags": []
   },
   "source": [
    "### Visualisation des composantes du tenseur des contraintes"
   ]
  },
  {
   "cell_type": "code",
   "execution_count": null,
   "id": "aa215cbc-8d0f-4287-9785-98b739ae5e69",
   "metadata": {
    "editable": true,
    "slideshow": {
     "slide_type": ""
    },
    "tags": [
     "remove-cell"
    ]
   },
   "outputs": [],
   "source": [
    "# Calculer le tenseur des contraintes\n",
    "sig = sigma(uh)  # sigma est une fonction définie précédemment pour calculer les contraintes\n",
    "\n",
    "# Extraire les composantes du tenseur des contraintes\n",
    "sig_xx, sig_xy, sig_xz = sig[0, 0], sig[0, 1], sig[0, 2]\n",
    "sig_yy, sig_yz = sig[1, 1], sig[1, 2]\n",
    "sig_zz = sig[2, 2]\n",
    "\n",
    "# Définir l'espace fonctionnel pour les contraintes (éléments discontinus d'ordre 0)\n",
    "V_sig = fem.functionspace(domain, (\"DG\", 0))\n",
    "\n",
    "# Fonction pour interpoler les composantes de contrainte\n",
    "def interpolate_stress(sig_component):\n",
    "    expr = fem.Expression(sig_component, V_sig.element.interpolation_points())\n",
    "    stress = fem.Function(V_sig)\n",
    "    stress.interpolate(expr)\n",
    "    return stress\n",
    "\n",
    "# Interpoler chaque composante de contrainte\n",
    "stress_xx = interpolate_stress(sig_xx)\n",
    "stress_yy = interpolate_stress(sig_yy)\n",
    "stress_zz = interpolate_stress(sig_zz)\n",
    "stress_yz = interpolate_stress(sig_yz)\n",
    "stress_xz = interpolate_stress(sig_xz)\n",
    "stress_xy = interpolate_stress(sig_xy)\n",
    "\n",
    "# Configuration de la visualisation\n",
    "pl = pv.Plotter(shape=(2, 3))  # Créer un plotter avec une grille 2x3\n",
    "\n",
    "dargs = dict(\n",
    "    cmap=\"jet\",\n",
    "    show_scalar_bar=False,\n",
    ")\n",
    "\n",
    "# Fonction pour ajouter un sous-plot\n",
    "def add_subplot(row, col, stress_component, title):\n",
    "    pl.subplot(row, col)\n",
    "    warped.cell_data[title] = stress_component.vector.array\n",
    "    warped.set_active_scalars(title)\n",
    "    pl.add_mesh(warped, **dargs)    \n",
    "    pl.add_axes(color=\"k\")\n",
    "    pl.add_text(title, color='k', font_size=12)\n",
    "\n",
    "# Ajouter chaque composante de contrainte comme un sous-plot\n",
    "add_subplot(0, 0, stress_xx, \"Sigma XX\")\n",
    "add_subplot(0, 1, stress_yy, \"Sigma YY\")\n",
    "add_subplot(0, 2, stress_zz, \"Sigma ZZ\")\n",
    "add_subplot(1, 0, stress_yz, \"Sigma YZ\")\n",
    "add_subplot(1, 1, stress_xz, \"Sigma XZ\")\n",
    "add_subplot(1, 2, stress_xy, \"Sigma XY\")\n",
    "\n",
    "# Configuration finale de la visualisation\n",
    "pl.link_views()  # Lier les vues pour une navigation synchronisée\n",
    "pl.camera_position = 'iso'  # Vue isométrique\n",
    "pl.background_color = 'grey'  # Couleur de fond grise\n",
    "\n",
    "# Ajout d'une barre de couleur globale\n",
    "pl.add_scalar_bar(title=\"Contrainte (Pa)\", n_labels=5, label_font_size=10, title_font_size=12, position_x=0.25, position_y=0.05, width=0.5)\n",
    "\n",
    "# Afficher la visualisation\n",
    "pl.show()"
   ]
  },
  {
   "cell_type": "markdown",
   "id": "35f333e4-267d-42b9-933e-7e00e44978dd",
   "metadata": {
    "editable": true,
    "slideshow": {
     "slide_type": ""
    },
    "tags": []
   },
   "source": [
    "### Calcul des contraintes de von Mises"
   ]
  },
  {
   "cell_type": "code",
   "execution_count": null,
   "id": "75aeb056-fdb9-49d9-8f43-276660ffc051",
   "metadata": {
    "editable": true,
    "slideshow": {
     "slide_type": ""
    },
    "tags": []
   },
   "outputs": [],
   "source": [
    "s = sigma(uh) - 1. / 3 * ufl.tr(sigma(uh)) * ufl.Identity(len(uh))\n",
    "von_Mises = ufl.sqrt(3. / 2 * ufl.inner(s, s))\n",
    "\n",
    "V_von_mises = fem.functionspace(domain, (\"DG\", 0))\n",
    "stress_expr = fem.Expression(von_Mises, V_von_mises.element.interpolation_points())\n",
    "stresses = fem.Function(V_von_mises)\n",
    "stresses.interpolate(stress_expr)"
   ]
  },
  {
   "cell_type": "markdown",
   "id": "59a0c2ba-07d0-4b56-8466-9a4ed81c0fc1",
   "metadata": {
    "editable": true,
    "slideshow": {
     "slide_type": ""
    },
    "tags": []
   },
   "source": [
    "### Visualisation des contraintes de von Mises "
   ]
  },
  {
   "cell_type": "code",
   "execution_count": null,
   "id": "3d6d5e7d-b7aa-4790-a88c-87ba960756aa",
   "metadata": {
    "editable": true,
    "slideshow": {
     "slide_type": ""
    },
    "tags": [
     "remove-input"
    ]
   },
   "outputs": [],
   "source": [
    "# Créez une nouvelle instance de Plotter\n",
    "# Ajout des données de contrainte de von Mises au maillage déformé\n",
    "warped.cell_data[\"VonMises\"] = stresses.vector.array\n",
    "# Définition de \"VonMises\" comme scalaire actif pour la visualisation\n",
    "warped.set_active_scalars(\"VonMises\")\n",
    "\n",
    "# Création d'une nouvelle instance de Plotter PyVista\n",
    "p = pv.Plotter()\n",
    "\n",
    "# Ajout du maillage déformé avec la contrainte de von Mises\n",
    "p.add_mesh(warped, \n",
    "           cmap=\"jet\",  # Utilisation de la carte de couleurs \"jet\"\n",
    "           show_edges=False,  # Ne pas afficher les arêtes du maillage\n",
    "           scalar_bar_args={\n",
    "               \"title\": \"von Mises (MPa)\",  # Titre de la barre de couleur\n",
    "               \"title_font_size\": 24,  # Taille de la police du titre\n",
    "               \"label_font_size\": 22,  # Taille de la police des étiquettes\n",
    "               \"shadow\": True,  # Ajout d'une ombre à la barre de couleur\n",
    "               \"italic\": True,  # Texte en italique\n",
    "               \"font_family\": \"arial\",  # Police Arial\n",
    "               \"vertical\": False  # Barre de couleur horizontale\n",
    "           })\n",
    "\n",
    "# Ajout d'un titre à la visualisation\n",
    "p.add_text(\"Contraintes de von Mises\", font_size=12, color=\"black\", position=\"upper_edge\")\n",
    "\n",
    "# Ajout des axes de coordonnées en noir\n",
    "p.add_axes(color=\"black\")\n",
    "\n",
    "# Configuration de l'arrière-plan en gris\n",
    "p.set_background(\"grey\")\n",
    "\n",
    "# Configuration de la caméra pour une vue optimale\n",
    "p.camera_position = [(3, 3, 2), (0, 0, 0.5), (0, 0, 1)]\n",
    "\n",
    "# Affichage de la visualisation\n",
    "p.show()"
   ]
  },
  {
   "cell_type": "code",
   "execution_count": null,
   "id": "486a9c2b-7413-462b-bb66-533171ef1c8b",
   "metadata": {},
   "outputs": [],
   "source": [
    "# Utiliser Panel pour créer un rendu interactif\n",
    "pn.extension('vtk')\n",
    "interactive_panel = pn.pane.VTK(p.ren_win, width=600, height=400)\n",
    "from myst_nb import glue\n",
    "glue(\"img\", interactive_panel)"
   ]
  },
  {
   "cell_type": "markdown",
   "id": "3b51c6b8-cecd-4552-a9d8-3faf4862b450",
   "metadata": {
    "editable": true,
    "slideshow": {
     "slide_type": ""
    },
    "tags": []
   },
   "source": [
    "## Analyses des résultats"
   ]
  },
  {
   "cell_type": "markdown",
   "id": "a3a3c74b-913c-4525-9a6d-da4a6986d451",
   "metadata": {
    "editable": true,
    "slideshow": {
     "slide_type": ""
    },
    "tags": []
   },
   "source": [
    "### Calcul des valeurs maximales"
   ]
  },
  {
   "cell_type": "code",
   "execution_count": null,
   "id": "70873498-b3c2-4df0-8f66-b4a5cdf51481",
   "metadata": {
    "editable": true,
    "slideshow": {
     "slide_type": ""
    },
    "tags": [
     "hide-cell"
    ]
   },
   "outputs": [],
   "source": [
    "# Extraction de la valeur maximale de la rotation RZ\n",
    "max_rotation_z = np.max(np.abs(rotation_z.x.array))\n",
    "\n",
    "# Extraction de la valeur maximale de la norme de rotation\n",
    "max_rotation_norm = np.max(rotation_norm.x.array)\n",
    "\n",
    "# Conversion en degrés pour une interprétation plus intuitive\n",
    "max_rotation_z_degrees = np.degrees(max_rotation_z)\n",
    "\n",
    "# Calcul de l'angle de torsion théorique\n",
    "theoretical_twist = ang * h  # ang est l'angle de torsion par unité de longueur, h est la hauteur du cylindre\n",
    "\n",
    "# Comparaison pour RZ\n",
    "relative_error_Z = abs(max_rotation_z - theoretical_twist) / theoretical_twist * 100\n",
    "\n",
    "# Comparaison pour norme R\n",
    "relative_error_N = (max_rotation_norm - theta_theoretical) / theta_theoretical * 100"
   ]
  },
  {
   "cell_type": "code",
   "execution_count": null,
   "id": "edb606ce-12b0-43b2-aeb3-49f5875cd634",
   "metadata": {
    "editable": true,
    "slideshow": {
     "slide_type": ""
    },
    "tags": [
     "remove-input"
    ]
   },
   "outputs": [],
   "source": [
    "# Calcul du moment d'inertie polaire J pour une section circulaire\n",
    "J = pi * (R ** 4) / 2\n",
    "\n",
    "# Calcul de l'angle de torsion théorique\n",
    "theta_theoretical = C * h / (mu * J)\n",
    "\n",
    "# Affichage des résultats\n",
    "print(f\"Moment d'inertie polaire J : {J:.6e} m^4\")\n",
    "print(f\"Angle de torsion théorique θ : {theta_theoretical:.6f} radians\")\n",
    "print(f\"Angle de torsion théorique θ : {np.degrees(theta_theoretical):.2f} degrés\")\n",
    "\n",
    "# Comparaison avec la rotation maximale calculée numériquement\n",
    "if 'max_rotation_z' in locals():\n",
    "    relative_error = abs(max_rotation_z - theta_theoretical) / theta_theoretical * 100\n",
    "    print(f\"\\nComparaison avec la simulation numérique en RZ:\")\n",
    "    print(f\"Rotation Z maximale simulée : {max_rotation_z:.6f} radians\")\n",
    "    print(f\"Rotation Z maximale simulée : {np.degrees(max_rotation_z):.2f} degrés\")\n",
    "    print(f\"Erreur relative : {relative_error_Z:.2f}%\")\n",
    "    \n",
    "    print(f\"\\nComparaison avec la simulation numérique en norme:\")\n",
    "    print(f\"Norme de rotation maximale : {max_rotation_norm:.6f} radians\")\n",
    "    print(f\"Norme de rotation maximale : {np.degrees(max_rotation_norm):.2f} degrés\")\n",
    "    print(f\"Erreur relative : {relative_error_N:.2f}%\")\n",
    "else:\n",
    "    print(\"\\nAttention : La rotation maximale simulée n'a pas été calculée précédemment.\")\n",
    "\n",
    "# Analyse des autres composantes\n",
    "max_rotation_x = np.max(np.abs(rotation_x.x.array))\n",
    "max_rotation_y = np.max(np.abs(rotation_y.x.array))\n",
    "\n",
    "print(\"\\nValeurs maximales des composantes de rotation :\")\n",
    "print(f\"RX max : {np.degrees(max_rotation_x):.2f} degrés\")\n",
    "print(f\"RX max  : {max_rotation_x:.6f} radians\")\n",
    "print(f\"RY max : {np.degrees(max_rotation_y):.2f} degrés\")\n",
    "print(f\"RY max  : {max_rotation_y:.6f} radians\")"
   ]
  },
  {
   "cell_type": "code",
   "execution_count": null,
   "id": "d400b047-90cf-4cb9-be2c-9feae30ced41",
   "metadata": {
    "editable": true,
    "slideshow": {
     "slide_type": ""
    },
    "tags": [
     "remove-cell"
    ]
   },
   "outputs": [],
   "source": [
    "# Extraction des valeurs maximales de rotation pour chaque composante\n",
    "max_rotation_x = np.max(np.abs(rotation_x.x.array))\n",
    "max_rotation_y = np.max(np.abs(rotation_y.x.array))\n",
    "max_rotation_z = np.max(np.abs(rotation_z.x.array))\n",
    "\n",
    "# Affichage des résultats\n",
    "print(\"Valeurs maximales des composantes de rotation :\")\n",
    "print(f\"RX max : {max_rotation_x:.6f} radians ({np.degrees(max_rotation_x):.2f} degrés)\")\n",
    "print(f\"RY max : {max_rotation_y:.6f} radians ({np.degrees(max_rotation_y):.2f} degrés)\")\n",
    "print(f\"RZ max : {max_rotation_z:.6f} radians ({np.degrees(max_rotation_z):.2f} degrés)\")\n",
    "\n",
    "# Calcul et affichage de la norme de rotation maximale\n",
    "max_rotation_norm = np.sqrt(max_rotation_x**2 + max_rotation_y**2 + max_rotation_z**2)\n",
    "print(f\"\\nNorme de rotation maximale : {max_rotation_norm:.6f} radians ({np.degrees(max_rotation_norm):.2f} degrés)\")\n",
    "\n",
    "# Comparaison avec l'angle de torsion théorique (si disponible)\n",
    "if 'theta_theoretical' in locals():\n",
    "    print(f\"\\nAngle de torsion théorique : {theta_theoretical:.6f} radians ({np.degrees(theta_theoretical):.2f} degrés)\")\n",
    "    \n",
    "    # Calcul de l'erreur relative\n",
    "    relative_error = (max_rotation_z - theta_theoretical) / theta_theoretical * 100\n",
    "    print(f\"Erreur relative (RZ max vs théorie) : {relative_error:.2f}%\")\n",
    "\n",
    "# Analyse de la contribution de chaque composante\n",
    "total_rotation = max_rotation_x + max_rotation_y + max_rotation_z\n",
    "print(\"\\nContribution relative de chaque composante à la rotation totale :\")\n",
    "print(f\"RX : {max_rotation_x / total_rotation * 100:.2f}%\")\n",
    "print(f\"RY : {max_rotation_y / total_rotation * 100:.2f}%\")\n",
    "print(f\"RZ : {max_rotation_z / total_rotation * 100:.2f}%\")\n"
   ]
  },
  {
   "cell_type": "code",
   "execution_count": null,
   "id": "9a727588-a7dd-42ef-81f9-98f6e59f5901",
   "metadata": {
    "editable": true,
    "slideshow": {
     "slide_type": ""
    },
    "tags": [
     "remove-cell"
    ]
   },
   "outputs": [],
   "source": [
    "import numpy as np\n",
    "\n",
    "# Valeur analytique de la rotation maximale (ici, 20 radians)\n",
    "theta_analytique = 20.0\n",
    "\n",
    "# Valeur numérique récupérée\n",
    "theta_numerique = max_rotation_z\n",
    "\n",
    "# Calcul de l'erreur absolue\n",
    "erreur_absolue = np.abs(theta_analytique - theta_numerique)\n",
    "\n",
    "# Calcul de l'erreur relative\n",
    "erreur_relative = erreur_absolue / np.abs(theta_analytique) * 100\n",
    "\n",
    "# Affichage des résultats\n",
    "print(f\"Rotation analytique maximale : {theta_analytique} radians\")\n",
    "print(f\"Rotation numérique maximale : {theta_numerique} radians\")\n",
    "print(f\"Erreur absolue : {erreur_absolue} radians\")\n",
    "print(f\"Erreur relative : {erreur_relative} %\")\n"
   ]
  },
  {
   "cell_type": "code",
   "execution_count": null,
   "id": "7b8f35c0-8890-428c-a716-0b8f5379ac84",
   "metadata": {
    "editable": true,
    "slideshow": {
     "slide_type": ""
    },
    "tags": [
     "remove-cell"
    ]
   },
   "outputs": [],
   "source": [
    " #<details> <summary>Cliquez pour voir le code d'importation</summary> "
   ]
  }
 ],
 "metadata": {
  "canvas": {
   "colorPalette": [
    "inherit",
    "inherit",
    "inherit",
    "inherit",
    "inherit",
    "inherit",
    "inherit",
    "inherit",
    "inherit",
    "inherit"
   ],
   "parameters": []
  },
  "kernelspec": {
   "display_name": "fenicsx-env",
   "language": "python",
   "name": "fenicsx-env"
  },
  "language_info": {
   "codemirror_mode": {
    "name": "ipython",
    "version": 3
   },
   "file_extension": ".py",
   "mimetype": "text/x-python",
   "name": "python",
   "nbconvert_exporter": "python",
   "pygments_lexer": "ipython3",
   "version": "3.12.4"
  }
 },
 "nbformat": 4,
 "nbformat_minor": 5
}
