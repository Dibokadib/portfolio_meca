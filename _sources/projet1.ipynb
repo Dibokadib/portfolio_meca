{
 "cells": [
  {
   "cell_type": "markdown",
   "id": "12664704-2683-4a30-abbc-d78efe97a5b0",
   "metadata": {},
   "source": [
    "# projet 1"
   ]
  },
  {
   "cell_type": "code",
   "execution_count": 1,
   "id": "3cfcc946-04c9-4d79-a1b4-e2813f198c92",
   "metadata": {
    "scrolled": true
   },
   "outputs": [],
   "source": [
    "import pyvista as pv\n",
    "import dolfinx\n",
    "from dolfinx import mesh, fem, plot, io, default_scalar_type\n",
    "from dolfinx.fem.petsc import LinearProblem\n",
    "from mpi4py import MPI\n",
    "import ufl\n",
    "import numpy as np\n",
    "import gmsh\n",
    "import meshio\n",
    "from dolfinx.io import XDMFFile\n",
    "\n",
    "import dolfinx.fem as fem\n",
    "import dolfinx.mesh as mesh\n",
    "from petsc4py import PETSc"
   ]
  },
  {
   "cell_type": "code",
   "execution_count": 2,
   "id": "19824cf1-582d-48d2-85dc-f7c8d0961b08",
   "metadata": {},
   "outputs": [],
   "source": [
    "# Initialisation de GMSH\n",
    "gmsh.initialize()\n",
    "gmsh.option.setNumber(\"General.Terminal\", 0)\n",
    "gmsh.model.add(\"cylindre\")\n",
    "\n",
    "lc = 0.1    # Longueur caractéristique des éléments en mètres\n",
    "\n",
    "# Créer un cylindre\n",
    "#gmsh.model.occ.addCylinder(0, 0, 0, 0, 0, height, radius)\n",
    "\n",
    "#gmsh.model.occ.addCylinder(0, 0, 0, 0, 0, height, radius)\n",
    "# Exemple avec les dimensions spécifiques\n",
    "a = 0  # Coordonnée x du coin inférieur gauche\n",
    "b = 0  # Coordonnée y du coin inférieur gauche\n",
    "L = 1 # Longueur dans la direction z\n",
    "width = 0.2  # Largeur dans la direction x\n",
    "height = 0.2  # Hauteur dans la direction y\n",
    "\n",
    "gmsh.model.occ.addBox(a, b, 0, width, height, L)\n",
    "\n",
    "# Synchronisation de la géométrie\n",
    "gmsh.model.occ.synchronize()\n",
    "\n",
    "# Définir les tailles des éléments\n",
    "gmsh.option.setNumber(\"Mesh.CharacteristicLengthMin\", lc)\n",
    "gmsh.option.setNumber(\"Mesh.CharacteristicLengthMax\", lc)\n",
    "\n",
    "# Générer le maillage\n",
    "gmsh.model.mesh.generate(3)  # 3 pour le maillage en 3D\n",
    "\n",
    "# Sauvegarder le maillage dans un fichier .msh\n",
    "gmsh.write(\"cylindre.msh\")\n",
    "\n",
    "# Finaliser GMSH\n",
    "gmsh.finalize()"
   ]
  },
  {
   "cell_type": "code",
   "execution_count": 3,
   "id": "c0741651-7127-4211-80c0-26bdfba6fa7d",
   "metadata": {
    "scrolled": true
   },
   "outputs": [
    {
     "name": "stdout",
     "output_type": "stream",
     "text": [
      "\n"
     ]
    }
   ],
   "source": [
    "# Lire le fichier .msh avec meshio\n",
    "msh = meshio.read(\"cylindre.msh\")\n",
    "\n",
    "# Sauvegarder le maillage en format XDMF\n",
    "meshio.write(\"cylindre.xdmf\", meshio.Mesh(points=msh.points, cells={\"tetra\": msh.cells_dict.get(\"tetra\", [])}))\n",
    "\n",
    "# Lire le fichier .xdmf avec Dolfinx\n",
    "with XDMFFile(MPI.COMM_WORLD, \"cylindre.xdmf\", \"r\") as xdmf_file:\n",
    "    domain = xdmf_file.read_mesh(name=\"Grid\")\n",
    "    domain.topology.create_connectivity(domain.topology.dim-1, domain.topology.dim)\n",
    "\n",
    "# Afficher des informations sur le maillage\n",
    "#print(\"Maillage créé avec succès.\")\n",
    "#print(f\"Nombre de sommets : {domain.topology.index_map(domain.topology.dim).size_global}\")\n",
    "#print(f\"Nombre d'éléments : {domain.topology.index_map(domain.topology.dim-1).size_global}\")"
   ]
  },
  {
   "cell_type": "code",
   "execution_count": 4,
   "id": "3f42c74e-12b5-4ae1-8810-6b6dc590072f",
   "metadata": {},
   "outputs": [
    {
     "data": {
      "application/vnd.jupyter.widget-view+json": {
       "model_id": "7b7b7e3f5cd64b25ade7856fc192944f",
       "version_major": 2,
       "version_minor": 0
      },
      "text/plain": [
       "Widget(value='<iframe src=\"http://localhost:58920/index.html?ui=P_0x15626cce0_0&reconnect=auto\" class=\"pyvista…"
      ]
     },
     "metadata": {},
     "output_type": "display_data"
    }
   ],
   "source": [
    "# Création du maillage pour PyVista basé sur les coordonnées des dofs\n",
    "u_topology, u_cell_types, u_geometry = plot.vtk_mesh(domain)\n",
    "\n",
    "# Créez la grille PyVista et ajoutez les valeurs des dofs à la grille\n",
    "u_grid = pv.UnstructuredGrid(u_topology, u_cell_types, u_geometry)\n",
    "\n",
    "# Visualisation\n",
    "p = pv.Plotter()\n",
    "\n",
    "#u_grid.point_data[\"u\"] = uh.x.array.reshape((u_geometry.shape[0], 2))\n",
    "#warped = u_grid.warp_by_scalar(\"u\", factor=10)\n",
    "p.add_mesh(u_grid, show_edges=True, scalar_bar_args={\n",
    "    \"title\": \"u\",\n",
    "    \"title_font_size\": 24,\n",
    "    \"label_font_size\": 22,\n",
    "    \"shadow\": True,\n",
    "    \"italic\": True,\n",
    "    \"font_family\": \"arial\",\n",
    "    \"vertical\": False\n",
    "})\n",
    "p.add_text(\"Poutre\", font_size=12, color=\"black\", position=\"upper_edge\")\n",
    "p.show_bounds(color=\"black\")\n",
    "p.add_axes(color=\"black\")\n",
    "p.set_background(\"grey\")\n",
    "p.show()\n",
    "p.view_yz()"
   ]
  },
  {
   "cell_type": "code",
   "execution_count": null,
   "id": "49237935-01ea-434c-8192-f96f369f80c2",
   "metadata": {},
   "outputs": [],
   "source": [
    "from myst_nb import glue\n",
    "my_variable = \"here is some text!\"\n",
    "glue(\"cool_text\", my_variable)"
   ]
  },
  {
   "cell_type": "code",
   "execution_count": null,
   "id": "e73e12f9-0774-4c07-bb2e-e12aa186551e",
   "metadata": {},
   "outputs": [],
   "source": [
    "import panel as pn\n",
    "pn.extension('vtk')"
   ]
  },
  {
   "cell_type": "markdown",
   "id": "704fe5a1-95ba-40bb-9124-083d72a2b06c",
   "metadata": {},
   "source": [
    "The glue tool from MyST-NB allows you to add a key to variables in a notebook, then display those variables in your book by referencing the key.\n",
    "\n",
    "It follows a two-step process:\n",
    "\n",
    "We’ll cover each step in more detail below.\n",
    "\n",
    "For more information about roles, see MyST Markdown overview.\n",
    "Gluing variables in your notebook\n",
    "You can use myst_nb.glue() to assign the value of a variable to a key of your choice. glue will store all of the information that is normally used to display that variable (i.e., whatever happens when you display the variable by putting it at the end of a code cell). Choose a key that you will remember, as you will use it later.\n",
    "{glue:}`img`"
   ]
  },
  {
   "cell_type": "code",
   "execution_count": null,
   "id": "41d1d9e6-7b09-4450-814b-01227d19aa4e",
   "metadata": {},
   "outputs": [],
   "source": []
  }
 ],
 "metadata": {
  "kernelspec": {
   "display_name": "Python 3 (ipykernel)",
   "language": "python",
   "name": "python3"
  },
  "language_info": {
   "codemirror_mode": {
    "name": "ipython",
    "version": 3
   },
   "file_extension": ".py",
   "mimetype": "text/x-python",
   "name": "python",
   "nbconvert_exporter": "python",
   "pygments_lexer": "ipython3",
   "version": "3.12.4"
  }
 },
 "nbformat": 4,
 "nbformat_minor": 5
}
