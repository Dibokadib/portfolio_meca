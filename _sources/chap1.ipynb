{
 "cells": [
  {
   "cell_type": "markdown",
   "id": "ac4e46c2-dde4-4ee8-9fa4-4347f07d55f7",
   "metadata": {
    "editable": true,
    "slideshow": {
     "slide_type": ""
    },
    "tags": []
   },
   "source": [
    "# Chapitre 1\n",
    "\n",
    "Bienvenue dans ce chapitre interactif utilisant ThebeLab !\n",
    "\n",
    "## Exemple de code interactif\n",
    "\n",
    "```{thebe-button}"
   ]
  },
  {
   "cell_type": "markdown",
   "id": "3caa6fd6-e7b9-4b5f-a7b1-e0dd8408a47c",
   "metadata": {
    "editable": true,
    "slideshow": {
     "slide_type": ""
    },
    "tags": []
   },
   "source": [
    "```{code-cell} ipython3\n",
    ":tags: [thebe-init]\n",
    "\n",
    "import matplotlib.pyplot as plt\n",
    "import numpy as np\n",
    "\n",
    "def plot_sine(frequency=1):\n",
    "    x = np.linspace(0, 10, 1000)\n",
    "    y = np.sin(frequency * x)\n",
    "    plt.figure(figsize=(8, 4))\n",
    "    plt.plot(x, y)\n",
    "    plt.title(f'Sine Wave with Frequency {frequency}')\n",
    "    plt.xlabel('x')\n",
    "    plt.ylabel('sin(x)')\n",
    "    plt.show()\n",
    "\n",
    "plot_sine()\n",
    "```"
   ]
  },
  {
   "cell_type": "code",
   "execution_count": null,
   "id": "85350769-a722-4de2-bb9b-92e94e99be68",
   "metadata": {
    "editable": true,
    "slideshow": {
     "slide_type": ""
    },
    "tags": []
   },
   "outputs": [],
   "source": []
  }
 ],
 "metadata": {
  "kernelspec": {
   "display_name": "Python 3 (ipykernel)",
   "language": "python",
   "name": "python3"
  },
  "language_info": {
   "codemirror_mode": {
    "name": "ipython",
    "version": 3
   },
   "file_extension": ".py",
   "mimetype": "text/x-python",
   "name": "python",
   "nbconvert_exporter": "python",
   "pygments_lexer": "ipython3",
   "version": "3.12.4"
  }
 },
 "nbformat": 4,
 "nbformat_minor": 5
}
