{
 "cells": [
  {
   "cell_type": "code",
   "execution_count": null,
   "id": "6598a298",
   "metadata": {},
   "outputs": [],
   "source": [
    "import numpy as np\n",
    "import matplotlib.pyplot as plt\n",
    "import matplotlib as mpl\n",
    "mpl.rcParams['figure.dpi'] = 300\n",
    "from myst_nb import glue\n",
    "\n",
    "u1 = np.linspace(0,5,100)\n",
    "u2 = np.linspace(0,5,100)\n",
    "\n",
    "fig,ax = plt.subplots(1,1)\n",
    "\n",
    "alpha = 1e-1\n",
    "\n",
    "ax.plot(u1,3-u1,'k',label=r'$Ku=f$')\n",
    "ax.plot(u1,3-(1+alpha)*u1,'r--',label=r'$\\widetilde{K}u=f$')\n",
    "ax.plot(u1,(6-2*u1)/(2+alpha),'r--')\n",
    "\n",
    "ax.set_xlabel(r'$u_1$')\n",
    "ax.set_ylabel(r'$u_2$')\n",
    "ax.set_xlim([0.5,1.5])\n",
    "ax.set_ylim([1.5,2.5])\n",
    "ax.set_aspect(1)\n",
    "ax.legend()\n",
    "plt.show()\n",
    "glue(\"matrix_inversion\", fig, display=False)"
   ]
  }
 ],
 "metadata": {
  "jupytext": {
   "text_representation": {
    "extension": ".md",
    "format_name": "myst",
    "format_version": "0.9",
    "jupytext_version": "1.5.2"
   }
  },
  "kernelspec": {
   "display_name": "Python 3",
   "language": "python",
   "name": "python3"
  },
  "source_map": [
   14
  ]
 },
 "nbformat": 4,
 "nbformat_minor": 5
}