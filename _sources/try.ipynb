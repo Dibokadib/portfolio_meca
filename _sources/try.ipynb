{
 "cells": [
  {
   "cell_type": "markdown",
   "id": "d65be4a0",
   "metadata": {},
   "source": [
    "# What is an inverse problem\n",
    "\n",
    "## Solving an inverse problem\n",
    "\n",
    "### Direct methods\n",
    "\n",
    "\n",
    "````{admonition} Example: *Inverting a rank-deficient matrix.*\n",
    "Consider the matrix \n",
    "\n",
    "$$\n",
    "K = \\left(\\begin{matrix} 1 & 1\\\\ 2 & 2 \\end{matrix}\\right).\n",
    "$$\n",
    "\n",
    "Obviously this matrix is singular, so there is no way to define the inverse in the usual sense. However, modifying the matrix slightly\n",
    "\n",
    "$$\n",
    "\\widetilde{K} = \\left(\\begin{matrix} 1 + \\alpha & 1\\\\ 2 & 2 + \\alpha\\end{matrix}\\right),\n",
    "$$\n",
    "\n",
    "allows us to compute the inverse. Indeed, given $f = K\\overline{u}$ with $\\overline{u} = (1,2)$ we have $f = (3,6)$. Applying the inverse of $\\widetilde{K}$ we get $\\widetilde{u} \\approx (1,2)$. The corresponding equations are visualized in {numref}`matrix_inversion`.\n",
    "\n",
    "```{glue:figure} matrix_inversion\n",
    ":figwidth: 300px\n",
    ":name: \"matrix_inversion\"\n",
    "\n",
    "Original and regularized equations. We see that the regularized equations have a unique solution, but this solution is slightly biased towards the origin.\n",
    "```\n",
    "\n",
    "````"
   ]
  },
  {
   "cell_type": "code",
   "execution_count": null,
   "id": "76ab868b",
   "metadata": {},
   "outputs": [],
   "source": [
    "import numpy as np\n",
    "import matplotlib.pyplot as plt\n",
    "import matplotlib as mpl\n",
    "mpl.rcParams['figure.dpi'] = 300\n",
    "from myst_nb import glue\n",
    "\n",
    "u1 = np.linspace(0,5,100)\n",
    "u2 = np.linspace(0,5,100)\n",
    "\n",
    "fig,ax = plt.subplots(1,1)\n",
    "\n",
    "alpha = 1e-1\n",
    "\n",
    "ax.plot(u1,3-u1,'k',label=r'$Ku=f$')\n",
    "ax.plot(u1,3-(1+alpha)*u1,'r--',label=r'$\\widetilde{K}u=f$')\n",
    "ax.plot(u1,(6-2*u1)/(2+alpha),'r--')\n",
    "\n",
    "ax.set_xlabel(r'$u_1$')\n",
    "ax.set_ylabel(r'$u_2$')\n",
    "ax.set_xlim([0.5,1.5])\n",
    "ax.set_ylim([1.5,2.5])\n",
    "ax.set_aspect(1)\n",
    "ax.legend()\n",
    "plt.show()\n",
    "glue(\"matrix_inversion\", fig, display=False)"
   ]
  }
 ],
 "metadata": {
  "jupytext": {
   "text_representation": {
    "extension": ".md",
    "format_name": "myst",
    "format_version": "0.9",
    "jupytext_version": "1.5.2"
   }
  },
  "kernelspec": {
   "display_name": "Python 3",
   "language": "python",
   "name": "python3"
  },
  "source_map": [
   12,
   44
  ]
 },
 "nbformat": 4,
 "nbformat_minor": 5
}