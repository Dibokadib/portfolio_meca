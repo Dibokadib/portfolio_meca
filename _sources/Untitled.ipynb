{
 "cells": [
  {
   "cell_type": "markdown",
   "id": "efb461c7-32ef-4b9f-8a37-d393a9f2a051",
   "metadata": {},
   "source": [
    "# Untittled"
   ]
  },
  {
   "cell_type": "markdown",
   "id": "e0f7ff3b-f5ee-4e78-b435-9546e254075c",
   "metadata": {},
   "source": [
    "Bonjour"
   ]
  },
  {
   "cell_type": "code",
   "execution_count": null,
   "id": "a0fb4e24-8796-4dbb-8601-94d38b3c998c",
   "metadata": {},
   "outputs": [],
   "source": [
    "import pyvista as pv\n",
    "import panel as pn\n",
    "from myst_nb import glue\n",
    "pn.extension('vtk')\n",
    "\n",
    "# Créer le plotter PyVista\n",
    "plotter = pv.Plotter()\n",
    "plotter.add_mesh(pv.Plane(i_size=1.0, j_size=1.0), color=\"blue\")\n",
    "\n",
    "# Utiliser Panel pour créer un rendu interactif\n",
    "interactive_panel = pn.pane.VTK(plotter.ren_win, width=400, height=400)"
   ]
  }
 ],
 "metadata": {
  "kernelspec": {
   "display_name": "Python (fenicsx-env)",
   "language": "python",
   "name": "fenicsx-env"
  },
  "language_info": {
   "codemirror_mode": {
    "name": "ipython",
    "version": 3
   },
   "file_extension": ".py",
   "mimetype": "text/x-python",
   "name": "python",
   "nbconvert_exporter": "python",
   "pygments_lexer": "ipython3",
   "version": "3.12.4"
  }
 },
 "nbformat": 4,
 "nbformat_minor": 5
}
