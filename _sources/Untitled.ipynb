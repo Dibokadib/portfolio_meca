{
 "cells": [
  {
   "cell_type": "markdown",
   "id": "efb461c7-32ef-4b9f-8a37-d393a9f2a051",
   "metadata": {},
   "source": [
    "# Untittled"
   ]
  },
  {
   "cell_type": "markdown",
   "id": "e0f7ff3b-f5ee-4e78-b435-9546e254075c",
   "metadata": {},
   "source": [
    "Bonjour"
   ]
  },
  {
   "cell_type": "code",
   "execution_count": 6,
   "id": "a0fb4e24-8796-4dbb-8601-94d38b3c998c",
   "metadata": {},
   "outputs": [],
   "source": [
    "import pyvista as pv\n",
    "# Créer le plotter PyVista\n",
    "plotter = pv.Plotter()\n",
    "plotter.add_mesh(pv.Plane(i_size=1.0, j_size=1.0), color=\"blue\", show_edges=True)\n",
    "mesh_info_offset = 0\n",
    "#plotter.show()"
   ]
  },
  {
   "cell_type": "code",
   "execution_count": 13,
   "id": "4f2344a4-613a-4638-b91e-4570633824d3",
   "metadata": {},
   "outputs": [],
   "source": [
    "%%capture\n",
    "import panel as pn;\n",
    "from myst_nb import glue;\n",
    "pn.extension('vtk');"
   ]
  },
  {
   "cell_type": "code",
   "execution_count": 14,
   "id": "e50068a4-6a14-4972-a99a-ebccbc6ddeee",
   "metadata": {},
   "outputs": [],
   "source": [
    "# Utiliser Panel pour créer un rendu interactif\n",
    "interactive_panel = pn.pane.VTK(plotter.ren_win, width=400, height=400)"
   ]
  },
  {
   "cell_type": "code",
   "execution_count": 16,
   "id": "e1d6d7d5-887e-4653-986d-25faf6e186c0",
   "metadata": {},
   "outputs": [],
   "source": [
    "%%capture\n",
    "from myst_nb import glue\n",
    "glue(\"img\", interactive_panel, display=False)"
   ]
  },
  {
   "cell_type": "markdown",
   "id": "cb9a9a02-95e6-473b-b451-88f0048ffa47",
   "metadata": {},
   "source": [
    "Lorem ipsum dolor sit amet, consectetur adipiscing elit. Sed non risus. Suspendisse lectus tortor, dignissim sit amet, adipiscing nec, ultricies sed, dolor. Cras elementum ultrices diam. Maecenas ligula massa, varius a, semper congue, euismod non, mi. Proin porttitor, orci nec nonummy molestie, enim est eleifend mi, non fermentum diam nisl sit amet erat. Duis semper. Duis arcu massa, scelerisque vitae, consequat in, pretium a, enim. Pellentesque congue. Ut in risus volutpat libero pharetra tempor. Cras vestibulum bibendum augue. Praesent egestas leo in pede. Praesent blandit odio eu enim. Pellentesque sed dui ut augue blandit sodales. Vestibulum ante ipsum primis in faucibus orci luctus et ultrices posuere cubilia Curae; Aliquam nibh. Mauris ac mauris sed pede pellentesque fermentum. Maecenas adipiscing ante non diam sodales hendrerit. : {glue:figure} img\n"
   ]
  },
  {
   "cell_type": "markdown",
   "id": "f3554460-e7ee-43e0-8e12-fd21f9463a55",
   "metadata": {},
   "source": [
    "test"
   ]
  },
  {
   "cell_type": "code",
   "execution_count": null,
   "id": "72630b6f-c83e-4461-b13c-8daf40adffb9",
   "metadata": {},
   "outputs": [],
   "source": []
  }
 ],
 "metadata": {
  "kernelspec": {
   "display_name": "Python (fenicsx-env)",
   "language": "python",
   "name": "fenicsx-env"
  },
  "language_info": {
   "codemirror_mode": {
    "name": "ipython",
    "version": 3
   },
   "file_extension": ".py",
   "mimetype": "text/x-python",
   "name": "python",
   "nbconvert_exporter": "python",
   "pygments_lexer": "ipython3",
   "version": "3.12.4"
  }
 },
 "nbformat": 4,
 "nbformat_minor": 5
}
