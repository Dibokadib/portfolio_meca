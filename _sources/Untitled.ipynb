{
 "cells": [
  {
   "cell_type": "markdown",
   "id": "efb461c7-32ef-4b9f-8a37-d393a9f2a051",
   "metadata": {},
   "source": [
    "# Untittled"
   ]
  },
  {
   "cell_type": "markdown",
   "id": "e0f7ff3b-f5ee-4e78-b435-9546e254075c",
   "metadata": {},
   "source": [
    "Bonjour"
   ]
  }
 ],
 "metadata": {
  "kernelspec": {
   "display_name": "Python (fenicsx-env)",
   "language": "python",
   "name": "fenicsx-env"
  },
  "language_info": {
   "codemirror_mode": {
    "name": "ipython",
    "version": 3
   },
   "file_extension": ".py",
   "mimetype": "text/x-python",
   "name": "python",
   "nbconvert_exporter": "python",
   "pygments_lexer": "ipython3",
   "version": "3.12.4"
  }
 },
 "nbformat": 4,
 "nbformat_minor": 5
}
