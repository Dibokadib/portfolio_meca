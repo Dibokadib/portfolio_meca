{
 "cells": [
  {
   "cell_type": "markdown",
   "id": "efb461c7-32ef-4b9f-8a37-d393a9f2a051",
   "metadata": {
    "editable": true,
    "slideshow": {
     "slide_type": ""
    },
    "tags": []
   },
   "source": [
    "# Untittled"
   ]
  },
  {
   "cell_type": "markdown",
   "id": "e0f7ff3b-f5ee-4e78-b435-9546e254075c",
   "metadata": {
    "editable": true,
    "slideshow": {
     "slide_type": ""
    },
    "tags": []
   },
   "source": [
    "Bonjour"
   ]
  },
  {
   "cell_type": "code",
   "execution_count": 1,
   "id": "a0fb4e24-8796-4dbb-8601-94d38b3c998c",
   "metadata": {
    "editable": true,
    "slideshow": {
     "slide_type": ""
    },
    "tags": [
     "remove-cell"
    ]
   },
   "outputs": [
    {
     "data": {
      "application/vnd.jupyter.widget-view+json": {
       "model_id": "b30323f5011e4347b0b430034a6a33ee",
       "version_major": 2,
       "version_minor": 0
      },
      "text/plain": [
       "Widget(value='<iframe src=\"http://localhost:50246/index.html?ui=P_0x107c24230_0&reconnect=auto\" class=\"pyvista…"
      ]
     },
     "metadata": {},
     "output_type": "display_data"
    }
   ],
   "source": [
    "import pyvista as pv\n",
    "# Créer le plotter PyVista\n",
    "plotter = pv.Plotter()\n",
    "plotter.add_mesh(pv.Plane(i_size=1.0, j_size=1.0), color=\"blue\", show_edges=True)\n",
    "mesh_info_offset = 0\n",
    "plotter.show()"
   ]
  },
  {
   "cell_type": "code",
   "execution_count": 2,
   "id": "4f2344a4-613a-4638-b91e-4570633824d3",
   "metadata": {
    "editable": true,
    "slideshow": {
     "slide_type": ""
    },
    "tags": [
     "remove-cell"
    ]
   },
   "outputs": [],
   "source": [
    "import panel as pn;\n",
    "from myst_nb import glue;\n",
    "pn.extension('vtk');"
   ]
  },
  {
   "cell_type": "code",
   "execution_count": 3,
   "id": "e50068a4-6a14-4972-a99a-ebccbc6ddeee",
   "metadata": {
    "editable": true,
    "slideshow": {
     "slide_type": ""
    },
    "tags": [
     "remove-cell"
    ]
   },
   "outputs": [],
   "source": [
    "# Utiliser Panel pour créer un rendu interactif\n",
    "interactive_panel = pn.pane.VTK(plotter.ren_win, width=400, height=400)"
   ]
  },
  {
   "cell_type": "code",
   "execution_count": 4,
   "id": "e1d6d7d5-887e-4653-986d-25faf6e186c0",
   "metadata": {
    "editable": true,
    "slideshow": {
     "slide_type": ""
    },
    "tags": [
     "remove-cell"
    ]
   },
   "outputs": [
    {
     "data": {},
     "metadata": {},
     "output_type": "display_data"
    },
    {
     "data": {
      "application/vnd.holoviews_exec.v0+json": "",
      "text/html": [
       "<div id='dae0b2b2-6f48-4727-9ce6-66a89c028ac5'>\n",
       "  <div id=\"ad12643a-1946-45f7-9703-5fd855e71b8f\" data-root-id=\"dae0b2b2-6f48-4727-9ce6-66a89c028ac5\" style=\"display: contents;\"></div>\n",
       "</div>\n",
       "<script type=\"application/javascript\">(function(root) {\n",
       "  var docs_json = {\"ee4b4ae1-b5ee-4980-a584-09f845289383\":{\"version\":\"3.6.0\",\"title\":\"Bokeh Application\",\"roots\":[{\"type\":\"object\",\"name\":\"panel.models.vtk.VTKSynchronizedPlot\",\"id\":\"dae0b2b2-6f48-4727-9ce6-66a89c028ac5\",\"attributes\":{\"stylesheets\":[\"\\n:host(.pn-loading):before, .pn-loading:before {\\n  background-color: #c3c3c3;\\n  mask-size: auto calc(min(50%, 400px));\\n  -webkit-mask-size: auto calc(min(50%, 400px));\\n}\",{\"type\":\"object\",\"name\":\"ImportedStyleSheet\",\"id\":\"dec886ce-5b8f-4946-ace5-53a2f3b7696d\",\"attributes\":{\"url\":\"https://cdn.holoviz.org/panel/1.5.3/dist/css/loading.css\"}},{\"type\":\"object\",\"name\":\"ImportedStyleSheet\",\"id\":\"9fb4b073-d3f5-4c54-9c5d-3f905533e4d6\",\"attributes\":{\"url\":\"https://cdn.holoviz.org/panel/1.5.3/dist/bundled/theme/default.css\"}},{\"type\":\"object\",\"name\":\"ImportedStyleSheet\",\"id\":\"5e123750-50a1-43e0-ae64-cfccf88a8ebd\",\"attributes\":{\"url\":\"https://cdn.holoviz.org/panel/1.5.3/dist/bundled/theme/native.css\"}}],\"width\":400,\"height\":400,\"margin\":[5,10],\"sizing_mode\":\"fixed\",\"align\":\"start\",\"axes\":{\"type\":\"object\",\"name\":\"panel.models.vtk.VTKAxes\",\"id\":\"eb33837f-2b16-42d7-9288-e10bd25741ae\"},\"arrays\":{\"type\":\"map\",\"entries\":[[\"c70194274d321fbf232bc9de5f60de8f\",{\"type\":\"bytes\",\"data\":\"AAAAvwAAAL8AAAAAzczMvgAAAL8AAAAAmpmZvgAAAL8AAAAAzcxMvgAAAL8AAAAAzczMvQAAAL8AAAAAAAAAAAAAAL8AAAAAzczMPQAAAL8AAAAAzcxMPgAAAL8AAAAAmpmZPgAAAL8AAAAAzczMPgAAAL8AAAAAAAAAPwAAAL8AAAAAAAAAv83MzL4AAAAAzczMvs3MzL4AAAAAmpmZvs3MzL4AAAAAzcxMvs3MzL4AAAAAzczMvc3MzL4AAAAAAAAAAM3MzL4AAAAAzczMPc3MzL4AAAAAzcxMPs3MzL4AAAAAmpmZPs3MzL4AAAAAzczMPs3MzL4AAAAAAAAAP83MzL4AAAAAAAAAv5qZmb4AAAAAzczMvpqZmb4AAAAAmpmZvpqZmb4AAAAAzcxMvpqZmb4AAAAAzczMvZqZmb4AAAAAAAAAAJqZmb4AAAAAzczMPZqZmb4AAAAAzcxMPpqZmb4AAAAAmpmZPpqZmb4AAAAAzczMPpqZmb4AAAAAAAAAP5qZmb4AAAAAAAAAv83MTL4AAAAAzczMvs3MTL4AAAAAmpmZvs3MTL4AAAAAzcxMvs3MTL4AAAAAzczMvc3MTL4AAAAAAAAAAM3MTL4AAAAAzczMPc3MTL4AAAAAzcxMPs3MTL4AAAAAmpmZPs3MTL4AAAAAzczMPs3MTL4AAAAAAAAAP83MTL4AAAAAAAAAv83MzL0AAAAAzczMvs3MzL0AAAAAmpmZvs3MzL0AAAAAzcxMvs3MzL0AAAAAzczMvc3MzL0AAAAAAAAAAM3MzL0AAAAAzczMPc3MzL0AAAAAzcxMPs3MzL0AAAAAmpmZPs3MzL0AAAAAzczMPs3MzL0AAAAAAAAAP83MzL0AAAAAAAAAvwAAAAAAAAAAzczMvgAAAAAAAAAAmpmZvgAAAAAAAAAAzcxMvgAAAAAAAAAAzczMvQAAAAAAAAAAAAAAAAAAAAAAAAAAzczMPQAAAAAAAAAAzcxMPgAAAAAAAAAAmpmZPgAAAAAAAAAAzczMPgAAAAAAAAAAAAAAPwAAAAAAAAAAAAAAv83MzD0AAAAAzczMvs3MzD0AAAAAmpmZvs3MzD0AAAAAzcxMvs3MzD0AAAAAzczMvc3MzD0AAAAAAAAAAM3MzD0AAAAAzczMPc3MzD0AAAAAzcxMPs3MzD0AAAAAmpmZPs3MzD0AAAAAzczMPs3MzD0AAAAAAAAAP83MzD0AAAAAAAAAv83MTD4AAAAAzczMvs3MTD4AAAAAmpmZvs3MTD4AAAAAzcxMvs3MTD4AAAAAzczMvc3MTD4AAAAAAAAAAM3MTD4AAAAAzczMPc3MTD4AAAAAzcxMPs3MTD4AAAAAmpmZPs3MTD4AAAAAzczMPs3MTD4AAAAAAAAAP83MTD4AAAAAAAAAv5qZmT4AAAAAzczMvpqZmT4AAAAAmpmZvpqZmT4AAAAAzcxMvpqZmT4AAAAAzczMvZqZmT4AAAAAAAAAAJqZmT4AAAAAzczMPZqZmT4AAAAAzcxMPpqZmT4AAAAAmpmZPpqZmT4AAAAAzczMPpqZmT4AAAAAAAAAP5qZmT4AAAAAAAAAv83MzD4AAAAAzczMvs3MzD4AAAAAmpmZvs3MzD4AAAAAzcxMvs3MzD4AAAAAzczMvc3MzD4AAAAAAAAAAM3MzD4AAAAAzczMPc3MzD4AAAAAzcxMPs3MzD4AAAAAmpmZPs3MzD4AAAAAzczMPs3MzD4AAAAAAAAAP83MzD4AAAAAAAAAvwAAAD8AAAAAzczMvgAAAD8AAAAAmpmZvgAAAD8AAAAAzcxMvgAAAD8AAAAAzczMvQAAAD8AAAAAAAAAAAAAAD8AAAAAzczMPQAAAD8AAAAAzcxMPgAAAD8AAAAAmpmZPgAAAD8AAAAAzczMPgAAAD8AAAAAAAAAPwAAAD8AAAAA\"}],[\"06e8100113814db8aa5e5bb4fb9ea196\",{\"type\":\"bytes\",\"data\":\"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\"}],[\"9ff76cfc4faffd39a953da3605de207e\",{\"type\":\"bytes\",\"data\":\"AAAAAAAAAAAAAIA/AAAAAAAAAAAAAIA/AAAAAAAAAAAAAIA/AAAAAAAAAAAAAIA/AAAAAAAAAAAAAIA/AAAAAAAAAAAAAIA/AAAAAAAAAAAAAIA/AAAAAAAAAAAAAIA/AAAAAAAAAAAAAIA/AAAAAAAAAAAAAIA/AAAAAAAAAAAAAIA/AAAAAAAAAAAAAIA/AAAAAAAAAAAAAIA/AAAAAAAAAAAAAIA/AAAAAAAAAAAAAIA/AAAAAAAAAAAAAIA/AAAAAAAAAAAAAIA/AAAAAAAAAAAAAIA/AAAAAAAAAAAAAIA/AAAAAAAAAAAAAIA/AAAAAAAAAAAAAIA/AAAAAAAAAAAAAIA/AAAAAAAAAAAAAIA/AAAAAAAAAAAAAIA/AAAAAAAAAAAAAIA/AAAAAAAAAAAAAIA/AAAAAAAAAAAAAIA/AAAAAAAAAAAAAIA/AAAAAAAAAAAAAIA/AAAAAAAAAAAAAIA/AAAAAAAAAAAAAIA/AAAAAAAAAAAAAIA/AAAAAAAAAAAAAIA/AAAAAAAAAAAAAIA/AAAAAAAAAAAAAIA/AAAAAAAAAAAAAIA/AAAAAAAAAAAAAIA/AAAAAAAAAAAAAIA/AAAAAAAAAAAAAIA/AAAAAAAAAAAAAIA/AAAAAAAAAAAAAIA/AAAAAAAAAAAAAIA/AAAAAAAAAAAAAIA/AAAAAAAAAAAAAIA/AAAAAAAAAAAAAIA/AAAAAAAAAAAAAIA/AAAAAAAAAAAAAIA/AAAAAAAAAAAAAIA/AAAAAAAAAAAAAIA/AAAAAAAAAAAAAIA/AAAAAAAAAAAAAIA/AAAAAAAAAAAAAIA/AAAAAAAAAAAAAIA/AAAAAAAAAAAAAIA/AAAAAAAAAAAAAIA/AAAAAAAAAAAAAIA/AAAAAAAAAAAAAIA/AAAAAAAAAAAAAIA/AAAAAAAAAAAAAIA/AAAAAAAAAAAAAIA/AAAAAAAAAAAAAIA/AAAAAAAAAAAAAIA/AAAAAAAAAAAAAIA/AAAAAAAAAAAAAIA/AAAAAAAAAAAAAIA/AAAAAAAAAAAAAIA/AAAAAAAAAAAAAIA/AAAAAAAAAAAAAIA/AAAAAAAAAAAAAIA/AAAAAAAAAAAAAIA/AAAAAAAAAAAAAIA/AAAAAAAAAAAAAIA/AAAAAAAAAAAAAIA/AAAAAAAAAAAAAIA/AAAAAAAAAAAAAIA/AAAAAAAAAAAAAIA/AAAAAAAAAAAAAIA/AAAAAAAAAAAAAIA/AAAAAAAAAAAAAIA/AAAAAAAAAAAAAIA/AAAAAAAAAAAAAIA/AAAAAAAAAAAAAIA/AAAAAAAAAAAAAIA/AAAAAAAAAAAAAIA/AAAAAAAAAAAAAIA/AAAAAAAAAAAAAIA/AAAAAAAAAAAAAIA/AAAAAAAAAAAAAIA/AAAAAAAAAAAAAIA/AAAAAAAAAAAAAIA/AAAAAAAAAAAAAIA/AAAAAAAAAAAAAIA/AAAAAAAAAAAAAIA/AAAAAAAAAAAAAIA/AAAAAAAAAAAAAIA/AAAAAAAAAAAAAIA/AAAAAAAAAAAAAIA/AAAAAAAAAAAAAIA/AAAAAAAAAAAAAIA/AAAAAAAAAAAAAIA/AAAAAAAAAAAAAIA/AAAAAAAAAAAAAIA/AAAAAAAAAAAAAIA/AAAAAAAAAAAAAIA/AAAAAAAAAAAAAIA/AAAAAAAAAAAAAIA/AAAAAAAAAAAAAIA/AAAAAAAAAAAAAIA/AAAAAAAAAAAAAIA/AAAAAAAAAAAAAIA/AAAAAAAAAAAAAIA/AAAAAAAAAAAAAIA/AAAAAAAAAAAAAIA/AAAAAAAAAAAAAIA/AAAAAAAAAAAAAIA/AAAAAAAAAAAAAIA/AAAAAAAAAAAAAIA/AAAAAAAAAAAAAIA/AAAAAAAAAAAAAIA/AAAAAAAAAAAAAIA/AAAAAAAAAAAAAIA/\"}],[\"e4f0fd6e7c3ba82b10c4d4595fb118dd\",{\"type\":\"bytes\",\"data\":\"AAAAAAAAAADNzMw9AAAAAM3MTD4AAAAAmpmZPgAAAADNzMw+AAAAAAAAAD8AAAAAmpkZPwAAAAAzMzM/AAAAAM3MTD8AAAAAZmZmPwAAAAAAAIA/AAAAAAAAAADNzMw9zczMPc3MzD3NzEw+zczMPZqZmT7NzMw9zczMPs3MzD0AAAA/zczMPZqZGT/NzMw9MzMzP83MzD3NzEw/zczMPWZmZj/NzMw9AACAP83MzD0AAAAAzcxMPs3MzD3NzEw+zcxMPs3MTD6amZk+zcxMPs3MzD7NzEw+AAAAP83MTD6amRk/zcxMPjMzMz/NzEw+zcxMP83MTD5mZmY/zcxMPgAAgD/NzEw+AAAAAJqZmT7NzMw9mpmZPs3MTD6amZk+mpmZPpqZmT7NzMw+mpmZPgAAAD+amZk+mpkZP5qZmT4zMzM/mpmZPs3MTD+amZk+ZmZmP5qZmT4AAIA/mpmZPgAAAADNzMw+zczMPc3MzD7NzEw+zczMPpqZmT7NzMw+zczMPs3MzD4AAAA/zczMPpqZGT/NzMw+MzMzP83MzD7NzEw/zczMPmZmZj/NzMw+AACAP83MzD4AAAAAAAAAP83MzD0AAAA/zcxMPgAAAD+amZk+AAAAP83MzD4AAAA/AAAAPwAAAD+amRk/AAAAPzMzMz8AAAA/zcxMPwAAAD9mZmY/AAAAPwAAgD8AAAA/AAAAAJqZGT/NzMw9mpkZP83MTD6amRk/mpmZPpqZGT/NzMw+mpkZPwAAAD+amRk/mpkZP5qZGT8zMzM/mpkZP83MTD+amRk/ZmZmP5qZGT8AAIA/mpkZPwAAAAAzMzM/zczMPTMzMz/NzEw+MzMzP5qZmT4zMzM/zczMPjMzMz8AAAA/MzMzP5qZGT8zMzM/MzMzPzMzMz/NzEw/MzMzP2ZmZj8zMzM/AACAPzMzMz8AAAAAzcxMP83MzD3NzEw/zcxMPs3MTD+amZk+zcxMP83MzD7NzEw/AAAAP83MTD+amRk/zcxMPzMzMz/NzEw/zcxMP83MTD9mZmY/zcxMPwAAgD/NzEw/AAAAAGZmZj/NzMw9ZmZmP83MTD5mZmY/mpmZPmZmZj/NzMw+ZmZmPwAAAD9mZmY/mpkZP2ZmZj8zMzM/ZmZmP83MTD9mZmY/ZmZmP2ZmZj8AAIA/ZmZmPwAAAAAAAIA/zczMPQAAgD/NzEw+AACAP5qZmT4AAIA/zczMPgAAgD8AAAA/AACAP5qZGT8AAIA/MzMzPwAAgD/NzEw/AACAP2ZmZj8AAIA/AACAPwAAgD8=\"}]]},\"scene\":{\"type\":\"map\",\"entries\":[[\"parent\",\"93a1619a-5a85-4000-8a91-2ebeaf2d003a0x0\"],[\"id\",\"93a1619a-5a85-4000-8a91-2ebeaf2d003a0000000151f7f1b0\"],[\"type\",\"vtkCocoaRenderWindow\"],[\"properties\",{\"type\":\"map\",\"entries\":[[\"numberOfLayers\",2]]}],[\"dependencies\",[{\"type\":\"map\",\"entries\":[[\"parent\",\"93a1619a-5a85-4000-8a91-2ebeaf2d003a0000000151f7f1b0\"],[\"id\",\"93a1619a-5a85-4000-8a91-2ebeaf2d003a0000000155c75800\"],[\"type\",\"vtkOpenGLRenderer\"],[\"properties\",{\"type\":\"map\",\"entries\":[[\"background\",[1.0,1.0,1.0]],[\"background2\",[0.2,0.2,0.2]],[\"viewport\",[0.0,0.0,1.0,1.0]],[\"twoSidedLighting\",1],[\"lightFollowCamera\",1],[\"layer\",0],[\"preserveColorBuffer\",0],[\"preserveDepthBuffer\",0],[\"nearClippingPlaneTolerance\",0.001],[\"clippingRangeExpansion\",0.5],[\"useShadows\",0],[\"useDepthPeeling\",0],[\"occlusionRatio\",0.0],[\"maximumNumberOfPeels\",4],[\"interactive\",1]]}],[\"dependencies\",[{\"type\":\"map\",\"entries\":[[\"parent\",\"93a1619a-5a85-4000-8a91-2ebeaf2d003a0000000155c75800\"],[\"id\",\"00000001520dde90\"],[\"type\",\"vtkOpenGLCamera\"],[\"properties\",{\"type\":\"map\",\"entries\":[[\"focalPoint\",[0.0,0.0,0.0]],[\"position\",[1.5773502691896262,1.5773502691896262,1.5773502691896262]],[\"viewUp\",[0.0,0.0,1.0]],[\"clippingRange\",[1.5558032638058341,4.219293994002424]]]}]]},{\"type\":\"map\",\"entries\":[[\"parent\",\"93a1619a-5a85-4000-8a91-2ebeaf2d003a0000000155c75800\"],[\"id\",\"93a1619a-5a85-4000-8a91-2ebeaf2d003a00000001556a38c0\"],[\"type\",\"vtkOpenGLActor\"],[\"properties\",{\"type\":\"map\",\"entries\":[[\"visibility\",1],[\"pickable\",1],[\"dragable\",1],[\"useBounds\",true],[\"origin\",[0.0,0.0,0.0]],[\"position\",[0.0,0.0,0.0]],[\"scale\",[1.0,1.0,1.0]],[\"orientation\",[0.0,-0.0,0.0]],[\"userMatrix\",[1.0,0.0,0.0,0.0,0.0,1.0,0.0,0.0,0.0,0.0,1.0,0.0,0.0,0.0,0.0,1.0]],[\"forceOpaque\",false],[\"forceTranslucent\",false]]}],[\"calls\",[[\"setMapper\",[\"instance:${93a1619a-5a85-4000-8a91-2ebeaf2d003a00000001556a27e0}\"]],[\"setProperty\",[\"instance:${93a1619a-5a85-4000-8a91-2ebeaf2d003a00000001556a3e40}\"]]]],[\"dependencies\",[{\"type\":\"map\",\"entries\":[[\"parent\",\"93a1619a-5a85-4000-8a91-2ebeaf2d003a00000001556a38c0\"],[\"id\",\"93a1619a-5a85-4000-8a91-2ebeaf2d003a00000001556a27e0\"],[\"properties\",{\"type\":\"map\",\"entries\":[[\"resolveCoincidentTopology\",0],[\"renderTime\",0.0],[\"arrayAccessMode\",1],[\"scalarRange\",[0.0,1.0]],[\"useLookupTableScalarRange\",0],[\"scalarVisibility\",0],[\"colorByArrayName\",null],[\"colorMode\",0],[\"scalarMode\",0],[\"interpolateScalarsBeforeMapping\",1]]}],[\"calls\",[[\"setInputData\",[\"instance:${93a1619a-5a85-4000-8a91-2ebeaf2d003a00000001556a27e0-dataset-0}\",0]],[\"setLookupTable\",[\"instance:${93a1619a-5a85-4000-8a91-2ebeaf2d003a00000001556a2c30}\"]]]],[\"dependencies\",[{\"type\":\"map\",\"entries\":[[\"parent\",\"93a1619a-5a85-4000-8a91-2ebeaf2d003a00000001556a27e0\"],[\"id\",\"93a1619a-5a85-4000-8a91-2ebeaf2d003a00000001556a27e0-dataset-0\"],[\"type\",\"vtkPolyData\"],[\"properties\",{\"type\":\"map\",\"entries\":[[\"points\",{\"type\":\"map\",\"entries\":[[\"hash\",\"c70194274d321fbf232bc9de5f60de8f\"],[\"vtkClass\",\"vtkPoints\"],[\"name\",\"Points\"],[\"dataType\",\"Float32Array\"],[\"numberOfComponents\",3],[\"size\",363],[\"ranges\",[{\"type\":\"map\",\"entries\":[[\"min\",-0.5],[\"max\",0.5],[\"component\",null]]},{\"type\":\"map\",\"entries\":[[\"min\",-0.5],[\"max\",0.5],[\"component\",null]]},{\"type\":\"map\",\"entries\":[[\"min\",0.0],[\"max\",0.0],[\"component\",null]]},{\"type\":\"map\",\"entries\":[[\"min\",0.0],[\"max\",0.7071067811865476],[\"component\",null]]}]]]}],[\"polys\",{\"type\":\"map\",\"entries\":[[\"hash\",\"06e8100113814db8aa5e5bb4fb9ea196\"],[\"vtkClass\",\"vtkCellArray\"],[\"name\",null],[\"dataType\",\"Uint32Array\"],[\"numberOfComponents\",1],[\"size\",500],[\"ranges\",[{\"type\":\"map\",\"entries\":[[\"min\",0.0],[\"max\",120.0],[\"component\",null]]}]]]}],[\"fields\",[{\"type\":\"map\",\"entries\":[[\"hash\",\"9ff76cfc4faffd39a953da3605de207e\"],[\"vtkClass\",\"vtkDataArray\"],[\"name\",\"Normals\"],[\"dataType\",\"Float32Array\"],[\"numberOfComponents\",3],[\"size\",363],[\"ranges\",[{\"type\":\"map\",\"entries\":[[\"min\",0.0],[\"max\",0.0],[\"component\",null]]},{\"type\":\"map\",\"entries\":[[\"min\",0.0],[\"max\",0.0],[\"component\",null]]},{\"type\":\"map\",\"entries\":[[\"min\",1.0],[\"max\",1.0],[\"component\",null]]},{\"type\":\"map\",\"entries\":[[\"min\",1.0],[\"max\",1.0],[\"component\",null]]}]],[\"location\",\"pointData\"],[\"registration\",\"setNormals\"]]},{\"type\":\"map\",\"entries\":[[\"hash\",\"e4f0fd6e7c3ba82b10c4d4595fb118dd\"],[\"vtkClass\",\"vtkDataArray\"],[\"name\",\"TextureCoordinates\"],[\"dataType\",\"Float32Array\"],[\"numberOfComponents\",2],[\"size\",242],[\"ranges\",[{\"type\":\"map\",\"entries\":[[\"min\",0.0],[\"max\",1.0],[\"component\",null]]},{\"type\":\"map\",\"entries\":[[\"min\",0.0],[\"max\",1.0],[\"component\",null]]},{\"type\":\"map\",\"entries\":[[\"min\",0.0],[\"max\",1.4142135623730951],[\"component\",null]]}]],[\"location\",\"pointData\"],[\"registration\",\"setTCoords\"]]}]]]}]]},{\"type\":\"map\",\"entries\":[[\"parent\",\"93a1619a-5a85-4000-8a91-2ebeaf2d003a00000001556a27e0\"],[\"id\",\"93a1619a-5a85-4000-8a91-2ebeaf2d003a00000001556a2c30\"],[\"type\",\"vtkColorTransferFunction\"],[\"properties\",{\"type\":\"map\",\"entries\":[[\"clamping\",1],[\"colorSpace\",0],[\"hSVWrap\",1],[\"nanColor\",[0.5,0.0,0.0,1.0]],[\"belowRangeColor\",[0.0,0.0,0.0,1]],[\"aboveRangeColor\",[1.0,1.0,1.0,1]],[\"useAboveRangeColor\",0],[\"useBelowRangeColor\",0],[\"allowDuplicateScalars\",0],[\"alpha\",1.0],[\"vectorComponent\",0],[\"vectorSize\",-1],[\"vectorMode\",1],[\"indexedLookup\",0],[\"nodes\",[[0.0,1.0,0.0,0.0,0.5,0.0],[0.00392156862745098,1.0,0.0,0.0,0.5,0.0],[0.00784313725490196,1.0,0.0,0.0,0.5,0.0],[0.011764705882352941,1.0,0.00392156862745098,0.0,0.5,0.0],[0.01568627450980392,1.0,0.00784313725490196,0.0,0.5,0.0],[0.0196078431372549,1.0,0.011764705882352941,0.0,0.5,0.0],[0.023529411764705882,1.0,0.0196078431372549,0.0,0.5,0.0],[0.027450980392156862,1.0,0.027450980392156862,0.0,0.5,0.0],[0.03137254901960784,1.0,0.03529411764705882,0.0,0.5,0.0],[0.03529411764705882,1.0,0.047058823529411764,0.0,0.5,0.0],[0.0392156862745098,1.0,0.058823529411764705,0.0,0.5,0.0],[0.043137254901960784,1.0,0.07058823529411765,0.0,0.5,0.0],[0.047058823529411764,1.0,0.08235294117647059,0.0,0.5,0.0],[0.050980392156862744,1.0,0.09803921568627451,0.0,0.5,0.0],[0.054901960784313725,1.0,0.11372549019607843,0.0,0.5,0.0],[0.058823529411764705,1.0,0.12941176470588237,0.0,0.5,0.0],[0.06274509803921569,1.0,0.1450980392156863,0.0,0.5,0.0],[0.06666666666666667,1.0,0.16470588235294117,0.0,0.5,0.0],[0.07058823529411765,1.0,0.1803921568627451,0.0,0.5,0.0],[0.07450980392156863,1.0,0.2,0.0,0.5,0.0],[0.0784313725490196,1.0,0.2235294117647059,0.0,0.5,0.0],[0.08235294117647059,1.0,0.24313725490196078,0.0,0.5,0.0],[0.08627450980392157,1.0,0.2627450980392157,0.0,0.5,0.0],[0.09019607843137255,1.0,0.28627450980392155,0.0,0.5,0.0],[0.09411764705882353,1.0,0.30980392156862746,0.0,0.5,0.0],[0.09803921568627451,1.0,0.3333333333333333,0.0,0.5,0.0],[0.10196078431372549,1.0,0.3568627450980392,0.0,0.5,0.0],[0.10588235294117647,1.0,0.3803921568627451,0.0,0.5,0.0],[0.10980392156862745,1.0,0.403921568627451,0.0,0.5,0.0],[0.11372549019607843,1.0,0.42745098039215684,0.0,0.5,0.0],[0.11764705882352941,1.0,0.45098039215686275,0.0,0.5,0.0],[0.12156862745098039,1.0,0.47843137254901963,0.0,0.5,0.0],[0.12549019607843137,1.0,0.5019607843137255,0.0,0.5,0.0],[0.12941176470588234,1.0,0.5254901960784314,0.0,0.5,0.0],[0.13333333333333333,1.0,0.5490196078431373,0.0,0.5,0.0],[0.13725490196078433,1.0,0.5764705882352941,0.0,0.5,0.0],[0.1411764705882353,1.0,0.6,0.0,0.5,0.0],[0.14509803921568626,1.0,0.6235294117647059,0.0,0.5,0.0],[0.14901960784313725,1.0,0.6470588235294118,0.0,0.5,0.0],[0.15294117647058825,1.0,0.6705882352941176,0.0,0.5,0.0],[0.1568627450980392,1.0,0.6941176470588235,0.0,0.5,0.0],[0.16078431372549018,1.0,0.7137254901960784,0.0,0.5,0.0],[0.16470588235294117,1.0,0.7372549019607844,0.0,0.5,0.0],[0.16862745098039217,1.0,0.7568627450980392,0.0,0.5,0.0],[0.17254901960784313,1.0,0.7803921568627451,0.0,0.5,0.0],[0.1764705882352941,1.0,0.8,0.0,0.5,0.0],[0.1803921568627451,1.0,0.8196078431372549,0.0,0.5,0.0],[0.1843137254901961,1.0,0.8352941176470589,0.0,0.5,0.0],[0.18823529411764706,1.0,0.8549019607843137,0.0,0.5,0.0],[0.19215686274509802,1.0,0.8705882352941177,0.0,0.5,0.0],[0.19607843137254902,1.0,0.8862745098039215,0.0,0.5,0.0],[0.2,1.0,0.9019607843137255,0.0,0.5,0.0],[0.20392156862745098,1.0,0.9176470588235294,0.0,0.5,0.0],[0.20784313725490194,1.0,0.9294117647058824,0.0,0.5,0.0],[0.21176470588235294,1.0,0.9411764705882353,0.0,0.5,0.0],[0.21568627450980393,1.0,0.9529411764705882,0.0,0.5,0.0],[0.2196078431372549,1.0,0.9607843137254902,0.0,0.5,0.0],[0.22352941176470587,1.0,0.9725490196078431,0.0,0.5,0.0],[0.22745098039215686,1.0,0.9764705882352941,0.0,0.5,0.0],[0.23137254901960785,1.0,0.984313725490196,0.0,0.5,0.0],[0.23529411764705882,1.0,0.9882352941176471,0.0,0.5,0.0],[0.2392156862745098,1.0,0.9921568627450981,0.0,0.5,0.0],[0.24313725490196078,1.0,0.996078431372549,0.0,0.5,0.0],[0.24705882352941178,1.0,0.996078431372549,0.0,0.5,0.0],[0.25098039215686274,0.996078431372549,1.0,0.0,0.5,0.0],[0.2549019607843137,0.996078431372549,1.0,0.0,0.5,0.0],[0.2588235294117647,0.996078431372549,1.0,0.0,0.5,0.0],[0.2627450980392157,0.9921568627450981,1.0,0.0,0.5,0.0],[0.26666666666666666,0.9882352941176471,1.0,0.0,0.5,0.0],[0.27058823529411763,0.9803921568627451,1.0,0.0,0.5,0.0],[0.27450980392156865,0.9725490196078431,1.0,0.0,0.5,0.0],[0.2784313725490196,0.9647058823529412,1.0,0.0,0.5,0.0],[0.2823529411764706,0.9568627450980393,1.0,0.0,0.5,0.0],[0.28627450980392155,0.9450980392156862,1.0,0.0,0.5,0.0],[0.2901960784313725,0.9372549019607843,1.0,0.0,0.5,0.0],[0.29411764705882354,0.9215686274509803,1.0,0.0,0.5,0.0],[0.2980392156862745,0.9098039215686274,1.0,0.0,0.5,0.0],[0.30196078431372547,0.8941176470588236,1.0,0.0,0.5,0.0],[0.3058823529411765,0.8784313725490196,1.0,0.0,0.5,0.0],[0.30980392156862746,0.8627450980392157,1.0,0.0,0.5,0.0],[0.3137254901960784,0.8470588235294118,1.0,0.0,0.5,0.0],[0.3176470588235294,0.8274509803921568,1.0,0.0,0.5,0.0],[0.32156862745098036,0.807843137254902,1.0,0.0,0.5,0.0],[0.3254901960784314,0.788235294117647,1.0,0.0,0.5,0.0],[0.32941176470588235,0.7686274509803922,1.0,0.0,0.5,0.0],[0.3333333333333333,0.7490196078431373,1.0,0.0,0.5,0.0],[0.33725490196078434,0.7254901960784313,1.0,0.0,0.5,0.0],[0.3411764705882353,0.7058823529411765,1.0,0.0,0.5,0.0],[0.34509803921568627,0.6823529411764706,1.0,0.0,0.5,0.0],[0.34901960784313724,0.6588235294117647,1.0,0.0,0.5,0.0],[0.3529411764705882,0.6352941176470588,1.0,0.0,0.5,0.0],[0.3568627450980392,0.611764705882353,1.0,0.0,0.5,0.0],[0.3607843137254902,0.5882352941176471,1.0,0.0,0.5,0.0],[0.36470588235294116,0.5607843137254902,1.0,0.0,0.5,0.0],[0.3686274509803922,0.5372549019607843,1.0,0.0,0.5,0.0],[0.37254901960784315,0.5137254901960784,1.0,0.0,0.5,0.0],[0.3764705882352941,0.49019607843137253,1.0,0.0,0.5,0.0],[0.3803921568627451,0.4627450980392157,1.0,0.0,0.5,0.0],[0.38431372549019605,0.4392156862745098,1.0,0.0,0.5,0.0],[0.38823529411764707,0.41568627450980394,1.0,0.0,0.5,0.0],[0.39215686274509803,0.39215686274509803,1.0,0.0,0.5,0.0],[0.396078431372549,0.3686274509803922,1.0,0.0,0.5,0.0],[0.4,0.34509803921568627,1.0,0.0,0.5,0.0],[0.403921568627451,0.3215686274509804,1.0,0.0,0.5,0.0],[0.40784313725490196,0.2980392156862745,1.0,0.0,0.5,0.0],[0.4117647058823529,0.27450980392156865,1.0,0.0,0.5,0.0],[0.4156862745098039,0.2549019607843137,1.0,0.0,0.5,0.0],[0.4196078431372549,0.23137254901960785,1.0,0.0,0.5,0.0],[0.4235294117647059,0.21176470588235294,1.0,0.0,0.5,0.0],[0.42745098039215684,0.19215686274509805,1.0,0.0,0.5,0.0],[0.43137254901960786,0.17254901960784313,1.0,0.0,0.5,0.0],[0.43529411764705883,0.15294117647058825,1.0,0.0,0.5,0.0],[0.4392156862745098,0.13725490196078433,1.0,0.0,0.5,0.0],[0.44313725490196076,0.12156862745098039,1.0,0.0,0.5,0.0],[0.44705882352941173,0.10588235294117647,1.0,0.0,0.5,0.0],[0.45098039215686275,0.09019607843137255,1.0,0.0,0.5,0.0],[0.4549019607843137,0.07450980392156863,1.0,0.0,0.5,0.0],[0.4588235294117647,0.06274509803921569,1.0,0.0,0.5,0.0],[0.4627450980392157,0.050980392156862744,1.0,0.0,0.5,0.0],[0.4666666666666667,0.043137254901960784,1.0,0.0,0.5,0.0],[0.47058823529411764,0.03137254901960784,1.0,0.0,0.5,0.0],[0.4745098039215686,0.023529411764705882,1.0,0.0,0.5,0.0],[0.4784313725490196,0.01568627450980392,1.0,0.0,0.5,0.0],[0.4823529411764706,0.011764705882352941,1.0,0.0,0.5,0.0],[0.48627450980392156,0.00392156862745098,1.0,0.0,0.5,0.0],[0.49019607843137253,0.0,1.0,0.0,0.5,0.0],[0.49411764705882355,0.0,1.0,0.0,0.5,0.0],[0.4980392156862745,0.0,1.0,0.0,0.5,0.0],[0.5019607843137255,0.0,1.0,0.0,0.5,0.0],[0.5058823529411764,0.0,1.0,0.0,0.5,0.0],[0.5098039215686274,0.0,1.0,0.0,0.5,0.0],[0.5137254901960784,0.0,1.0,0.00392156862745098,0.5,0.0],[0.5176470588235293,0.0,1.0,0.011764705882352941,0.5,0.0],[0.5215686274509804,0.0,1.0,0.01568627450980392,0.5,0.0],[0.5254901960784314,0.0,1.0,0.023529411764705882,0.5,0.0],[0.5294117647058824,0.0,1.0,0.03137254901960784,0.5,0.0],[0.5333333333333333,0.0,1.0,0.043137254901960784,0.5,0.0],[0.5372549019607843,0.0,1.0,0.050980392156862744,0.5,0.0],[0.5411764705882353,0.0,1.0,0.06274509803921569,0.5,0.0],[0.5450980392156862,0.0,1.0,0.07450980392156863,0.5,0.0],[0.5490196078431373,0.0,1.0,0.09019607843137255,0.5,0.0],[0.5529411764705883,0.0,1.0,0.10588235294117647,0.5,0.0],[0.5568627450980392,0.0,1.0,0.12156862745098039,0.5,0.0],[0.5607843137254902,0.0,1.0,0.13725490196078433,0.5,0.0],[0.5647058823529412,0.0,1.0,0.15294117647058825,0.5,0.0],[0.5686274509803921,0.0,1.0,0.17254901960784313,0.5,0.0],[0.5725490196078431,0.0,1.0,0.19215686274509805,0.5,0.0],[0.5764705882352941,0.0,1.0,0.21176470588235294,0.5,0.0],[0.580392156862745,0.0,1.0,0.23137254901960785,0.5,0.0],[0.5843137254901961,0.0,1.0,0.2549019607843137,0.5,0.0],[0.5882352941176471,0.0,1.0,0.27450980392156865,0.5,0.0],[0.592156862745098,0.0,1.0,0.2980392156862745,0.5,0.0],[0.596078431372549,0.0,1.0,0.3215686274509804,0.5,0.0],[0.6,0.0,1.0,0.34509803921568627,0.5,0.0],[0.6039215686274509,0.0,1.0,0.3686274509803922,0.5,0.0],[0.6078431372549019,0.0,1.0,0.39215686274509803,0.5,0.0],[0.611764705882353,0.0,1.0,0.41568627450980394,0.5,0.0],[0.615686274509804,0.0,1.0,0.4392156862745098,0.5,0.0],[0.6196078431372549,0.0,1.0,0.4627450980392157,0.5,0.0],[0.6235294117647059,0.0,1.0,0.49019607843137253,0.5,0.0],[0.6274509803921569,0.0,1.0,0.5137254901960784,0.5,0.0],[0.6313725490196078,0.0,1.0,0.5372549019607843,0.5,0.0],[0.6352941176470588,0.0,1.0,0.5607843137254902,0.5,0.0],[0.6392156862745098,0.0,1.0,0.5882352941176471,0.5,0.0],[0.6431372549019607,0.0,1.0,0.611764705882353,0.5,0.0],[0.6470588235294118,0.0,1.0,0.6352941176470588,0.5,0.0],[0.6509803921568628,0.0,1.0,0.6588235294117647,0.5,0.0],[0.6549019607843137,0.0,1.0,0.6823529411764706,0.5,0.0],[0.6588235294117647,0.0,1.0,0.7058823529411765,0.5,0.0],[0.6627450980392157,0.0,1.0,0.7254901960784313,0.5,0.0],[0.6666666666666666,0.0,1.0,0.7490196078431373,0.5,0.0],[0.6705882352941176,0.0,1.0,0.7686274509803922,0.5,0.0],[0.6745098039215687,0.0,1.0,0.788235294117647,0.5,0.0],[0.6784313725490196,0.0,1.0,0.807843137254902,0.5,0.0],[0.6823529411764706,0.0,1.0,0.8274509803921568,0.5,0.0],[0.6862745098039216,0.0,1.0,0.8470588235294118,0.5,0.0],[0.6901960784313725,0.0,1.0,0.8627450980392157,0.5,0.0],[0.6941176470588235,0.0,1.0,0.8784313725490196,0.5,0.0],[0.6980392156862745,0.0,1.0,0.8941176470588236,0.5,0.0],[0.7019607843137254,0.0,1.0,0.9098039215686274,0.5,0.0],[0.7058823529411764,0.0,1.0,0.9215686274509803,0.5,0.0],[0.7098039215686275,0.0,1.0,0.9372549019607843,0.5,0.0],[0.7137254901960784,0.0,1.0,0.9450980392156862,0.5,0.0],[0.7176470588235294,0.0,1.0,0.9568627450980393,0.5,0.0],[0.7215686274509804,0.0,1.0,0.9647058823529412,0.5,0.0],[0.7254901960784313,0.0,1.0,0.9764705882352941,0.5,0.0],[0.7294117647058823,0.0,1.0,0.9803921568627451,0.5,0.0],[0.7333333333333333,0.0,1.0,0.9882352941176471,0.5,0.0],[0.7372549019607844,0.0,1.0,0.9921568627450981,0.5,0.0],[0.7411764705882353,0.0,1.0,0.996078431372549,0.5,0.0],[0.7450980392156863,0.0,1.0,0.996078431372549,0.5,0.0],[0.7490196078431373,0.0,1.0,0.996078431372549,0.5,0.0],[0.7529411764705882,0.0,0.996078431372549,1.0,0.5,0.0],[0.7568627450980392,0.0,0.996078431372549,1.0,0.5,0.0],[0.7607843137254902,0.0,0.9921568627450981,1.0,0.5,0.0],[0.7647058823529411,0.0,0.9882352941176471,1.0,0.5,0.0],[0.7686274509803921,0.0,0.984313725490196,1.0,0.5,0.0],[0.7725490196078432,0.0,0.9764705882352941,1.0,0.5,0.0],[0.7764705882352941,0.0,0.9725490196078431,1.0,0.5,0.0],[0.7803921568627451,0.0,0.9607843137254902,1.0,0.5,0.0],[0.7843137254901961,0.0,0.9529411764705882,1.0,0.5,0.0],[0.788235294117647,0.0,0.9411764705882353,1.0,0.5,0.0],[0.792156862745098,0.0,0.9294117647058824,1.0,0.5,0.0],[0.796078431372549,0.0,0.9176470588235294,1.0,0.5,0.0],[0.8,0.0,0.9019607843137255,1.0,0.5,0.0],[0.803921568627451,0.0,0.8862745098039215,1.0,0.5,0.0],[0.807843137254902,0.0,0.8705882352941177,1.0,0.5,0.0],[0.8117647058823529,0.0,0.8549019607843137,1.0,0.5,0.0],[0.8156862745098039,0.0,0.8352941176470589,1.0,0.5,0.0],[0.8196078431372549,0.0,0.8196078431372549,1.0,0.5,0.0],[0.8235294117647058,0.0,0.8,1.0,0.5,0.0],[0.8274509803921568,0.0,0.7803921568627451,1.0,0.5,0.0],[0.8313725490196078,0.0,0.7568627450980392,1.0,0.5,0.0],[0.8352941176470589,0.0,0.7372549019607844,1.0,0.5,0.0],[0.8392156862745098,0.0,0.7137254901960784,1.0,0.5,0.0],[0.8431372549019608,0.0,0.6941176470588235,1.0,0.5,0.0],[0.8470588235294118,0.0,0.6705882352941176,1.0,0.5,0.0],[0.8509803921568627,0.0,0.6470588235294118,1.0,0.5,0.0],[0.8549019607843137,0.0,0.6235294117647059,1.0,0.5,0.0],[0.8588235294117647,0.0,0.6,1.0,0.5,0.0],[0.8627450980392157,0.0,0.5764705882352941,1.0,0.5,0.0],[0.8666666666666667,0.0,0.5490196078431373,1.0,0.5,0.0],[0.8705882352941177,0.0,0.5254901960784314,1.0,0.5,0.0],[0.8745098039215686,0.0,0.5019607843137255,1.0,0.5,0.0],[0.8784313725490196,0.0,0.4745098039215686,1.0,0.5,0.0],[0.8823529411764706,0.0,0.45098039215686275,1.0,0.5,0.0],[0.8862745098039215,0.0,0.42745098039215684,1.0,0.5,0.0],[0.8901960784313725,0.0,0.403921568627451,1.0,0.5,0.0],[0.8941176470588235,0.0,0.3803921568627451,1.0,0.5,0.0],[0.8980392156862745,0.0,0.3568627450980392,1.0,0.5,0.0],[0.9019607843137255,0.0,0.3333333333333333,1.0,0.5,0.0],[0.9058823529411765,0.0,0.30980392156862746,1.0,0.5,0.0],[0.9098039215686274,0.0,0.28627450980392155,1.0,0.5,0.0],[0.9137254901960784,0.0,0.2627450980392157,1.0,0.5,0.0],[0.9176470588235294,0.0,0.24313725490196078,1.0,0.5,0.0],[0.9215686274509803,0.0,0.2235294117647059,1.0,0.5,0.0],[0.9254901960784314,0.0,0.2,1.0,0.5,0.0],[0.9294117647058824,0.0,0.1803921568627451,1.0,0.5,0.0],[0.9333333333333333,0.0,0.16470588235294117,1.0,0.5,0.0],[0.9372549019607843,0.0,0.1450980392156863,1.0,0.5,0.0],[0.9411764705882353,0.0,0.12941176470588237,1.0,0.5,0.0],[0.9450980392156862,0.0,0.11372549019607843,1.0,0.5,0.0],[0.9490196078431372,0.0,0.09803921568627451,1.0,0.5,0.0],[0.9529411764705882,0.0,0.08235294117647059,1.0,0.5,0.0],[0.9568627450980391,0.0,0.07058823529411765,1.0,0.5,0.0],[0.9607843137254902,0.0,0.058823529411764705,1.0,0.5,0.0],[0.9647058823529412,0.0,0.047058823529411764,1.0,0.5,0.0],[0.9686274509803922,0.0,0.03529411764705882,1.0,0.5,0.0],[0.9725490196078431,0.0,0.027450980392156862,1.0,0.5,0.0],[0.9764705882352941,0.0,0.0196078431372549,1.0,0.5,0.0],[0.9803921568627451,0.0,0.011764705882352941,1.0,0.5,0.0],[0.984313725490196,0.0,0.00784313725490196,1.0,0.5,0.0],[0.9882352941176471,0.0,0.00392156862745098,1.0,0.5,0.0],[0.9921568627450981,0.0,0.0,1.0,0.5,0.0],[0.996078431372549,0.0,0.0,1.0,0.5,0.0],[1.0,0.0,0.0,1.0,0.5,0.0]]]]}]]}]],[\"type\",\"vtkDataSetMapper\"]]},{\"type\":\"map\",\"entries\":[[\"parent\",\"93a1619a-5a85-4000-8a91-2ebeaf2d003a00000001556a38c0\"],[\"id\",\"93a1619a-5a85-4000-8a91-2ebeaf2d003a00000001556a3e40\"],[\"type\",\"vtkOpenGLProperty\"],[\"properties\",{\"type\":\"map\",\"entries\":[[\"representation\",2],[\"diffuseColor\",[0.0,0.0,1.0]],[\"color\",[0.0,0.0,1.0]],[\"ambientColor\",[0.0,0.0,1.0]],[\"specularColor\",[0.0,0.0,1.0]],[\"edgeColor\",[0.0,0.0,0.0]],[\"ambient\",0.0],[\"diffuse\",1.0],[\"specular\",0.0],[\"specularPower\",100.0],[\"opacity\",1.0],[\"interpolation\",0],[\"edgeVisibility\",1],[\"backfaceCulling\",0],[\"frontfaceCulling\",0],[\"pointSize\",5.0],[\"lineWidth\",1.0],[\"lighting\",1]]}]]}]]]}]],[\"calls\",[[\"setActiveCamera\",[\"instance:${00000001520dde90}\"]],[\"addViewProp\",[\"instance:${93a1619a-5a85-4000-8a91-2ebeaf2d003a00000001556a38c0}\"]]]]]},{\"type\":\"map\",\"entries\":[[\"parent\",\"93a1619a-5a85-4000-8a91-2ebeaf2d003a0000000151f7f1b0\"],[\"id\",\"93a1619a-5a85-4000-8a91-2ebeaf2d003a0000000155f07000\"],[\"type\",\"vtkOpenGLRenderer\"],[\"properties\",{\"type\":\"map\",\"entries\":[[\"background\",[1.0,1.0,1.0]],[\"background2\",[0.2,0.2,0.2]],[\"viewport\",[0.0,0.0,1.0,1.0]],[\"twoSidedLighting\",1],[\"lightFollowCamera\",1],[\"layer\",1],[\"preserveColorBuffer\",1],[\"preserveDepthBuffer\",0],[\"nearClippingPlaneTolerance\",0.0],[\"clippingRangeExpansion\",0.5],[\"useShadows\",0],[\"useDepthPeeling\",0],[\"occlusionRatio\",0.0],[\"maximumNumberOfPeels\",4],[\"interactive\",0]]}],[\"dependencies\",[{\"type\":\"map\",\"entries\":[[\"parent\",\"93a1619a-5a85-4000-8a91-2ebeaf2d003a0000000155f07000\"],[\"id\",\"000000015569b120\"],[\"type\",\"vtkOpenGLCamera\"],[\"properties\",{\"type\":\"map\",\"entries\":[[\"focalPoint\",[0.0,0.0,0.0]],[\"position\",[0.0,0.0,1.0]],[\"viewUp\",[0.0,1.0,0.0]],[\"clippingRange\",[0.01,1000.01]]]}]]}]],[\"calls\",[[\"setActiveCamera\",[\"instance:${000000015569b120}\"]]]]]}]],[\"calls\",[[\"addRenderer\",[\"instance:${93a1619a-5a85-4000-8a91-2ebeaf2d003a0000000155c75800}\"]],[\"addRenderer\",[\"instance:${93a1619a-5a85-4000-8a91-2ebeaf2d003a0000000155f07000}\"]]]],[\"mtime\",10269]]}}},{\"type\":\"object\",\"name\":\"panel.models.comm_manager.CommManager\",\"id\":\"592239bd-3e5b-4ad7-b774-822a00aeddbc\",\"attributes\":{\"plot_id\":\"dae0b2b2-6f48-4727-9ce6-66a89c028ac5\",\"comm_id\":\"4cc6bf273003488e9b4b11c58b515f2a\",\"client_comm_id\":\"db8292210b42443b8842fa20efca2ab2\"}}],\"defs\":[{\"type\":\"model\",\"name\":\"ReactiveHTML1\"},{\"type\":\"model\",\"name\":\"FlexBox1\",\"properties\":[{\"name\":\"align_content\",\"kind\":\"Any\",\"default\":\"flex-start\"},{\"name\":\"align_items\",\"kind\":\"Any\",\"default\":\"flex-start\"},{\"name\":\"flex_direction\",\"kind\":\"Any\",\"default\":\"row\"},{\"name\":\"flex_wrap\",\"kind\":\"Any\",\"default\":\"wrap\"},{\"name\":\"gap\",\"kind\":\"Any\",\"default\":\"\"},{\"name\":\"justify_content\",\"kind\":\"Any\",\"default\":\"flex-start\"}]},{\"type\":\"model\",\"name\":\"FloatPanel1\",\"properties\":[{\"name\":\"config\",\"kind\":\"Any\",\"default\":{\"type\":\"map\"}},{\"name\":\"contained\",\"kind\":\"Any\",\"default\":true},{\"name\":\"position\",\"kind\":\"Any\",\"default\":\"right-top\"},{\"name\":\"offsetx\",\"kind\":\"Any\",\"default\":null},{\"name\":\"offsety\",\"kind\":\"Any\",\"default\":null},{\"name\":\"theme\",\"kind\":\"Any\",\"default\":\"primary\"},{\"name\":\"status\",\"kind\":\"Any\",\"default\":\"normalized\"}]},{\"type\":\"model\",\"name\":\"GridStack1\",\"properties\":[{\"name\":\"mode\",\"kind\":\"Any\",\"default\":\"warn\"},{\"name\":\"ncols\",\"kind\":\"Any\",\"default\":null},{\"name\":\"nrows\",\"kind\":\"Any\",\"default\":null},{\"name\":\"allow_resize\",\"kind\":\"Any\",\"default\":true},{\"name\":\"allow_drag\",\"kind\":\"Any\",\"default\":true},{\"name\":\"state\",\"kind\":\"Any\",\"default\":[]}]},{\"type\":\"model\",\"name\":\"drag1\",\"properties\":[{\"name\":\"slider_width\",\"kind\":\"Any\",\"default\":5},{\"name\":\"slider_color\",\"kind\":\"Any\",\"default\":\"black\"},{\"name\":\"value\",\"kind\":\"Any\",\"default\":50}]},{\"type\":\"model\",\"name\":\"click1\",\"properties\":[{\"name\":\"terminal_output\",\"kind\":\"Any\",\"default\":\"\"},{\"name\":\"debug_name\",\"kind\":\"Any\",\"default\":\"\"},{\"name\":\"clears\",\"kind\":\"Any\",\"default\":0}]},{\"type\":\"model\",\"name\":\"FastWrapper1\",\"properties\":[{\"name\":\"object\",\"kind\":\"Any\",\"default\":null},{\"name\":\"style\",\"kind\":\"Any\",\"default\":null}]},{\"type\":\"model\",\"name\":\"NotificationAreaBase1\",\"properties\":[{\"name\":\"js_events\",\"kind\":\"Any\",\"default\":{\"type\":\"map\"}},{\"name\":\"position\",\"kind\":\"Any\",\"default\":\"bottom-right\"},{\"name\":\"_clear\",\"kind\":\"Any\",\"default\":0}]},{\"type\":\"model\",\"name\":\"NotificationArea1\",\"properties\":[{\"name\":\"js_events\",\"kind\":\"Any\",\"default\":{\"type\":\"map\"}},{\"name\":\"notifications\",\"kind\":\"Any\",\"default\":[]},{\"name\":\"position\",\"kind\":\"Any\",\"default\":\"bottom-right\"},{\"name\":\"_clear\",\"kind\":\"Any\",\"default\":0},{\"name\":\"types\",\"kind\":\"Any\",\"default\":[{\"type\":\"map\",\"entries\":[[\"type\",\"warning\"],[\"background\",\"#ffc107\"],[\"icon\",{\"type\":\"map\",\"entries\":[[\"className\",\"fas fa-exclamation-triangle\"],[\"tagName\",\"i\"],[\"color\",\"white\"]]}]]},{\"type\":\"map\",\"entries\":[[\"type\",\"info\"],[\"background\",\"#007bff\"],[\"icon\",{\"type\":\"map\",\"entries\":[[\"className\",\"fas fa-info-circle\"],[\"tagName\",\"i\"],[\"color\",\"white\"]]}]]}]}]},{\"type\":\"model\",\"name\":\"Notification\",\"properties\":[{\"name\":\"background\",\"kind\":\"Any\",\"default\":null},{\"name\":\"duration\",\"kind\":\"Any\",\"default\":3000},{\"name\":\"icon\",\"kind\":\"Any\",\"default\":null},{\"name\":\"message\",\"kind\":\"Any\",\"default\":\"\"},{\"name\":\"notification_type\",\"kind\":\"Any\",\"default\":null},{\"name\":\"_destroyed\",\"kind\":\"Any\",\"default\":false}]},{\"type\":\"model\",\"name\":\"TemplateActions1\",\"properties\":[{\"name\":\"open_modal\",\"kind\":\"Any\",\"default\":0},{\"name\":\"close_modal\",\"kind\":\"Any\",\"default\":0}]},{\"type\":\"model\",\"name\":\"BootstrapTemplateActions1\",\"properties\":[{\"name\":\"open_modal\",\"kind\":\"Any\",\"default\":0},{\"name\":\"close_modal\",\"kind\":\"Any\",\"default\":0}]},{\"type\":\"model\",\"name\":\"TemplateEditor1\",\"properties\":[{\"name\":\"layout\",\"kind\":\"Any\",\"default\":[]}]},{\"type\":\"model\",\"name\":\"MaterialTemplateActions1\",\"properties\":[{\"name\":\"open_modal\",\"kind\":\"Any\",\"default\":0},{\"name\":\"close_modal\",\"kind\":\"Any\",\"default\":0}]},{\"type\":\"model\",\"name\":\"ReactiveESM1\"},{\"type\":\"model\",\"name\":\"JSComponent1\"},{\"type\":\"model\",\"name\":\"ReactComponent1\"},{\"type\":\"model\",\"name\":\"AnyWidgetComponent1\"},{\"type\":\"model\",\"name\":\"request_value1\",\"properties\":[{\"name\":\"fill\",\"kind\":\"Any\",\"default\":\"none\"},{\"name\":\"_synced\",\"kind\":\"Any\",\"default\":null},{\"name\":\"_request_sync\",\"kind\":\"Any\",\"default\":0}]}]}};\n",
       "  var render_items = [{\"docid\":\"ee4b4ae1-b5ee-4980-a584-09f845289383\",\"roots\":{\"dae0b2b2-6f48-4727-9ce6-66a89c028ac5\":\"ad12643a-1946-45f7-9703-5fd855e71b8f\"},\"root_ids\":[\"dae0b2b2-6f48-4727-9ce6-66a89c028ac5\"]}];\n",
       "  var docs = Object.values(docs_json)\n",
       "  if (!docs) {\n",
       "    return\n",
       "  }\n",
       "  const py_version = docs[0].version.replace('rc', '-rc.').replace('.dev', '-dev.')\n",
       "  async function embed_document(root) {\n",
       "    var Bokeh = get_bokeh(root)\n",
       "    await Bokeh.embed.embed_items_notebook(docs_json, render_items);\n",
       "    for (const render_item of render_items) {\n",
       "      for (const root_id of render_item.root_ids) {\n",
       "\tconst id_el = document.getElementById(root_id)\n",
       "\tif (id_el.children.length && id_el.children[0].hasAttribute('data-root-id')) {\n",
       "\t  const root_el = id_el.children[0]\n",
       "\t  root_el.id = root_el.id + '-rendered'\n",
       "\t  for (const child of root_el.children) {\n",
       "            // Ensure JupyterLab does not capture keyboard shortcuts\n",
       "            // see: https://jupyterlab.readthedocs.io/en/4.1.x/extension/notebook.html#keyboard-interaction-model\n",
       "\t    child.setAttribute('data-lm-suppress-shortcuts', 'true')\n",
       "\t  }\n",
       "\t}\n",
       "      }\n",
       "    }\n",
       "  }\n",
       "  function get_bokeh(root) {\n",
       "    if (root.Bokeh === undefined) {\n",
       "      return null\n",
       "    } else if (root.Bokeh.version !== py_version) {\n",
       "      if (root.Bokeh.versions === undefined || !root.Bokeh.versions.has(py_version)) {\n",
       "\treturn null\n",
       "      }\n",
       "      return root.Bokeh.versions.get(py_version);\n",
       "    } else if (root.Bokeh.version === py_version) {\n",
       "      return root.Bokeh\n",
       "    }\n",
       "    return null\n",
       "  }\n",
       "  function is_loaded(root) {\n",
       "    var Bokeh = get_bokeh(root)\n",
       "    return (Bokeh != null && Bokeh.Panel !== undefined && ( root.vtk !== undefined) && ( root.vtk !== undefined))\n",
       "  }\n",
       "  if (is_loaded(root)) {\n",
       "    embed_document(root);\n",
       "  } else {\n",
       "    var attempts = 0;\n",
       "    var timer = setInterval(function(root) {\n",
       "      if (is_loaded(root)) {\n",
       "        clearInterval(timer);\n",
       "        embed_document(root);\n",
       "      } else if (document.readyState == \"complete\") {\n",
       "        attempts++;\n",
       "        if (attempts > 200) {\n",
       "          clearInterval(timer);\n",
       "\t  var Bokeh = get_bokeh(root)\n",
       "\t  if (Bokeh == null || Bokeh.Panel == null) {\n",
       "            console.warn(\"Panel: ERROR: Unable to run Panel code because Bokeh or Panel library is missing\");\n",
       "\t  } else {\n",
       "\t    console.warn(\"Panel: WARNING: Attempting to render but not all required libraries could be resolved.\")\n",
       "\t    embed_document(root)\n",
       "\t  }\n",
       "        }\n",
       "      }\n",
       "    }, 25, root)\n",
       "  }\n",
       "})(window);</script>"
      ],
      "text/plain": [
       "VTKRenderWindowSynchronized(vtkCocoaRenderWindow, height=400, sizing_mode='fixed', width=400)"
      ]
     },
     "metadata": {
      "application/vnd.holoviews_exec.v0+json": {
       "id": "dae0b2b2-6f48-4727-9ce6-66a89c028ac5"
      },
      "scrapbook": {
       "mime_prefix": "",
       "name": "img"
      }
     },
     "output_type": "display_data"
    }
   ],
   "source": [
    "from myst_nb import glue\n",
    "glue(\"img\", interactive_panel)"
   ]
  },
  {
   "cell_type": "markdown",
   "id": "cb9a9a02-95e6-473b-b451-88f0048ffa47",
   "metadata": {
    "editable": true,
    "slideshow": {
     "slide_type": ""
    },
    "tags": []
   },
   "source": [
    "Lorem ipsum dolor sit amet, consectetur adipiscing elit. Sed non risus. Suspendisse lectus tortor, dignissim sit amet, adipiscing nec, ultricies sed, dolor. Cras elementum ultrices diam. Maecenas ligula massa, varius a, semper congue, euismod non, mi. Proin porttitor, orci nec nonummy molestie, enim est eleifend mi, non fermentum diam nisl sit amet erat. Duis semper. Duis arcu massa, scelerisque vitae, consequat in, pretium a, enim. Pellentesque congue. Ut in risus volutpat libero pharetra tempor. Cras vestibulum bibendum augue. Praesent egestas leo in pede. Praesent blandit odio eu enim. Pellentesque sed dui ut augue blandit sodales. Vestibulum ante ipsum primis in faucibus orci luctus et ultrices posuere cubilia Curae; Aliquam nibh. Mauris ac mauris sed pede pellentesque fermentum. Maecenas adipiscing ante non diam sodales hendrerit. : {glue:}`img`"
   ]
  },
  {
   "cell_type": "markdown",
   "id": "61c86f69-0d0d-46e9-83e9-435feb020523",
   "metadata": {
    "editable": true,
    "slideshow": {
     "slide_type": ""
    },
    "tags": []
   },
   "source": [
    "cell moving"
   ]
  },
  {
   "cell_type": "code",
   "execution_count": null,
   "id": "2fa6564a-6e7d-4949-afc8-8954ea04aacf",
   "metadata": {
    "editable": true,
    "slideshow": {
     "slide_type": ""
    },
    "tags": []
   },
   "outputs": [],
   "source": []
  }
 ],
 "metadata": {
  "kernelspec": {
   "display_name": "Python (fenicsx-env)",
   "language": "python",
   "name": "fenicsx-env"
  },
  "language_info": {
   "codemirror_mode": {
    "name": "ipython",
    "version": 3
   },
   "file_extension": ".py",
   "mimetype": "text/x-python",
   "name": "python",
   "nbconvert_exporter": "python",
   "pygments_lexer": "ipython3",
   "version": "3.12.4"
  }
 },
 "nbformat": 4,
 "nbformat_minor": 5
}
